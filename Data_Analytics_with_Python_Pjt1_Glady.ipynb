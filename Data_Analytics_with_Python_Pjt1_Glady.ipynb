{
 "cells": [
  {
   "cell_type": "code",
   "execution_count": 2,
   "id": "fb61aa22",
   "metadata": {},
   "outputs": [],
   "source": [
    "import numpy as np\n",
    "import pandas as pd"
   ]
  },
  {
   "cell_type": "code",
   "execution_count": 3,
   "id": "53eaa982",
   "metadata": {},
   "outputs": [
    {
     "name": "stdout",
     "output_type": "stream",
     "text": [
      "Requirement already satisfied: openpyxl in c:\\users\\glady\\anaconda3\\lib\\site-packages (3.0.10)\n",
      "Requirement already satisfied: et_xmlfile in c:\\users\\glady\\anaconda3\\lib\\site-packages (from openpyxl) (1.1.0)\n"
     ]
    }
   ],
   "source": [
    "!pip install openpyxl"
   ]
  },
  {
   "cell_type": "code",
   "execution_count": 4,
   "id": "74c48b86",
   "metadata": {},
   "outputs": [],
   "source": [
    "df = pd.read_excel(\"default_of_credit_card_clients_0.xlsx\")"
   ]
  },
  {
   "cell_type": "code",
   "execution_count": 311,
   "id": "4b6616fd",
   "metadata": {},
   "outputs": [
    {
     "data": {
      "text/plain": [
       "(30000, 37)"
      ]
     },
     "execution_count": 311,
     "metadata": {},
     "output_type": "execute_result"
    }
   ],
   "source": [
    "df.shape"
   ]
  },
  {
   "cell_type": "code",
   "execution_count": 5,
   "id": "09d4b61c",
   "metadata": {},
   "outputs": [
    {
     "data": {
      "text/html": [
       "<div>\n",
       "<style scoped>\n",
       "    .dataframe tbody tr th:only-of-type {\n",
       "        vertical-align: middle;\n",
       "    }\n",
       "\n",
       "    .dataframe tbody tr th {\n",
       "        vertical-align: top;\n",
       "    }\n",
       "\n",
       "    .dataframe thead th {\n",
       "        text-align: right;\n",
       "    }\n",
       "</style>\n",
       "<table border=\"1\" class=\"dataframe\">\n",
       "  <thead>\n",
       "    <tr style=\"text-align: right;\">\n",
       "      <th></th>\n",
       "      <th>ID</th>\n",
       "      <th>LIMIT_BAL</th>\n",
       "      <th>SEX</th>\n",
       "      <th>EDUCATION</th>\n",
       "      <th>MARRIAGE</th>\n",
       "      <th>AGE</th>\n",
       "      <th>PAY_0</th>\n",
       "      <th>PAY_2</th>\n",
       "      <th>PAY_3</th>\n",
       "      <th>PAY_4</th>\n",
       "      <th>...</th>\n",
       "      <th>BILL_AMT4</th>\n",
       "      <th>BILL_AMT5</th>\n",
       "      <th>BILL_AMT6</th>\n",
       "      <th>PAY_AMT1</th>\n",
       "      <th>PAY_AMT2</th>\n",
       "      <th>PAY_AMT3</th>\n",
       "      <th>PAY_AMT4</th>\n",
       "      <th>PAY_AMT5</th>\n",
       "      <th>PAY_AMT6</th>\n",
       "      <th>default payment next month</th>\n",
       "    </tr>\n",
       "  </thead>\n",
       "  <tbody>\n",
       "    <tr>\n",
       "      <th>29995</th>\n",
       "      <td>29996</td>\n",
       "      <td>220000</td>\n",
       "      <td>1</td>\n",
       "      <td>3</td>\n",
       "      <td>1</td>\n",
       "      <td>39</td>\n",
       "      <td>0</td>\n",
       "      <td>0</td>\n",
       "      <td>0</td>\n",
       "      <td>0</td>\n",
       "      <td>...</td>\n",
       "      <td>88004</td>\n",
       "      <td>31237</td>\n",
       "      <td>15980</td>\n",
       "      <td>8500</td>\n",
       "      <td>20000</td>\n",
       "      <td>5003</td>\n",
       "      <td>3047</td>\n",
       "      <td>5000</td>\n",
       "      <td>1000</td>\n",
       "      <td>0</td>\n",
       "    </tr>\n",
       "    <tr>\n",
       "      <th>29996</th>\n",
       "      <td>29997</td>\n",
       "      <td>150000</td>\n",
       "      <td>1</td>\n",
       "      <td>3</td>\n",
       "      <td>2</td>\n",
       "      <td>43</td>\n",
       "      <td>0</td>\n",
       "      <td>0</td>\n",
       "      <td>0</td>\n",
       "      <td>0</td>\n",
       "      <td>...</td>\n",
       "      <td>8979</td>\n",
       "      <td>5190</td>\n",
       "      <td>0</td>\n",
       "      <td>1837</td>\n",
       "      <td>3526</td>\n",
       "      <td>8998</td>\n",
       "      <td>129</td>\n",
       "      <td>0</td>\n",
       "      <td>0</td>\n",
       "      <td>0</td>\n",
       "    </tr>\n",
       "    <tr>\n",
       "      <th>29997</th>\n",
       "      <td>29998</td>\n",
       "      <td>30000</td>\n",
       "      <td>1</td>\n",
       "      <td>2</td>\n",
       "      <td>2</td>\n",
       "      <td>37</td>\n",
       "      <td>4</td>\n",
       "      <td>3</td>\n",
       "      <td>2</td>\n",
       "      <td>0</td>\n",
       "      <td>...</td>\n",
       "      <td>20878</td>\n",
       "      <td>20582</td>\n",
       "      <td>19357</td>\n",
       "      <td>0</td>\n",
       "      <td>0</td>\n",
       "      <td>22000</td>\n",
       "      <td>4200</td>\n",
       "      <td>2000</td>\n",
       "      <td>3100</td>\n",
       "      <td>1</td>\n",
       "    </tr>\n",
       "    <tr>\n",
       "      <th>29998</th>\n",
       "      <td>29999</td>\n",
       "      <td>80000</td>\n",
       "      <td>1</td>\n",
       "      <td>3</td>\n",
       "      <td>1</td>\n",
       "      <td>41</td>\n",
       "      <td>1</td>\n",
       "      <td>0</td>\n",
       "      <td>0</td>\n",
       "      <td>0</td>\n",
       "      <td>...</td>\n",
       "      <td>52774</td>\n",
       "      <td>11855</td>\n",
       "      <td>48944</td>\n",
       "      <td>85900</td>\n",
       "      <td>3409</td>\n",
       "      <td>1178</td>\n",
       "      <td>1926</td>\n",
       "      <td>52964</td>\n",
       "      <td>1804</td>\n",
       "      <td>1</td>\n",
       "    </tr>\n",
       "    <tr>\n",
       "      <th>29999</th>\n",
       "      <td>30000</td>\n",
       "      <td>50000</td>\n",
       "      <td>1</td>\n",
       "      <td>2</td>\n",
       "      <td>1</td>\n",
       "      <td>46</td>\n",
       "      <td>0</td>\n",
       "      <td>0</td>\n",
       "      <td>0</td>\n",
       "      <td>0</td>\n",
       "      <td>...</td>\n",
       "      <td>36535</td>\n",
       "      <td>32428</td>\n",
       "      <td>15313</td>\n",
       "      <td>2078</td>\n",
       "      <td>1800</td>\n",
       "      <td>1430</td>\n",
       "      <td>1000</td>\n",
       "      <td>1000</td>\n",
       "      <td>1000</td>\n",
       "      <td>1</td>\n",
       "    </tr>\n",
       "  </tbody>\n",
       "</table>\n",
       "<p>5 rows × 25 columns</p>\n",
       "</div>"
      ],
      "text/plain": [
       "          ID  LIMIT_BAL  SEX  EDUCATION  MARRIAGE  AGE  PAY_0  PAY_2  PAY_3  \\\n",
       "29995  29996     220000    1          3         1   39      0      0      0   \n",
       "29996  29997     150000    1          3         2   43      0      0      0   \n",
       "29997  29998      30000    1          2         2   37      4      3      2   \n",
       "29998  29999      80000    1          3         1   41      1      0      0   \n",
       "29999  30000      50000    1          2         1   46      0      0      0   \n",
       "\n",
       "       PAY_4  ...  BILL_AMT4  BILL_AMT5  BILL_AMT6  PAY_AMT1  PAY_AMT2  \\\n",
       "29995      0  ...      88004      31237      15980      8500     20000   \n",
       "29996      0  ...       8979       5190          0      1837      3526   \n",
       "29997      0  ...      20878      20582      19357         0         0   \n",
       "29998      0  ...      52774      11855      48944     85900      3409   \n",
       "29999      0  ...      36535      32428      15313      2078      1800   \n",
       "\n",
       "       PAY_AMT3  PAY_AMT4  PAY_AMT5  PAY_AMT6  default payment next month  \n",
       "29995      5003      3047      5000      1000                           0  \n",
       "29996      8998       129         0         0                           0  \n",
       "29997     22000      4200      2000      3100                           1  \n",
       "29998      1178      1926     52964      1804                           1  \n",
       "29999      1430      1000      1000      1000                           1  \n",
       "\n",
       "[5 rows x 25 columns]"
      ]
     },
     "execution_count": 5,
     "metadata": {},
     "output_type": "execute_result"
    }
   ],
   "source": [
    "df.tail()"
   ]
  },
  {
   "cell_type": "code",
   "execution_count": 6,
   "id": "46b2f2ff",
   "metadata": {},
   "outputs": [
    {
     "data": {
      "text/plain": [
       "Index(['ID', 'LIMIT_BAL', 'SEX', 'EDUCATION', 'MARRIAGE', 'AGE', 'PAY_0',\n",
       "       'PAY_2', 'PAY_3', 'PAY_4', 'PAY_5', 'PAY_6', 'BILL_AMT1', 'BILL_AMT2',\n",
       "       'BILL_AMT3', 'BILL_AMT4', 'BILL_AMT5', 'BILL_AMT6', 'PAY_AMT1',\n",
       "       'PAY_AMT2', 'PAY_AMT3', 'PAY_AMT4', 'PAY_AMT5', 'PAY_AMT6',\n",
       "       'default payment next month'],\n",
       "      dtype='object')"
      ]
     },
     "execution_count": 6,
     "metadata": {},
     "output_type": "execute_result"
    }
   ],
   "source": [
    "df.columns"
   ]
  },
  {
   "cell_type": "code",
   "execution_count": 7,
   "id": "d0da2c47",
   "metadata": {},
   "outputs": [
    {
     "name": "stdout",
     "output_type": "stream",
     "text": [
      "<class 'pandas.core.frame.DataFrame'>\n",
      "RangeIndex: 30000 entries, 0 to 29999\n",
      "Data columns (total 25 columns):\n",
      " #   Column                      Non-Null Count  Dtype\n",
      "---  ------                      --------------  -----\n",
      " 0   ID                          30000 non-null  int64\n",
      " 1   LIMIT_BAL                   30000 non-null  int64\n",
      " 2   SEX                         30000 non-null  int64\n",
      " 3   EDUCATION                   30000 non-null  int64\n",
      " 4   MARRIAGE                    30000 non-null  int64\n",
      " 5   AGE                         30000 non-null  int64\n",
      " 6   PAY_0                       30000 non-null  int64\n",
      " 7   PAY_2                       30000 non-null  int64\n",
      " 8   PAY_3                       30000 non-null  int64\n",
      " 9   PAY_4                       30000 non-null  int64\n",
      " 10  PAY_5                       30000 non-null  int64\n",
      " 11  PAY_6                       30000 non-null  int64\n",
      " 12  BILL_AMT1                   30000 non-null  int64\n",
      " 13  BILL_AMT2                   30000 non-null  int64\n",
      " 14  BILL_AMT3                   30000 non-null  int64\n",
      " 15  BILL_AMT4                   30000 non-null  int64\n",
      " 16  BILL_AMT5                   30000 non-null  int64\n",
      " 17  BILL_AMT6                   30000 non-null  int64\n",
      " 18  PAY_AMT1                    30000 non-null  int64\n",
      " 19  PAY_AMT2                    30000 non-null  int64\n",
      " 20  PAY_AMT3                    30000 non-null  int64\n",
      " 21  PAY_AMT4                    30000 non-null  int64\n",
      " 22  PAY_AMT5                    30000 non-null  int64\n",
      " 23  PAY_AMT6                    30000 non-null  int64\n",
      " 24  default payment next month  30000 non-null  int64\n",
      "dtypes: int64(25)\n",
      "memory usage: 5.7 MB\n"
     ]
    }
   ],
   "source": [
    "df.info()"
   ]
  },
  {
   "cell_type": "code",
   "execution_count": 8,
   "id": "0a45308e",
   "metadata": {},
   "outputs": [
    {
     "data": {
      "text/plain": [
       "ID                            0\n",
       "LIMIT_BAL                     0\n",
       "SEX                           0\n",
       "EDUCATION                     0\n",
       "MARRIAGE                      0\n",
       "AGE                           0\n",
       "PAY_0                         0\n",
       "PAY_2                         0\n",
       "PAY_3                         0\n",
       "PAY_4                         0\n",
       "PAY_5                         0\n",
       "PAY_6                         0\n",
       "BILL_AMT1                     0\n",
       "BILL_AMT2                     0\n",
       "BILL_AMT3                     0\n",
       "BILL_AMT4                     0\n",
       "BILL_AMT5                     0\n",
       "BILL_AMT6                     0\n",
       "PAY_AMT1                      0\n",
       "PAY_AMT2                      0\n",
       "PAY_AMT3                      0\n",
       "PAY_AMT4                      0\n",
       "PAY_AMT5                      0\n",
       "PAY_AMT6                      0\n",
       "default payment next month    0\n",
       "dtype: int64"
      ]
     },
     "execution_count": 8,
     "metadata": {},
     "output_type": "execute_result"
    }
   ],
   "source": [
    "df.isnull().sum()"
   ]
  },
  {
   "cell_type": "code",
   "execution_count": 9,
   "id": "726d6b84",
   "metadata": {},
   "outputs": [
    {
     "data": {
      "text/plain": [
       "<AxesSubplot:>"
      ]
     },
     "execution_count": 9,
     "metadata": {},
     "output_type": "execute_result"
    },
    {
     "data": {
      "image/png": "[encoded data removed]",
      "text/plain": [
       "<Figure size 640x480 with 1 Axes>"
      ]
     },
     "metadata": {},
     "output_type": "display_data"
    }
   ],
   "source": [
    "import seaborn as sns\n",
    "sns.heatmap(df.isnull(),yticklabels=False,cbar=False,cmap='viridis')"
   ]
  },
  {
   "cell_type": "markdown",
   "id": "86300d01",
   "metadata": {},
   "source": [
    "# Observation:"
   ]
  },
  {
   "cell_type": "markdown",
   "id": "ffae3a72",
   "metadata": {},
   "source": [
    "!. There is no Null values present in the Dataframe"
   ]
  },
  {
   "cell_type": "code",
   "execution_count": 10,
   "id": "7f5f7b6c",
   "metadata": {},
   "outputs": [
    {
     "data": {
      "text/html": [
       "<div>\n",
       "<style scoped>\n",
       "    .dataframe tbody tr th:only-of-type {\n",
       "        vertical-align: middle;\n",
       "    }\n",
       "\n",
       "    .dataframe tbody tr th {\n",
       "        vertical-align: top;\n",
       "    }\n",
       "\n",
       "    .dataframe thead th {\n",
       "        text-align: right;\n",
       "    }\n",
       "</style>\n",
       "<table border=\"1\" class=\"dataframe\">\n",
       "  <thead>\n",
       "    <tr style=\"text-align: right;\">\n",
       "      <th></th>\n",
       "      <th>ID</th>\n",
       "      <th>LIMIT_BAL</th>\n",
       "      <th>SEX</th>\n",
       "      <th>EDUCATION</th>\n",
       "      <th>MARRIAGE</th>\n",
       "      <th>AGE</th>\n",
       "      <th>PAY_0</th>\n",
       "      <th>PAY_2</th>\n",
       "      <th>PAY_3</th>\n",
       "      <th>PAY_4</th>\n",
       "      <th>...</th>\n",
       "      <th>BILL_AMT4</th>\n",
       "      <th>BILL_AMT5</th>\n",
       "      <th>BILL_AMT6</th>\n",
       "      <th>PAY_AMT1</th>\n",
       "      <th>PAY_AMT2</th>\n",
       "      <th>PAY_AMT3</th>\n",
       "      <th>PAY_AMT4</th>\n",
       "      <th>PAY_AMT5</th>\n",
       "      <th>PAY_AMT6</th>\n",
       "      <th>default payment next month</th>\n",
       "    </tr>\n",
       "  </thead>\n",
       "  <tbody>\n",
       "    <tr>\n",
       "      <th>count</th>\n",
       "      <td>30000.000000</td>\n",
       "      <td>30000.000000</td>\n",
       "      <td>30000.000000</td>\n",
       "      <td>30000.000000</td>\n",
       "      <td>30000.000000</td>\n",
       "      <td>30000.000000</td>\n",
       "      <td>30000.000000</td>\n",
       "      <td>30000.000000</td>\n",
       "      <td>30000.000000</td>\n",
       "      <td>30000.000000</td>\n",
       "      <td>...</td>\n",
       "      <td>30000.000000</td>\n",
       "      <td>30000.000000</td>\n",
       "      <td>30000.000000</td>\n",
       "      <td>30000.000000</td>\n",
       "      <td>3.000000e+04</td>\n",
       "      <td>30000.00000</td>\n",
       "      <td>30000.000000</td>\n",
       "      <td>30000.000000</td>\n",
       "      <td>30000.000000</td>\n",
       "      <td>30000.000000</td>\n",
       "    </tr>\n",
       "    <tr>\n",
       "      <th>mean</th>\n",
       "      <td>15000.500000</td>\n",
       "      <td>167484.322667</td>\n",
       "      <td>1.603733</td>\n",
       "      <td>1.853133</td>\n",
       "      <td>1.551867</td>\n",
       "      <td>35.485500</td>\n",
       "      <td>0.356767</td>\n",
       "      <td>0.320033</td>\n",
       "      <td>0.304067</td>\n",
       "      <td>0.258767</td>\n",
       "      <td>...</td>\n",
       "      <td>43262.948967</td>\n",
       "      <td>40311.400967</td>\n",
       "      <td>38871.760400</td>\n",
       "      <td>5663.580500</td>\n",
       "      <td>5.921163e+03</td>\n",
       "      <td>5225.68150</td>\n",
       "      <td>4826.076867</td>\n",
       "      <td>4799.387633</td>\n",
       "      <td>5215.502567</td>\n",
       "      <td>0.221200</td>\n",
       "    </tr>\n",
       "    <tr>\n",
       "      <th>std</th>\n",
       "      <td>8660.398374</td>\n",
       "      <td>129747.661567</td>\n",
       "      <td>0.489129</td>\n",
       "      <td>0.790349</td>\n",
       "      <td>0.521970</td>\n",
       "      <td>9.217904</td>\n",
       "      <td>0.760594</td>\n",
       "      <td>0.801727</td>\n",
       "      <td>0.790589</td>\n",
       "      <td>0.761113</td>\n",
       "      <td>...</td>\n",
       "      <td>64332.856134</td>\n",
       "      <td>60797.155770</td>\n",
       "      <td>59554.107537</td>\n",
       "      <td>16563.280354</td>\n",
       "      <td>2.304087e+04</td>\n",
       "      <td>17606.96147</td>\n",
       "      <td>15666.159744</td>\n",
       "      <td>15278.305679</td>\n",
       "      <td>17777.465775</td>\n",
       "      <td>0.415062</td>\n",
       "    </tr>\n",
       "    <tr>\n",
       "      <th>min</th>\n",
       "      <td>1.000000</td>\n",
       "      <td>10000.000000</td>\n",
       "      <td>1.000000</td>\n",
       "      <td>0.000000</td>\n",
       "      <td>0.000000</td>\n",
       "      <td>21.000000</td>\n",
       "      <td>0.000000</td>\n",
       "      <td>0.000000</td>\n",
       "      <td>0.000000</td>\n",
       "      <td>0.000000</td>\n",
       "      <td>...</td>\n",
       "      <td>-170000.000000</td>\n",
       "      <td>-81334.000000</td>\n",
       "      <td>-339603.000000</td>\n",
       "      <td>0.000000</td>\n",
       "      <td>0.000000e+00</td>\n",
       "      <td>0.00000</td>\n",
       "      <td>0.000000</td>\n",
       "      <td>0.000000</td>\n",
       "      <td>0.000000</td>\n",
       "      <td>0.000000</td>\n",
       "    </tr>\n",
       "    <tr>\n",
       "      <th>25%</th>\n",
       "      <td>7500.750000</td>\n",
       "      <td>50000.000000</td>\n",
       "      <td>1.000000</td>\n",
       "      <td>1.000000</td>\n",
       "      <td>1.000000</td>\n",
       "      <td>28.000000</td>\n",
       "      <td>0.000000</td>\n",
       "      <td>0.000000</td>\n",
       "      <td>0.000000</td>\n",
       "      <td>0.000000</td>\n",
       "      <td>...</td>\n",
       "      <td>2326.750000</td>\n",
       "      <td>1763.000000</td>\n",
       "      <td>1256.000000</td>\n",
       "      <td>1000.000000</td>\n",
       "      <td>8.330000e+02</td>\n",
       "      <td>390.00000</td>\n",
       "      <td>296.000000</td>\n",
       "      <td>252.500000</td>\n",
       "      <td>117.750000</td>\n",
       "      <td>0.000000</td>\n",
       "    </tr>\n",
       "    <tr>\n",
       "      <th>50%</th>\n",
       "      <td>15000.500000</td>\n",
       "      <td>140000.000000</td>\n",
       "      <td>2.000000</td>\n",
       "      <td>2.000000</td>\n",
       "      <td>2.000000</td>\n",
       "      <td>34.000000</td>\n",
       "      <td>0.000000</td>\n",
       "      <td>0.000000</td>\n",
       "      <td>0.000000</td>\n",
       "      <td>0.000000</td>\n",
       "      <td>...</td>\n",
       "      <td>19052.000000</td>\n",
       "      <td>18104.500000</td>\n",
       "      <td>17071.000000</td>\n",
       "      <td>2100.000000</td>\n",
       "      <td>2.009000e+03</td>\n",
       "      <td>1800.00000</td>\n",
       "      <td>1500.000000</td>\n",
       "      <td>1500.000000</td>\n",
       "      <td>1500.000000</td>\n",
       "      <td>0.000000</td>\n",
       "    </tr>\n",
       "    <tr>\n",
       "      <th>75%</th>\n",
       "      <td>22500.250000</td>\n",
       "      <td>240000.000000</td>\n",
       "      <td>2.000000</td>\n",
       "      <td>2.000000</td>\n",
       "      <td>2.000000</td>\n",
       "      <td>41.000000</td>\n",
       "      <td>0.000000</td>\n",
       "      <td>0.000000</td>\n",
       "      <td>0.000000</td>\n",
       "      <td>0.000000</td>\n",
       "      <td>...</td>\n",
       "      <td>54506.000000</td>\n",
       "      <td>50190.500000</td>\n",
       "      <td>49198.250000</td>\n",
       "      <td>5006.000000</td>\n",
       "      <td>5.000000e+03</td>\n",
       "      <td>4505.00000</td>\n",
       "      <td>4013.250000</td>\n",
       "      <td>4031.500000</td>\n",
       "      <td>4000.000000</td>\n",
       "      <td>0.000000</td>\n",
       "    </tr>\n",
       "    <tr>\n",
       "      <th>max</th>\n",
       "      <td>30000.000000</td>\n",
       "      <td>1000000.000000</td>\n",
       "      <td>2.000000</td>\n",
       "      <td>6.000000</td>\n",
       "      <td>3.000000</td>\n",
       "      <td>79.000000</td>\n",
       "      <td>8.000000</td>\n",
       "      <td>8.000000</td>\n",
       "      <td>8.000000</td>\n",
       "      <td>8.000000</td>\n",
       "      <td>...</td>\n",
       "      <td>891586.000000</td>\n",
       "      <td>927171.000000</td>\n",
       "      <td>961664.000000</td>\n",
       "      <td>873552.000000</td>\n",
       "      <td>1.684259e+06</td>\n",
       "      <td>896040.00000</td>\n",
       "      <td>621000.000000</td>\n",
       "      <td>426529.000000</td>\n",
       "      <td>528666.000000</td>\n",
       "      <td>1.000000</td>\n",
       "    </tr>\n",
       "  </tbody>\n",
       "</table>\n",
       "<p>8 rows × 25 columns</p>\n",
       "</div>"
      ],
      "text/plain": [
       "                 ID       LIMIT_BAL           SEX     EDUCATION      MARRIAGE  \\\n",
       "count  30000.000000    30000.000000  30000.000000  30000.000000  30000.000000   \n",
       "mean   15000.500000   167484.322667      1.603733      1.853133      1.551867   \n",
       "std     8660.398374   129747.661567      0.489129      0.790349      0.521970   \n",
       "min        1.000000    10000.000000      1.000000      0.000000      0.000000   \n",
       "25%     7500.750000    50000.000000      1.000000      1.000000      1.000000   \n",
       "50%    15000.500000   140000.000000      2.000000      2.000000      2.000000   \n",
       "75%    22500.250000   240000.000000      2.000000      2.000000      2.000000   \n",
       "max    30000.000000  1000000.000000      2.000000      6.000000      3.000000   \n",
       "\n",
       "                AGE         PAY_0         PAY_2         PAY_3         PAY_4  \\\n",
       "count  30000.000000  30000.000000  30000.000000  30000.000000  30000.000000   \n",
       "mean      35.485500      0.356767      0.320033      0.304067      0.258767   \n",
       "std        9.217904      0.760594      0.801727      0.790589      0.761113   \n",
       "min       21.000000      0.000000      0.000000      0.000000      0.000000   \n",
       "25%       28.000000      0.000000      0.000000      0.000000      0.000000   \n",
       "50%       34.000000      0.000000      0.000000      0.000000      0.000000   \n",
       "75%       41.000000      0.000000      0.000000      0.000000      0.000000   \n",
       "max       79.000000      8.000000      8.000000      8.000000      8.000000   \n",
       "\n",
       "       ...      BILL_AMT4      BILL_AMT5      BILL_AMT6       PAY_AMT1  \\\n",
       "count  ...   30000.000000   30000.000000   30000.000000   30000.000000   \n",
       "mean   ...   43262.948967   40311.400967   38871.760400    5663.580500   \n",
       "std    ...   64332.856134   60797.155770   59554.107537   16563.280354   \n",
       "min    ... -170000.000000  -81334.000000 -339603.000000       0.000000   \n",
       "25%    ...    2326.750000    1763.000000    1256.000000    1000.000000   \n",
       "50%    ...   19052.000000   18104.500000   17071.000000    2100.000000   \n",
       "75%    ...   54506.000000   50190.500000   49198.250000    5006.000000   \n",
       "max    ...  891586.000000  927171.000000  961664.000000  873552.000000   \n",
       "\n",
       "           PAY_AMT2      PAY_AMT3       PAY_AMT4       PAY_AMT5  \\\n",
       "count  3.000000e+04   30000.00000   30000.000000   30000.000000   \n",
       "mean   5.921163e+03    5225.68150    4826.076867    4799.387633   \n",
       "std    2.304087e+04   17606.96147   15666.159744   15278.305679   \n",
       "min    0.000000e+00       0.00000       0.000000       0.000000   \n",
       "25%    8.330000e+02     390.00000     296.000000     252.500000   \n",
       "50%    2.009000e+03    1800.00000    1500.000000    1500.000000   \n",
       "75%    5.000000e+03    4505.00000    4013.250000    4031.500000   \n",
       "max    1.684259e+06  896040.00000  621000.000000  426529.000000   \n",
       "\n",
       "            PAY_AMT6  default payment next month  \n",
       "count   30000.000000                30000.000000  \n",
       "mean     5215.502567                    0.221200  \n",
       "std     17777.465775                    0.415062  \n",
       "min         0.000000                    0.000000  \n",
       "25%       117.750000                    0.000000  \n",
       "50%      1500.000000                    0.000000  \n",
       "75%      4000.000000                    0.000000  \n",
       "max    528666.000000                    1.000000  \n",
       "\n",
       "[8 rows x 25 columns]"
      ]
     },
     "execution_count": 10,
     "metadata": {},
     "output_type": "execute_result"
    }
   ],
   "source": [
    "df.describe()"
   ]
  },
  {
   "cell_type": "code",
   "execution_count": 11,
   "id": "45dfa026",
   "metadata": {},
   "outputs": [
    {
     "data": {
      "text/plain": [
       "(30000, 25)"
      ]
     },
     "execution_count": 11,
     "metadata": {},
     "output_type": "execute_result"
    }
   ],
   "source": [
    "df.shape"
   ]
  },
  {
   "cell_type": "markdown",
   "id": "87b7f2c9",
   "metadata": {},
   "source": [
    "# Creating Outstanding Payment colums for all the months"
   ]
  },
  {
   "cell_type": "code",
   "execution_count": 12,
   "id": "99b20658",
   "metadata": {},
   "outputs": [
    {
     "data": {
      "text/plain": [
       "0          3913\n",
       "1          2682\n",
       "2         27721\n",
       "3         44990\n",
       "4          6617\n",
       "          ...  \n",
       "29995    180448\n",
       "29996      -154\n",
       "29997      3565\n",
       "29998    -87545\n",
       "29999     45851\n",
       "Length: 30000, dtype: int64"
      ]
     },
     "execution_count": 12,
     "metadata": {},
     "output_type": "execute_result"
    }
   ],
   "source": [
    "outstanding_Pay1 = df.BILL_AMT1 - df.PAY_AMT1\n",
    "outstanding_Pay1"
   ]
  },
  {
   "cell_type": "code",
   "execution_count": 13,
   "id": "cf4ee7c2",
   "metadata": {},
   "outputs": [],
   "source": [
    "df.loc[:,\"OUT_PAY_AMT1\"]=outstanding_Pay1"
   ]
  },
  {
   "cell_type": "code",
   "execution_count": 14,
   "id": "06a74830",
   "metadata": {},
   "outputs": [
    {
     "data": {
      "text/html": [
       "<div>\n",
       "<style scoped>\n",
       "    .dataframe tbody tr th:only-of-type {\n",
       "        vertical-align: middle;\n",
       "    }\n",
       "\n",
       "    .dataframe tbody tr th {\n",
       "        vertical-align: top;\n",
       "    }\n",
       "\n",
       "    .dataframe thead th {\n",
       "        text-align: right;\n",
       "    }\n",
       "</style>\n",
       "<table border=\"1\" class=\"dataframe\">\n",
       "  <thead>\n",
       "    <tr style=\"text-align: right;\">\n",
       "      <th></th>\n",
       "      <th>ID</th>\n",
       "      <th>LIMIT_BAL</th>\n",
       "      <th>SEX</th>\n",
       "      <th>EDUCATION</th>\n",
       "      <th>MARRIAGE</th>\n",
       "      <th>AGE</th>\n",
       "      <th>PAY_0</th>\n",
       "      <th>PAY_2</th>\n",
       "      <th>PAY_3</th>\n",
       "      <th>PAY_4</th>\n",
       "      <th>...</th>\n",
       "      <th>BILL_AMT5</th>\n",
       "      <th>BILL_AMT6</th>\n",
       "      <th>PAY_AMT1</th>\n",
       "      <th>PAY_AMT2</th>\n",
       "      <th>PAY_AMT3</th>\n",
       "      <th>PAY_AMT4</th>\n",
       "      <th>PAY_AMT5</th>\n",
       "      <th>PAY_AMT6</th>\n",
       "      <th>default payment next month</th>\n",
       "      <th>OUT_PAY_AMT1</th>\n",
       "    </tr>\n",
       "  </thead>\n",
       "  <tbody>\n",
       "    <tr>\n",
       "      <th>0</th>\n",
       "      <td>1</td>\n",
       "      <td>20000</td>\n",
       "      <td>2</td>\n",
       "      <td>2</td>\n",
       "      <td>1</td>\n",
       "      <td>24</td>\n",
       "      <td>2</td>\n",
       "      <td>2</td>\n",
       "      <td>0</td>\n",
       "      <td>0</td>\n",
       "      <td>...</td>\n",
       "      <td>0</td>\n",
       "      <td>0</td>\n",
       "      <td>0</td>\n",
       "      <td>689</td>\n",
       "      <td>0</td>\n",
       "      <td>0</td>\n",
       "      <td>0</td>\n",
       "      <td>0</td>\n",
       "      <td>1</td>\n",
       "      <td>3913</td>\n",
       "    </tr>\n",
       "    <tr>\n",
       "      <th>1</th>\n",
       "      <td>2</td>\n",
       "      <td>120000</td>\n",
       "      <td>2</td>\n",
       "      <td>2</td>\n",
       "      <td>2</td>\n",
       "      <td>26</td>\n",
       "      <td>0</td>\n",
       "      <td>2</td>\n",
       "      <td>0</td>\n",
       "      <td>0</td>\n",
       "      <td>...</td>\n",
       "      <td>3455</td>\n",
       "      <td>3261</td>\n",
       "      <td>0</td>\n",
       "      <td>1000</td>\n",
       "      <td>1000</td>\n",
       "      <td>1000</td>\n",
       "      <td>0</td>\n",
       "      <td>2000</td>\n",
       "      <td>1</td>\n",
       "      <td>2682</td>\n",
       "    </tr>\n",
       "    <tr>\n",
       "      <th>2</th>\n",
       "      <td>3</td>\n",
       "      <td>90000</td>\n",
       "      <td>2</td>\n",
       "      <td>2</td>\n",
       "      <td>2</td>\n",
       "      <td>34</td>\n",
       "      <td>0</td>\n",
       "      <td>0</td>\n",
       "      <td>0</td>\n",
       "      <td>0</td>\n",
       "      <td>...</td>\n",
       "      <td>14948</td>\n",
       "      <td>15549</td>\n",
       "      <td>1518</td>\n",
       "      <td>1500</td>\n",
       "      <td>1000</td>\n",
       "      <td>1000</td>\n",
       "      <td>1000</td>\n",
       "      <td>5000</td>\n",
       "      <td>0</td>\n",
       "      <td>27721</td>\n",
       "    </tr>\n",
       "    <tr>\n",
       "      <th>3</th>\n",
       "      <td>4</td>\n",
       "      <td>50000</td>\n",
       "      <td>2</td>\n",
       "      <td>2</td>\n",
       "      <td>1</td>\n",
       "      <td>37</td>\n",
       "      <td>0</td>\n",
       "      <td>0</td>\n",
       "      <td>0</td>\n",
       "      <td>0</td>\n",
       "      <td>...</td>\n",
       "      <td>28959</td>\n",
       "      <td>29547</td>\n",
       "      <td>2000</td>\n",
       "      <td>2019</td>\n",
       "      <td>1200</td>\n",
       "      <td>1100</td>\n",
       "      <td>1069</td>\n",
       "      <td>1000</td>\n",
       "      <td>0</td>\n",
       "      <td>44990</td>\n",
       "    </tr>\n",
       "    <tr>\n",
       "      <th>4</th>\n",
       "      <td>5</td>\n",
       "      <td>50000</td>\n",
       "      <td>1</td>\n",
       "      <td>2</td>\n",
       "      <td>1</td>\n",
       "      <td>57</td>\n",
       "      <td>0</td>\n",
       "      <td>0</td>\n",
       "      <td>0</td>\n",
       "      <td>0</td>\n",
       "      <td>...</td>\n",
       "      <td>19146</td>\n",
       "      <td>19131</td>\n",
       "      <td>2000</td>\n",
       "      <td>36681</td>\n",
       "      <td>10000</td>\n",
       "      <td>9000</td>\n",
       "      <td>689</td>\n",
       "      <td>679</td>\n",
       "      <td>0</td>\n",
       "      <td>6617</td>\n",
       "    </tr>\n",
       "  </tbody>\n",
       "</table>\n",
       "<p>5 rows × 26 columns</p>\n",
       "</div>"
      ],
      "text/plain": [
       "   ID  LIMIT_BAL  SEX  EDUCATION  MARRIAGE  AGE  PAY_0  PAY_2  PAY_3  PAY_4  \\\n",
       "0   1      20000    2          2         1   24      2      2      0      0   \n",
       "1   2     120000    2          2         2   26      0      2      0      0   \n",
       "2   3      90000    2          2         2   34      0      0      0      0   \n",
       "3   4      50000    2          2         1   37      0      0      0      0   \n",
       "4   5      50000    1          2         1   57      0      0      0      0   \n",
       "\n",
       "   ...  BILL_AMT5  BILL_AMT6  PAY_AMT1  PAY_AMT2  PAY_AMT3  PAY_AMT4  \\\n",
       "0  ...          0          0         0       689         0         0   \n",
       "1  ...       3455       3261         0      1000      1000      1000   \n",
       "2  ...      14948      15549      1518      1500      1000      1000   \n",
       "3  ...      28959      29547      2000      2019      1200      1100   \n",
       "4  ...      19146      19131      2000     36681     10000      9000   \n",
       "\n",
       "   PAY_AMT5  PAY_AMT6  default payment next month  OUT_PAY_AMT1  \n",
       "0         0         0                           1          3913  \n",
       "1         0      2000                           1          2682  \n",
       "2      1000      5000                           0         27721  \n",
       "3      1069      1000                           0         44990  \n",
       "4       689       679                           0          6617  \n",
       "\n",
       "[5 rows x 26 columns]"
      ]
     },
     "execution_count": 14,
     "metadata": {},
     "output_type": "execute_result"
    }
   ],
   "source": [
    "df.head()"
   ]
  },
  {
   "cell_type": "code",
   "execution_count": 15,
   "id": "650238c3",
   "metadata": {},
   "outputs": [],
   "source": [
    "df.loc[:,\"OUT_PAY_AMT2\"]=df.BILL_AMT2 - df.PAY_AMT2"
   ]
  },
  {
   "cell_type": "code",
   "execution_count": 16,
   "id": "ed1b645c",
   "metadata": {},
   "outputs": [],
   "source": [
    "df.loc[:,\"OUT_PAY_AMT3\"]=df.BILL_AMT3 - df.PAY_AMT3\n",
    "df.loc[:,\"OUT_PAY_AMT4\"]=df.BILL_AMT4 - df.PAY_AMT4\n",
    "df.loc[:,\"OUT_PAY_AMT5\"]=df.BILL_AMT5 - df.PAY_AMT5\n",
    "df.loc[:,\"OUT_PAY_AMT6\"]=df.BILL_AMT6 - df.PAY_AMT6"
   ]
  },
  {
   "cell_type": "code",
   "execution_count": 17,
   "id": "577780fe",
   "metadata": {},
   "outputs": [
    {
     "data": {
      "text/html": [
       "<div>\n",
       "<style scoped>\n",
       "    .dataframe tbody tr th:only-of-type {\n",
       "        vertical-align: middle;\n",
       "    }\n",
       "\n",
       "    .dataframe tbody tr th {\n",
       "        vertical-align: top;\n",
       "    }\n",
       "\n",
       "    .dataframe thead th {\n",
       "        text-align: right;\n",
       "    }\n",
       "</style>\n",
       "<table border=\"1\" class=\"dataframe\">\n",
       "  <thead>\n",
       "    <tr style=\"text-align: right;\">\n",
       "      <th></th>\n",
       "      <th>ID</th>\n",
       "      <th>LIMIT_BAL</th>\n",
       "      <th>SEX</th>\n",
       "      <th>EDUCATION</th>\n",
       "      <th>MARRIAGE</th>\n",
       "      <th>AGE</th>\n",
       "      <th>PAY_0</th>\n",
       "      <th>PAY_2</th>\n",
       "      <th>PAY_3</th>\n",
       "      <th>PAY_4</th>\n",
       "      <th>...</th>\n",
       "      <th>PAY_AMT4</th>\n",
       "      <th>PAY_AMT5</th>\n",
       "      <th>PAY_AMT6</th>\n",
       "      <th>default payment next month</th>\n",
       "      <th>OUT_PAY_AMT1</th>\n",
       "      <th>OUT_PAY_AMT2</th>\n",
       "      <th>OUT_PAY_AMT3</th>\n",
       "      <th>OUT_PAY_AMT4</th>\n",
       "      <th>OUT_PAY_AMT5</th>\n",
       "      <th>OUT_PAY_AMT6</th>\n",
       "    </tr>\n",
       "  </thead>\n",
       "  <tbody>\n",
       "    <tr>\n",
       "      <th>0</th>\n",
       "      <td>1</td>\n",
       "      <td>20000</td>\n",
       "      <td>2</td>\n",
       "      <td>2</td>\n",
       "      <td>1</td>\n",
       "      <td>24</td>\n",
       "      <td>2</td>\n",
       "      <td>2</td>\n",
       "      <td>0</td>\n",
       "      <td>0</td>\n",
       "      <td>...</td>\n",
       "      <td>0</td>\n",
       "      <td>0</td>\n",
       "      <td>0</td>\n",
       "      <td>1</td>\n",
       "      <td>3913</td>\n",
       "      <td>2413</td>\n",
       "      <td>689</td>\n",
       "      <td>0</td>\n",
       "      <td>0</td>\n",
       "      <td>0</td>\n",
       "    </tr>\n",
       "    <tr>\n",
       "      <th>1</th>\n",
       "      <td>2</td>\n",
       "      <td>120000</td>\n",
       "      <td>2</td>\n",
       "      <td>2</td>\n",
       "      <td>2</td>\n",
       "      <td>26</td>\n",
       "      <td>0</td>\n",
       "      <td>2</td>\n",
       "      <td>0</td>\n",
       "      <td>0</td>\n",
       "      <td>...</td>\n",
       "      <td>1000</td>\n",
       "      <td>0</td>\n",
       "      <td>2000</td>\n",
       "      <td>1</td>\n",
       "      <td>2682</td>\n",
       "      <td>725</td>\n",
       "      <td>1682</td>\n",
       "      <td>2272</td>\n",
       "      <td>3455</td>\n",
       "      <td>1261</td>\n",
       "    </tr>\n",
       "    <tr>\n",
       "      <th>2</th>\n",
       "      <td>3</td>\n",
       "      <td>90000</td>\n",
       "      <td>2</td>\n",
       "      <td>2</td>\n",
       "      <td>2</td>\n",
       "      <td>34</td>\n",
       "      <td>0</td>\n",
       "      <td>0</td>\n",
       "      <td>0</td>\n",
       "      <td>0</td>\n",
       "      <td>...</td>\n",
       "      <td>1000</td>\n",
       "      <td>1000</td>\n",
       "      <td>5000</td>\n",
       "      <td>0</td>\n",
       "      <td>27721</td>\n",
       "      <td>12527</td>\n",
       "      <td>12559</td>\n",
       "      <td>13331</td>\n",
       "      <td>13948</td>\n",
       "      <td>10549</td>\n",
       "    </tr>\n",
       "    <tr>\n",
       "      <th>3</th>\n",
       "      <td>4</td>\n",
       "      <td>50000</td>\n",
       "      <td>2</td>\n",
       "      <td>2</td>\n",
       "      <td>1</td>\n",
       "      <td>37</td>\n",
       "      <td>0</td>\n",
       "      <td>0</td>\n",
       "      <td>0</td>\n",
       "      <td>0</td>\n",
       "      <td>...</td>\n",
       "      <td>1100</td>\n",
       "      <td>1069</td>\n",
       "      <td>1000</td>\n",
       "      <td>0</td>\n",
       "      <td>44990</td>\n",
       "      <td>46214</td>\n",
       "      <td>48091</td>\n",
       "      <td>27214</td>\n",
       "      <td>27890</td>\n",
       "      <td>28547</td>\n",
       "    </tr>\n",
       "    <tr>\n",
       "      <th>4</th>\n",
       "      <td>5</td>\n",
       "      <td>50000</td>\n",
       "      <td>1</td>\n",
       "      <td>2</td>\n",
       "      <td>1</td>\n",
       "      <td>57</td>\n",
       "      <td>0</td>\n",
       "      <td>0</td>\n",
       "      <td>0</td>\n",
       "      <td>0</td>\n",
       "      <td>...</td>\n",
       "      <td>9000</td>\n",
       "      <td>689</td>\n",
       "      <td>679</td>\n",
       "      <td>0</td>\n",
       "      <td>6617</td>\n",
       "      <td>-31011</td>\n",
       "      <td>25835</td>\n",
       "      <td>11940</td>\n",
       "      <td>18457</td>\n",
       "      <td>18452</td>\n",
       "    </tr>\n",
       "  </tbody>\n",
       "</table>\n",
       "<p>5 rows × 31 columns</p>\n",
       "</div>"
      ],
      "text/plain": [
       "   ID  LIMIT_BAL  SEX  EDUCATION  MARRIAGE  AGE  PAY_0  PAY_2  PAY_3  PAY_4  \\\n",
       "0   1      20000    2          2         1   24      2      2      0      0   \n",
       "1   2     120000    2          2         2   26      0      2      0      0   \n",
       "2   3      90000    2          2         2   34      0      0      0      0   \n",
       "3   4      50000    2          2         1   37      0      0      0      0   \n",
       "4   5      50000    1          2         1   57      0      0      0      0   \n",
       "\n",
       "   ...  PAY_AMT4  PAY_AMT5  PAY_AMT6  default payment next month  \\\n",
       "0  ...         0         0         0                           1   \n",
       "1  ...      1000         0      2000                           1   \n",
       "2  ...      1000      1000      5000                           0   \n",
       "3  ...      1100      1069      1000                           0   \n",
       "4  ...      9000       689       679                           0   \n",
       "\n",
       "   OUT_PAY_AMT1  OUT_PAY_AMT2  OUT_PAY_AMT3  OUT_PAY_AMT4  OUT_PAY_AMT5  \\\n",
       "0          3913          2413           689             0             0   \n",
       "1          2682           725          1682          2272          3455   \n",
       "2         27721         12527         12559         13331         13948   \n",
       "3         44990         46214         48091         27214         27890   \n",
       "4          6617        -31011         25835         11940         18457   \n",
       "\n",
       "   OUT_PAY_AMT6  \n",
       "0             0  \n",
       "1          1261  \n",
       "2         10549  \n",
       "3         28547  \n",
       "4         18452  \n",
       "\n",
       "[5 rows x 31 columns]"
      ]
     },
     "execution_count": 17,
     "metadata": {},
     "output_type": "execute_result"
    }
   ],
   "source": [
    "df.head()"
   ]
  },
  {
   "cell_type": "code",
   "execution_count": 18,
   "id": "03ada6e9",
   "metadata": {},
   "outputs": [],
   "source": [
    "import seaborn as sns"
   ]
  },
  {
   "cell_type": "code",
   "execution_count": 19,
   "id": "ddf75087",
   "metadata": {},
   "outputs": [
    {
     "data": {
      "text/plain": [
       "<seaborn.axisgrid.FacetGrid at 0x1fffb71c9d0>"
      ]
     },
     "execution_count": 19,
     "metadata": {},
     "output_type": "execute_result"
    },
    {
     "data": {
      "image/png": "[encoded data removed]",
      "text/plain": [
       "<Figure size 500x500 with 1 Axes>"
      ]
     },
     "metadata": {},
     "output_type": "display_data"
    }
   ],
   "source": [
    "sns.displot(df['AGE'],kde=False,bins=20)"
   ]
  },
  {
   "cell_type": "code",
   "execution_count": 21,
   "id": "c43454b8",
   "metadata": {},
   "outputs": [
    {
     "data": {
      "text/plain": [
       "<seaborn.axisgrid.JointGrid at 0x1fffb71cc40>"
      ]
     },
     "execution_count": 21,
     "metadata": {},
     "output_type": "execute_result"
    },
    {
     "data": {
      "image/png": "[encoded data removed]",
      "text/plain": [
       "<Figure size 600x600 with 3 Axes>"
      ]
     },
     "metadata": {},
     "output_type": "display_data"
    }
   ],
   "source": [
    "sns.jointplot(x='AGE',y='OUT_PAY_AMT1',data=df)"
   ]
  },
  {
   "cell_type": "markdown",
   "id": "973c4666",
   "metadata": {},
   "source": [
    "# Outstanding payment analysis for September, 2005 "
   ]
  },
  {
   "cell_type": "code",
   "execution_count": 35,
   "id": "c8a4d4cd",
   "metadata": {},
   "outputs": [
    {
     "data": {
      "text/plain": [
       "array([1, 0])"
      ]
     },
     "execution_count": 35,
     "metadata": {},
     "output_type": "execute_result"
    }
   ],
   "source": [
    "df['LIM_PAY_AMT1'] = df['OUT_PAY_AMT1']\n",
    "df['LIM_PAY_AMT1'] = np.where(df['LIM_PAY_AMT1'] > df['LIMIT_BAL'], 0, 1)\n",
    "df['LIM_PAY_AMT1'].unique()"
   ]
  },
  {
   "cell_type": "code",
   "execution_count": 36,
   "id": "d413d5ec",
   "metadata": {},
   "outputs": [
    {
     "data": {
      "text/html": [
       "<div>\n",
       "<style scoped>\n",
       "    .dataframe tbody tr th:only-of-type {\n",
       "        vertical-align: middle;\n",
       "    }\n",
       "\n",
       "    .dataframe tbody tr th {\n",
       "        vertical-align: top;\n",
       "    }\n",
       "\n",
       "    .dataframe thead th {\n",
       "        text-align: right;\n",
       "    }\n",
       "</style>\n",
       "<table border=\"1\" class=\"dataframe\">\n",
       "  <thead>\n",
       "    <tr style=\"text-align: right;\">\n",
       "      <th></th>\n",
       "      <th>ID</th>\n",
       "      <th>LIMIT_BAL</th>\n",
       "      <th>SEX</th>\n",
       "      <th>EDUCATION</th>\n",
       "      <th>MARRIAGE</th>\n",
       "      <th>AGE</th>\n",
       "      <th>PAY_0</th>\n",
       "      <th>PAY_2</th>\n",
       "      <th>PAY_3</th>\n",
       "      <th>PAY_4</th>\n",
       "      <th>...</th>\n",
       "      <th>PAY_AMT5</th>\n",
       "      <th>PAY_AMT6</th>\n",
       "      <th>default payment next month</th>\n",
       "      <th>OUT_PAY_AMT1</th>\n",
       "      <th>OUT_PAY_AMT2</th>\n",
       "      <th>OUT_PAY_AMT3</th>\n",
       "      <th>OUT_PAY_AMT4</th>\n",
       "      <th>OUT_PAY_AMT5</th>\n",
       "      <th>OUT_PAY_AMT6</th>\n",
       "      <th>LIM_PAY_AMT1</th>\n",
       "    </tr>\n",
       "  </thead>\n",
       "  <tbody>\n",
       "    <tr>\n",
       "      <th>0</th>\n",
       "      <td>1</td>\n",
       "      <td>20000</td>\n",
       "      <td>2</td>\n",
       "      <td>2</td>\n",
       "      <td>1</td>\n",
       "      <td>24</td>\n",
       "      <td>2</td>\n",
       "      <td>2</td>\n",
       "      <td>0</td>\n",
       "      <td>0</td>\n",
       "      <td>...</td>\n",
       "      <td>0</td>\n",
       "      <td>0</td>\n",
       "      <td>1</td>\n",
       "      <td>3913</td>\n",
       "      <td>2413</td>\n",
       "      <td>689</td>\n",
       "      <td>0</td>\n",
       "      <td>0</td>\n",
       "      <td>0</td>\n",
       "      <td>1</td>\n",
       "    </tr>\n",
       "    <tr>\n",
       "      <th>1</th>\n",
       "      <td>2</td>\n",
       "      <td>120000</td>\n",
       "      <td>2</td>\n",
       "      <td>2</td>\n",
       "      <td>2</td>\n",
       "      <td>26</td>\n",
       "      <td>0</td>\n",
       "      <td>2</td>\n",
       "      <td>0</td>\n",
       "      <td>0</td>\n",
       "      <td>...</td>\n",
       "      <td>0</td>\n",
       "      <td>2000</td>\n",
       "      <td>1</td>\n",
       "      <td>2682</td>\n",
       "      <td>725</td>\n",
       "      <td>1682</td>\n",
       "      <td>2272</td>\n",
       "      <td>3455</td>\n",
       "      <td>1261</td>\n",
       "      <td>1</td>\n",
       "    </tr>\n",
       "    <tr>\n",
       "      <th>2</th>\n",
       "      <td>3</td>\n",
       "      <td>90000</td>\n",
       "      <td>2</td>\n",
       "      <td>2</td>\n",
       "      <td>2</td>\n",
       "      <td>34</td>\n",
       "      <td>0</td>\n",
       "      <td>0</td>\n",
       "      <td>0</td>\n",
       "      <td>0</td>\n",
       "      <td>...</td>\n",
       "      <td>1000</td>\n",
       "      <td>5000</td>\n",
       "      <td>0</td>\n",
       "      <td>27721</td>\n",
       "      <td>12527</td>\n",
       "      <td>12559</td>\n",
       "      <td>13331</td>\n",
       "      <td>13948</td>\n",
       "      <td>10549</td>\n",
       "      <td>1</td>\n",
       "    </tr>\n",
       "    <tr>\n",
       "      <th>3</th>\n",
       "      <td>4</td>\n",
       "      <td>50000</td>\n",
       "      <td>2</td>\n",
       "      <td>2</td>\n",
       "      <td>1</td>\n",
       "      <td>37</td>\n",
       "      <td>0</td>\n",
       "      <td>0</td>\n",
       "      <td>0</td>\n",
       "      <td>0</td>\n",
       "      <td>...</td>\n",
       "      <td>1069</td>\n",
       "      <td>1000</td>\n",
       "      <td>0</td>\n",
       "      <td>44990</td>\n",
       "      <td>46214</td>\n",
       "      <td>48091</td>\n",
       "      <td>27214</td>\n",
       "      <td>27890</td>\n",
       "      <td>28547</td>\n",
       "      <td>1</td>\n",
       "    </tr>\n",
       "    <tr>\n",
       "      <th>4</th>\n",
       "      <td>5</td>\n",
       "      <td>50000</td>\n",
       "      <td>1</td>\n",
       "      <td>2</td>\n",
       "      <td>1</td>\n",
       "      <td>57</td>\n",
       "      <td>0</td>\n",
       "      <td>0</td>\n",
       "      <td>0</td>\n",
       "      <td>0</td>\n",
       "      <td>...</td>\n",
       "      <td>689</td>\n",
       "      <td>679</td>\n",
       "      <td>0</td>\n",
       "      <td>6617</td>\n",
       "      <td>-31011</td>\n",
       "      <td>25835</td>\n",
       "      <td>11940</td>\n",
       "      <td>18457</td>\n",
       "      <td>18452</td>\n",
       "      <td>1</td>\n",
       "    </tr>\n",
       "  </tbody>\n",
       "</table>\n",
       "<p>5 rows × 32 columns</p>\n",
       "</div>"
      ],
      "text/plain": [
       "   ID  LIMIT_BAL  SEX  EDUCATION  MARRIAGE  AGE  PAY_0  PAY_2  PAY_3  PAY_4  \\\n",
       "0   1      20000    2          2         1   24      2      2      0      0   \n",
       "1   2     120000    2          2         2   26      0      2      0      0   \n",
       "2   3      90000    2          2         2   34      0      0      0      0   \n",
       "3   4      50000    2          2         1   37      0      0      0      0   \n",
       "4   5      50000    1          2         1   57      0      0      0      0   \n",
       "\n",
       "   ...  PAY_AMT5  PAY_AMT6  default payment next month  OUT_PAY_AMT1  \\\n",
       "0  ...         0         0                           1          3913   \n",
       "1  ...         0      2000                           1          2682   \n",
       "2  ...      1000      5000                           0         27721   \n",
       "3  ...      1069      1000                           0         44990   \n",
       "4  ...       689       679                           0          6617   \n",
       "\n",
       "   OUT_PAY_AMT2  OUT_PAY_AMT3  OUT_PAY_AMT4  OUT_PAY_AMT5  OUT_PAY_AMT6  \\\n",
       "0          2413           689             0             0             0   \n",
       "1           725          1682          2272          3455          1261   \n",
       "2         12527         12559         13331         13948         10549   \n",
       "3         46214         48091         27214         27890         28547   \n",
       "4        -31011         25835         11940         18457         18452   \n",
       "\n",
       "   LIM_PAY_AMT1  \n",
       "0             1  \n",
       "1             1  \n",
       "2             1  \n",
       "3             1  \n",
       "4             1  \n",
       "\n",
       "[5 rows x 32 columns]"
      ]
     },
     "execution_count": 36,
     "metadata": {},
     "output_type": "execute_result"
    }
   ],
   "source": [
    "df.head()"
   ]
  },
  {
   "cell_type": "code",
   "execution_count": 37,
   "id": "960f2da4",
   "metadata": {},
   "outputs": [
    {
     "data": {
      "text/plain": [
       "<AxesSubplot:xlabel='LIM_PAY_AMT1', ylabel='count'>"
      ]
     },
     "execution_count": 37,
     "metadata": {},
     "output_type": "execute_result"
    },
    {
     "data": {
      "image/png": "[encoded data removed]",
      "text/plain": [
       "<Figure size 640x480 with 1 Axes>"
      ]
     },
     "metadata": {},
     "output_type": "display_data"
    }
   ],
   "source": [
    "sns.countplot(x=df['LIM_PAY_AMT1'],data=df)"
   ]
  },
  {
   "cell_type": "code",
   "execution_count": 114,
   "id": "3ef51575",
   "metadata": {},
   "outputs": [
    {
     "data": {
      "text/plain": [
       "(1009, 33)"
      ]
     },
     "execution_count": 114,
     "metadata": {},
     "output_type": "execute_result"
    }
   ],
   "source": [
    "df1=df[df['LIM_PAY_AMT1'].isin([0])]\n",
    "df1.shape"
   ]
  },
  {
   "cell_type": "code",
   "execution_count": 115,
   "id": "4881eca5",
   "metadata": {},
   "outputs": [
    {
     "data": {
      "text/plain": [
       "array([0])"
      ]
     },
     "execution_count": 115,
     "metadata": {},
     "output_type": "execute_result"
    }
   ],
   "source": [
    "df1['LIM_PAY_AMT1'].unique()"
   ]
  },
  {
   "cell_type": "markdown",
   "id": "cdb3ba85",
   "metadata": {},
   "source": [
    "## Analysis based on Age"
   ]
  },
  {
   "cell_type": "code",
   "execution_count": 54,
   "id": "5e42fd88",
   "metadata": {},
   "outputs": [
    {
     "data": {
      "text/plain": [
       "28    43\n",
       "27    42\n",
       "36    42\n",
       "26    41\n",
       "39    40\n",
       "24    39\n",
       "29    39\n",
       "30    38\n",
       "23    36\n",
       "33    36\n",
       "35    34\n",
       "40    34\n",
       "31    33\n",
       "42    33\n",
       "41    32\n",
       "37    31\n",
       "25    31\n",
       "46    29\n",
       "34    28\n",
       "38    28\n",
       "32    26\n",
       "43    26\n",
       "44    25\n",
       "48    24\n",
       "22    23\n",
       "45    20\n",
       "51    18\n",
       "50    17\n",
       "52    16\n",
       "54    15\n",
       "47    15\n",
       "53    10\n",
       "49     9\n",
       "56     8\n",
       "55     8\n",
       "58     6\n",
       "21     6\n",
       "57     5\n",
       "67     4\n",
       "62     4\n",
       "63     3\n",
       "61     3\n",
       "65     2\n",
       "60     2\n",
       "70     1\n",
       "68     1\n",
       "59     1\n",
       "66     1\n",
       "64     1\n",
       "Name: AGE, dtype: int64"
      ]
     },
     "execution_count": 54,
     "metadata": {},
     "output_type": "execute_result"
    }
   ],
   "source": [
    "df1['AGE'].value_counts()"
   ]
  },
  {
   "cell_type": "code",
   "execution_count": 79,
   "id": "48aabc48",
   "metadata": {},
   "outputs": [
    {
     "data": {
      "text/plain": [
       "<seaborn.axisgrid.FacetGrid at 0x1ff82b6d2b0>"
      ]
     },
     "execution_count": 79,
     "metadata": {},
     "output_type": "execute_result"
    },
    {
     "data": {
      "image/png": "[encoded data removed]",
      "text/plain": [
       "<Figure size 500x500 with 1 Axes>"
      ]
     },
     "metadata": {},
     "output_type": "display_data"
    }
   ],
   "source": [
    "sns.displot(df1['AGE'],kde=False,bins=5)"
   ]
  },
  {
   "cell_type": "code",
   "execution_count": 116,
   "id": "290cf966",
   "metadata": {},
   "outputs": [
    {
     "data": {
      "text/plain": [
       "array([37, 23, 38, 31, 26, 39, 32, 22, 30, 46, 34, 42, 25, 24, 50, 27, 29,\n",
       "       54, 67, 33, 41, 36, 49, 40, 35, 65, 58, 43, 48, 45, 51, 28, 47, 44,\n",
       "       21, 53, 55, 70, 68, 52, 56, 63, 62, 57, 59, 66, 60, 64, 61],\n",
       "      dtype=int64)"
      ]
     },
     "execution_count": 116,
     "metadata": {},
     "output_type": "execute_result"
    }
   ],
   "source": [
    "df1['AGE'].unique()"
   ]
  },
  {
   "cell_type": "code",
   "execution_count": 117,
   "id": "5831ee5e",
   "metadata": {},
   "outputs": [
    {
     "data": {
      "text/plain": [
       "(20, 30]    338\n",
       "(30, 40]    332\n",
       "(40, 50]    230\n",
       "(50, 60]     89\n",
       "(60, 70]     20\n",
       "(0, 20]       0\n",
       "(70, 80]      0\n",
       "Name: AGE, dtype: int64"
      ]
     },
     "execution_count": 117,
     "metadata": {},
     "output_type": "execute_result"
    }
   ],
   "source": [
    "x_age=pd.cut(df1['AGE'], [0, 20, 30, 40, 50, 60, 70, 80]).value_counts()\n",
    "x_age"
   ]
  },
  {
   "cell_type": "markdown",
   "id": "16ce92dd",
   "metadata": {},
   "source": [
    "## Observation for September, 2005 (Analysis based on AGE)"
   ]
  },
  {
   "cell_type": "markdown",
   "id": "85446e08",
   "metadata": {},
   "source": [
    "The outstanding payment amount is found with the help of bill amount and PAY_AMT_1. \n",
    "1. Total number of 1009 customers exceeded their limit balance out of 30000 customers."
   ]
  },
  {
   "cell_type": "markdown",
   "id": "b9a92016",
   "metadata": {},
   "source": [
    "Among the 1009 customers, \n",
    "1. 338 customers in the age group of 20 - 30 exceeded the limit balance.\n",
    "2. 332 customers in the age group of 30 - 40 exceeded the limit balance.\n",
    "3. 230 customers in the age group of 40 - 50 exceeded the limit balance.\n",
    "4. 89 customers in the age group of 50 - 60 exceeded the limit balance.\n",
    "5. 20 customers in the age group of 60 - 70 exceeded the limit balance.\n",
    "\n",
    "It can be concluded that the youngsters within the age group of 20-30 is over using the card and exceeding the limit."
   ]
  },
  {
   "cell_type": "markdown",
   "id": "1305e9bf",
   "metadata": {},
   "source": [
    "## Analysis based on EDUCATION"
   ]
  },
  {
   "cell_type": "markdown",
   "id": "023956f7",
   "metadata": {},
   "source": [
    "For Education the values and their explanation: \n",
    "1 = graduate school; \n",
    "2 = university; \n",
    "3 = high school; \n",
    "4 = others"
   ]
  },
  {
   "cell_type": "code",
   "execution_count": 63,
   "id": "1e1a5c47",
   "metadata": {},
   "outputs": [
    {
     "name": "stdout",
     "output_type": "stream",
     "text": [
      "<class 'pandas.core.series.Series'>\n",
      "Int64Index: 1009 entries, 5 to 29976\n",
      "Series name: EDUCATION\n",
      "Non-Null Count  Dtype\n",
      "--------------  -----\n",
      "1009 non-null   int64\n",
      "dtypes: int64(1)\n",
      "memory usage: 15.8 KB\n"
     ]
    }
   ],
   "source": [
    "df1['EDUCATION'].info()"
   ]
  },
  {
   "cell_type": "code",
   "execution_count": 65,
   "id": "d06eb52d",
   "metadata": {},
   "outputs": [
    {
     "data": {
      "text/plain": [
       "array([1, 3, 2, 5, 4, 6], dtype=int64)"
      ]
     },
     "execution_count": 65,
     "metadata": {},
     "output_type": "execute_result"
    }
   ],
   "source": [
    "df1['EDUCATION'].unique()"
   ]
  },
  {
   "cell_type": "code",
   "execution_count": 66,
   "id": "b6d2b73e",
   "metadata": {},
   "outputs": [
    {
     "data": {
      "text/plain": [
       "2    555\n",
       "3    227\n",
       "1    192\n",
       "5     23\n",
       "4      9\n",
       "6      3\n",
       "Name: EDUCATION, dtype: int64"
      ]
     },
     "execution_count": 66,
     "metadata": {},
     "output_type": "execute_result"
    }
   ],
   "source": [
    "df1['EDUCATION'].value_counts()"
   ]
  },
  {
   "cell_type": "code",
   "execution_count": 69,
   "id": "d636e8f2",
   "metadata": {},
   "outputs": [
    {
     "data": {
      "text/plain": [
       "<seaborn.axisgrid.FacetGrid at 0x1ff8290bd00>"
      ]
     },
     "execution_count": 69,
     "metadata": {},
     "output_type": "execute_result"
    },
    {
     "data": {
      "image/png": "[encoded data removed]",
      "text/plain": [
       "<Figure size 500x500 with 1 Axes>"
      ]
     },
     "metadata": {},
     "output_type": "display_data"
    }
   ],
   "source": [
    "sns.displot(df1['EDUCATION'],kde=False,bins=6)"
   ]
  },
  {
   "cell_type": "markdown",
   "id": "2181e6d2",
   "metadata": {},
   "source": [
    "## Observation for September, 2005 (Analysis based on EDUCATION)"
   ]
  },
  {
   "cell_type": "markdown",
   "id": "dfad100f",
   "metadata": {},
   "source": [
    "Among the 1009 customers,\n",
    "1. 555 customers with university education background exceeded the limit balance.\n",
    "2. 227 customers with high school education background exceeded the limit balance.\n",
    "3. 192 customers with graduate school education background exceeded the limit balance.\n",
    "4. 53 customers with other education background exceeded the limit balance.\n",
    "\n",
    "Based on the education, it can be concluded that the customers with university education background is over using the card and not maintaining the credit limit."
   ]
  },
  {
   "cell_type": "code",
   "execution_count": 71,
   "id": "85a04d34",
   "metadata": {},
   "outputs": [
    {
     "data": {
      "text/html": [
       "<div>\n",
       "<style scoped>\n",
       "    .dataframe tbody tr th:only-of-type {\n",
       "        vertical-align: middle;\n",
       "    }\n",
       "\n",
       "    .dataframe tbody tr th {\n",
       "        vertical-align: top;\n",
       "    }\n",
       "\n",
       "    .dataframe thead th {\n",
       "        text-align: right;\n",
       "    }\n",
       "</style>\n",
       "<table border=\"1\" class=\"dataframe\">\n",
       "  <thead>\n",
       "    <tr style=\"text-align: right;\">\n",
       "      <th></th>\n",
       "      <th>ID</th>\n",
       "      <th>LIMIT_BAL</th>\n",
       "      <th>SEX</th>\n",
       "      <th>EDUCATION</th>\n",
       "      <th>MARRIAGE</th>\n",
       "      <th>AGE</th>\n",
       "      <th>PAY_0</th>\n",
       "      <th>PAY_2</th>\n",
       "      <th>PAY_3</th>\n",
       "      <th>PAY_4</th>\n",
       "      <th>...</th>\n",
       "      <th>PAY_AMT5</th>\n",
       "      <th>PAY_AMT6</th>\n",
       "      <th>default payment next month</th>\n",
       "      <th>OUT_PAY_AMT1</th>\n",
       "      <th>OUT_PAY_AMT2</th>\n",
       "      <th>OUT_PAY_AMT3</th>\n",
       "      <th>OUT_PAY_AMT4</th>\n",
       "      <th>OUT_PAY_AMT5</th>\n",
       "      <th>OUT_PAY_AMT6</th>\n",
       "      <th>LIM_PAY_AMT1</th>\n",
       "    </tr>\n",
       "  </thead>\n",
       "  <tbody>\n",
       "    <tr>\n",
       "      <th>5</th>\n",
       "      <td>6</td>\n",
       "      <td>50000</td>\n",
       "      <td>1</td>\n",
       "      <td>1</td>\n",
       "      <td>2</td>\n",
       "      <td>37</td>\n",
       "      <td>0</td>\n",
       "      <td>0</td>\n",
       "      <td>0</td>\n",
       "      <td>0</td>\n",
       "      <td>...</td>\n",
       "      <td>1000</td>\n",
       "      <td>800</td>\n",
       "      <td>0</td>\n",
       "      <td>61900</td>\n",
       "      <td>55254</td>\n",
       "      <td>56951</td>\n",
       "      <td>18394</td>\n",
       "      <td>18619</td>\n",
       "      <td>19224</td>\n",
       "      <td>0</td>\n",
       "    </tr>\n",
       "    <tr>\n",
       "      <th>15</th>\n",
       "      <td>16</td>\n",
       "      <td>50000</td>\n",
       "      <td>2</td>\n",
       "      <td>3</td>\n",
       "      <td>3</td>\n",
       "      <td>23</td>\n",
       "      <td>1</td>\n",
       "      <td>2</td>\n",
       "      <td>0</td>\n",
       "      <td>0</td>\n",
       "      <td>...</td>\n",
       "      <td>1300</td>\n",
       "      <td>1100</td>\n",
       "      <td>0</td>\n",
       "      <td>50614</td>\n",
       "      <td>27673</td>\n",
       "      <td>27016</td>\n",
       "      <td>27571</td>\n",
       "      <td>28231</td>\n",
       "      <td>29111</td>\n",
       "      <td>0</td>\n",
       "    </tr>\n",
       "    <tr>\n",
       "      <th>108</th>\n",
       "      <td>109</td>\n",
       "      <td>130000</td>\n",
       "      <td>1</td>\n",
       "      <td>2</td>\n",
       "      <td>2</td>\n",
       "      <td>38</td>\n",
       "      <td>0</td>\n",
       "      <td>0</td>\n",
       "      <td>0</td>\n",
       "      <td>0</td>\n",
       "      <td>...</td>\n",
       "      <td>133841</td>\n",
       "      <td>4796</td>\n",
       "      <td>0</td>\n",
       "      <td>160530</td>\n",
       "      <td>178382</td>\n",
       "      <td>-93717</td>\n",
       "      <td>115917</td>\n",
       "      <td>-89714</td>\n",
       "      <td>121772</td>\n",
       "      <td>0</td>\n",
       "    </tr>\n",
       "    <tr>\n",
       "      <th>189</th>\n",
       "      <td>190</td>\n",
       "      <td>20000</td>\n",
       "      <td>2</td>\n",
       "      <td>2</td>\n",
       "      <td>2</td>\n",
       "      <td>31</td>\n",
       "      <td>1</td>\n",
       "      <td>5</td>\n",
       "      <td>4</td>\n",
       "      <td>4</td>\n",
       "      <td>...</td>\n",
       "      <td>760</td>\n",
       "      <td>0</td>\n",
       "      <td>0</td>\n",
       "      <td>21703</td>\n",
       "      <td>20087</td>\n",
       "      <td>21461</td>\n",
       "      <td>20835</td>\n",
       "      <td>19459</td>\n",
       "      <td>20487</td>\n",
       "      <td>0</td>\n",
       "    </tr>\n",
       "    <tr>\n",
       "      <th>224</th>\n",
       "      <td>225</td>\n",
       "      <td>50000</td>\n",
       "      <td>2</td>\n",
       "      <td>3</td>\n",
       "      <td>2</td>\n",
       "      <td>37</td>\n",
       "      <td>1</td>\n",
       "      <td>3</td>\n",
       "      <td>2</td>\n",
       "      <td>0</td>\n",
       "      <td>...</td>\n",
       "      <td>1201</td>\n",
       "      <td>30592</td>\n",
       "      <td>1</td>\n",
       "      <td>52626</td>\n",
       "      <td>51513</td>\n",
       "      <td>47705</td>\n",
       "      <td>29394</td>\n",
       "      <td>29048</td>\n",
       "      <td>-635</td>\n",
       "      <td>0</td>\n",
       "    </tr>\n",
       "  </tbody>\n",
       "</table>\n",
       "<p>5 rows × 32 columns</p>\n",
       "</div>"
      ],
      "text/plain": [
       "      ID  LIMIT_BAL  SEX  EDUCATION  MARRIAGE  AGE  PAY_0  PAY_2  PAY_3  \\\n",
       "5      6      50000    1          1         2   37      0      0      0   \n",
       "15    16      50000    2          3         3   23      1      2      0   \n",
       "108  109     130000    1          2         2   38      0      0      0   \n",
       "189  190      20000    2          2         2   31      1      5      4   \n",
       "224  225      50000    2          3         2   37      1      3      2   \n",
       "\n",
       "     PAY_4  ...  PAY_AMT5  PAY_AMT6  default payment next month  OUT_PAY_AMT1  \\\n",
       "5        0  ...      1000       800                           0         61900   \n",
       "15       0  ...      1300      1100                           0         50614   \n",
       "108      0  ...    133841      4796                           0        160530   \n",
       "189      4  ...       760         0                           0         21703   \n",
       "224      0  ...      1201     30592                           1         52626   \n",
       "\n",
       "     OUT_PAY_AMT2  OUT_PAY_AMT3  OUT_PAY_AMT4  OUT_PAY_AMT5  OUT_PAY_AMT6  \\\n",
       "5           55254         56951         18394         18619         19224   \n",
       "15          27673         27016         27571         28231         29111   \n",
       "108        178382        -93717        115917        -89714        121772   \n",
       "189         20087         21461         20835         19459         20487   \n",
       "224         51513         47705         29394         29048          -635   \n",
       "\n",
       "     LIM_PAY_AMT1  \n",
       "5               0  \n",
       "15              0  \n",
       "108             0  \n",
       "189             0  \n",
       "224             0  \n",
       "\n",
       "[5 rows x 32 columns]"
      ]
     },
     "execution_count": 71,
     "metadata": {},
     "output_type": "execute_result"
    }
   ],
   "source": [
    "df1.head()"
   ]
  },
  {
   "cell_type": "markdown",
   "id": "8dc59149",
   "metadata": {},
   "source": [
    "## Analysis based on MARRIAGE"
   ]
  },
  {
   "cell_type": "code",
   "execution_count": 87,
   "id": "9bd9b603",
   "metadata": {},
   "outputs": [
    {
     "data": {
      "text/plain": [
       "array([2, 3, 1, 0], dtype=int64)"
      ]
     },
     "execution_count": 87,
     "metadata": {},
     "output_type": "execute_result"
    }
   ],
   "source": [
    "df1['MARRIAGE'].unique()"
   ]
  },
  {
   "cell_type": "code",
   "execution_count": 88,
   "id": "8bda4adf",
   "metadata": {},
   "outputs": [
    {
     "data": {
      "text/plain": [
       "2    547\n",
       "1    447\n",
       "3     14\n",
       "0      1\n",
       "Name: MARRIAGE, dtype: int64"
      ]
     },
     "execution_count": 88,
     "metadata": {},
     "output_type": "execute_result"
    }
   ],
   "source": [
    "df1['MARRIAGE'].value_counts()"
   ]
  },
  {
   "cell_type": "code",
   "execution_count": 86,
   "id": "ef8297c9",
   "metadata": {},
   "outputs": [
    {
     "data": {
      "text/plain": [
       "<seaborn.axisgrid.FacetGrid at 0x1ff82b8d490>"
      ]
     },
     "execution_count": 86,
     "metadata": {},
     "output_type": "execute_result"
    },
    {
     "data": {
      "image/png": "[encoded data removed]",
      "text/plain": [
       "<Figure size 500x500 with 1 Axes>"
      ]
     },
     "metadata": {},
     "output_type": "display_data"
    }
   ],
   "source": [
    "sns.displot(df1['MARRIAGE'],kde=False,bins=3)"
   ]
  },
  {
   "cell_type": "markdown",
   "id": "04d3cb96",
   "metadata": {},
   "source": [
    "## Observation for September, 2005 (Analysis based on MARRIAGE)"
   ]
  },
  {
   "cell_type": "markdown",
   "id": "ab9332e4",
   "metadata": {},
   "source": [
    "Among the 1009 customers,\n",
    "1. 547 customers with marriage status as single exceeded the limit balance.\n",
    "2. 447 customers with marriage status as married exceeded the limit balance.\n",
    "3. 14 customers with marriage status as others exceeded the limit balance.\n",
    "\n",
    "The single customers have over used the credit card and exceeded the credit limit when compared to married people."
   ]
  },
  {
   "cell_type": "markdown",
   "id": "bc7519c8",
   "metadata": {},
   "source": [
    "## Analysis based on SEX"
   ]
  },
  {
   "cell_type": "code",
   "execution_count": 89,
   "id": "816693a3",
   "metadata": {},
   "outputs": [
    {
     "data": {
      "text/plain": [
       "array([1, 2], dtype=int64)"
      ]
     },
     "execution_count": 89,
     "metadata": {},
     "output_type": "execute_result"
    }
   ],
   "source": [
    "df1['SEX'].unique()"
   ]
  },
  {
   "cell_type": "code",
   "execution_count": 91,
   "id": "5bc53b02",
   "metadata": {},
   "outputs": [
    {
     "data": {
      "text/plain": [
       "2    521\n",
       "1    488\n",
       "Name: SEX, dtype: int64"
      ]
     },
     "execution_count": 91,
     "metadata": {},
     "output_type": "execute_result"
    }
   ],
   "source": [
    "df1['SEX'].value_counts()"
   ]
  },
  {
   "cell_type": "code",
   "execution_count": 163,
   "id": "6ba1395c",
   "metadata": {},
   "outputs": [
    {
     "data": {
      "text/plain": [
       "<seaborn.axisgrid.FacetGrid at 0x1ff85161340>"
      ]
     },
     "execution_count": 163,
     "metadata": {},
     "output_type": "execute_result"
    },
    {
     "data": {
      "image/png": "[encoded data removed]",
      "text/plain": [
       "<Figure size 500x500 with 1 Axes>"
      ]
     },
     "metadata": {},
     "output_type": "display_data"
    }
   ],
   "source": [
    "sns.displot(df1['SEX'],kde=False,bins=2)"
   ]
  },
  {
   "cell_type": "markdown",
   "id": "284919c5",
   "metadata": {},
   "source": [
    "## Observation for September, 2005 (Analysis based on SEX)"
   ]
  },
  {
   "cell_type": "markdown",
   "id": "d8ec7c42",
   "metadata": {},
   "source": [
    "Among the 1009 customers,\n",
    "1. 521 female customers exceeded the limit balance.\n",
    "2. 488 male customers exceeded the limit balance.\n",
    "\n",
    "More number of female customers overused the credit card than male customers and exceeded the credit limit."
   ]
  },
  {
   "cell_type": "markdown",
   "id": "cbf88ca4",
   "metadata": {},
   "source": [
    "# Outstanding payment analysis for August, 2005 "
   ]
  },
  {
   "cell_type": "code",
   "execution_count": 124,
   "id": "d21693ed",
   "metadata": {},
   "outputs": [],
   "source": [
    "df['LIM_PAY_AMT2'] = df['OUT_PAY_AMT2']\n",
    "df['LIM_PAY_AMT2'] = np.where(df['LIM_PAY_AMT2'] > df['LIMIT_BAL'], 0, 1)"
   ]
  },
  {
   "cell_type": "code",
   "execution_count": 125,
   "id": "99b6ff4f",
   "metadata": {},
   "outputs": [
    {
     "data": {
      "text/plain": [
       "(30000, 33)"
      ]
     },
     "execution_count": 125,
     "metadata": {},
     "output_type": "execute_result"
    }
   ],
   "source": [
    "df.shape"
   ]
  },
  {
   "cell_type": "code",
   "execution_count": 126,
   "id": "0c21e22d",
   "metadata": {},
   "outputs": [
    {
     "data": {
      "text/html": [
       "<div>\n",
       "<style scoped>\n",
       "    .dataframe tbody tr th:only-of-type {\n",
       "        vertical-align: middle;\n",
       "    }\n",
       "\n",
       "    .dataframe tbody tr th {\n",
       "        vertical-align: top;\n",
       "    }\n",
       "\n",
       "    .dataframe thead th {\n",
       "        text-align: right;\n",
       "    }\n",
       "</style>\n",
       "<table border=\"1\" class=\"dataframe\">\n",
       "  <thead>\n",
       "    <tr style=\"text-align: right;\">\n",
       "      <th></th>\n",
       "      <th>ID</th>\n",
       "      <th>LIMIT_BAL</th>\n",
       "      <th>SEX</th>\n",
       "      <th>EDUCATION</th>\n",
       "      <th>MARRIAGE</th>\n",
       "      <th>AGE</th>\n",
       "      <th>PAY_0</th>\n",
       "      <th>PAY_2</th>\n",
       "      <th>PAY_3</th>\n",
       "      <th>PAY_4</th>\n",
       "      <th>...</th>\n",
       "      <th>PAY_AMT6</th>\n",
       "      <th>default payment next month</th>\n",
       "      <th>OUT_PAY_AMT1</th>\n",
       "      <th>OUT_PAY_AMT2</th>\n",
       "      <th>OUT_PAY_AMT3</th>\n",
       "      <th>OUT_PAY_AMT4</th>\n",
       "      <th>OUT_PAY_AMT5</th>\n",
       "      <th>OUT_PAY_AMT6</th>\n",
       "      <th>LIM_PAY_AMT1</th>\n",
       "      <th>LIM_PAY_AMT2</th>\n",
       "    </tr>\n",
       "  </thead>\n",
       "  <tbody>\n",
       "    <tr>\n",
       "      <th>0</th>\n",
       "      <td>1</td>\n",
       "      <td>20000</td>\n",
       "      <td>2</td>\n",
       "      <td>2</td>\n",
       "      <td>1</td>\n",
       "      <td>24</td>\n",
       "      <td>2</td>\n",
       "      <td>2</td>\n",
       "      <td>0</td>\n",
       "      <td>0</td>\n",
       "      <td>...</td>\n",
       "      <td>0</td>\n",
       "      <td>1</td>\n",
       "      <td>3913</td>\n",
       "      <td>2413</td>\n",
       "      <td>689</td>\n",
       "      <td>0</td>\n",
       "      <td>0</td>\n",
       "      <td>0</td>\n",
       "      <td>1</td>\n",
       "      <td>1</td>\n",
       "    </tr>\n",
       "    <tr>\n",
       "      <th>1</th>\n",
       "      <td>2</td>\n",
       "      <td>120000</td>\n",
       "      <td>2</td>\n",
       "      <td>2</td>\n",
       "      <td>2</td>\n",
       "      <td>26</td>\n",
       "      <td>0</td>\n",
       "      <td>2</td>\n",
       "      <td>0</td>\n",
       "      <td>0</td>\n",
       "      <td>...</td>\n",
       "      <td>2000</td>\n",
       "      <td>1</td>\n",
       "      <td>2682</td>\n",
       "      <td>725</td>\n",
       "      <td>1682</td>\n",
       "      <td>2272</td>\n",
       "      <td>3455</td>\n",
       "      <td>1261</td>\n",
       "      <td>1</td>\n",
       "      <td>1</td>\n",
       "    </tr>\n",
       "    <tr>\n",
       "      <th>2</th>\n",
       "      <td>3</td>\n",
       "      <td>90000</td>\n",
       "      <td>2</td>\n",
       "      <td>2</td>\n",
       "      <td>2</td>\n",
       "      <td>34</td>\n",
       "      <td>0</td>\n",
       "      <td>0</td>\n",
       "      <td>0</td>\n",
       "      <td>0</td>\n",
       "      <td>...</td>\n",
       "      <td>5000</td>\n",
       "      <td>0</td>\n",
       "      <td>27721</td>\n",
       "      <td>12527</td>\n",
       "      <td>12559</td>\n",
       "      <td>13331</td>\n",
       "      <td>13948</td>\n",
       "      <td>10549</td>\n",
       "      <td>1</td>\n",
       "      <td>1</td>\n",
       "    </tr>\n",
       "    <tr>\n",
       "      <th>3</th>\n",
       "      <td>4</td>\n",
       "      <td>50000</td>\n",
       "      <td>2</td>\n",
       "      <td>2</td>\n",
       "      <td>1</td>\n",
       "      <td>37</td>\n",
       "      <td>0</td>\n",
       "      <td>0</td>\n",
       "      <td>0</td>\n",
       "      <td>0</td>\n",
       "      <td>...</td>\n",
       "      <td>1000</td>\n",
       "      <td>0</td>\n",
       "      <td>44990</td>\n",
       "      <td>46214</td>\n",
       "      <td>48091</td>\n",
       "      <td>27214</td>\n",
       "      <td>27890</td>\n",
       "      <td>28547</td>\n",
       "      <td>1</td>\n",
       "      <td>1</td>\n",
       "    </tr>\n",
       "    <tr>\n",
       "      <th>4</th>\n",
       "      <td>5</td>\n",
       "      <td>50000</td>\n",
       "      <td>1</td>\n",
       "      <td>2</td>\n",
       "      <td>1</td>\n",
       "      <td>57</td>\n",
       "      <td>0</td>\n",
       "      <td>0</td>\n",
       "      <td>0</td>\n",
       "      <td>0</td>\n",
       "      <td>...</td>\n",
       "      <td>679</td>\n",
       "      <td>0</td>\n",
       "      <td>6617</td>\n",
       "      <td>-31011</td>\n",
       "      <td>25835</td>\n",
       "      <td>11940</td>\n",
       "      <td>18457</td>\n",
       "      <td>18452</td>\n",
       "      <td>1</td>\n",
       "      <td>1</td>\n",
       "    </tr>\n",
       "  </tbody>\n",
       "</table>\n",
       "<p>5 rows × 33 columns</p>\n",
       "</div>"
      ],
      "text/plain": [
       "   ID  LIMIT_BAL  SEX  EDUCATION  MARRIAGE  AGE  PAY_0  PAY_2  PAY_3  PAY_4  \\\n",
       "0   1      20000    2          2         1   24      2      2      0      0   \n",
       "1   2     120000    2          2         2   26      0      2      0      0   \n",
       "2   3      90000    2          2         2   34      0      0      0      0   \n",
       "3   4      50000    2          2         1   37      0      0      0      0   \n",
       "4   5      50000    1          2         1   57      0      0      0      0   \n",
       "\n",
       "   ...  PAY_AMT6  default payment next month  OUT_PAY_AMT1  OUT_PAY_AMT2  \\\n",
       "0  ...         0                           1          3913          2413   \n",
       "1  ...      2000                           1          2682           725   \n",
       "2  ...      5000                           0         27721         12527   \n",
       "3  ...      1000                           0         44990         46214   \n",
       "4  ...       679                           0          6617        -31011   \n",
       "\n",
       "   OUT_PAY_AMT3  OUT_PAY_AMT4  OUT_PAY_AMT5  OUT_PAY_AMT6  LIM_PAY_AMT1  \\\n",
       "0           689             0             0             0             1   \n",
       "1          1682          2272          3455          1261             1   \n",
       "2         12559         13331         13948         10549             1   \n",
       "3         48091         27214         27890         28547             1   \n",
       "4         25835         11940         18457         18452             1   \n",
       "\n",
       "   LIM_PAY_AMT2  \n",
       "0             1  \n",
       "1             1  \n",
       "2             1  \n",
       "3             1  \n",
       "4             1  \n",
       "\n",
       "[5 rows x 33 columns]"
      ]
     },
     "execution_count": 126,
     "metadata": {},
     "output_type": "execute_result"
    }
   ],
   "source": [
    "df.head()"
   ]
  },
  {
   "cell_type": "code",
   "execution_count": 127,
   "id": "1c01ac73",
   "metadata": {},
   "outputs": [
    {
     "data": {
      "text/plain": [
       "<AxesSubplot:xlabel='LIM_PAY_AMT2', ylabel='count'>"
      ]
     },
     "execution_count": 127,
     "metadata": {},
     "output_type": "execute_result"
    },
    {
     "data": {
      "image/png": "[encoded data removed]",
      "text/plain": [
       "<Figure size 640x480 with 1 Axes>"
      ]
     },
     "metadata": {},
     "output_type": "display_data"
    }
   ],
   "source": [
    "sns.countplot(x=df['LIM_PAY_AMT2'],data=df)"
   ]
  },
  {
   "cell_type": "code",
   "execution_count": 132,
   "id": "6b3ca57b",
   "metadata": {},
   "outputs": [],
   "source": [
    "df2=df[df['LIM_PAY_AMT2'].isin([0])]"
   ]
  },
  {
   "cell_type": "code",
   "execution_count": 133,
   "id": "4c861d83",
   "metadata": {},
   "outputs": [
    {
     "data": {
      "text/plain": [
       "(914, 33)"
      ]
     },
     "execution_count": 133,
     "metadata": {},
     "output_type": "execute_result"
    }
   ],
   "source": [
    "df2.shape"
   ]
  },
  {
   "cell_type": "code",
   "execution_count": 138,
   "id": "bb2dd14b",
   "metadata": {},
   "outputs": [
    {
     "name": "stderr",
     "output_type": "stream",
     "text": [
      "C:\\Users\\Glady\\AppData\\Local\\Temp\\ipykernel_13704\\2220492338.py:1: SettingWithCopyWarning: \n",
      "A value is trying to be set on a copy of a slice from a DataFrame\n",
      "\n",
      "See the caveats in the documentation: https://pandas.pydata.org/pandas-docs/stable/user_guide/indexing.html#returning-a-view-versus-a-copy\n",
      "  df2.drop('LIM_PAY_AMT1',axis=1,inplace=True)\n"
     ]
    }
   ],
   "source": [
    "df2.drop('LIM_PAY_AMT1',axis=1,inplace=True)"
   ]
  },
  {
   "cell_type": "code",
   "execution_count": 139,
   "id": "d9921d0a",
   "metadata": {},
   "outputs": [
    {
     "data": {
      "text/html": [
       "<div>\n",
       "<style scoped>\n",
       "    .dataframe tbody tr th:only-of-type {\n",
       "        vertical-align: middle;\n",
       "    }\n",
       "\n",
       "    .dataframe tbody tr th {\n",
       "        vertical-align: top;\n",
       "    }\n",
       "\n",
       "    .dataframe thead th {\n",
       "        text-align: right;\n",
       "    }\n",
       "</style>\n",
       "<table border=\"1\" class=\"dataframe\">\n",
       "  <thead>\n",
       "    <tr style=\"text-align: right;\">\n",
       "      <th></th>\n",
       "      <th>ID</th>\n",
       "      <th>LIMIT_BAL</th>\n",
       "      <th>SEX</th>\n",
       "      <th>EDUCATION</th>\n",
       "      <th>MARRIAGE</th>\n",
       "      <th>AGE</th>\n",
       "      <th>PAY_0</th>\n",
       "      <th>PAY_2</th>\n",
       "      <th>PAY_3</th>\n",
       "      <th>PAY_4</th>\n",
       "      <th>...</th>\n",
       "      <th>PAY_AMT5</th>\n",
       "      <th>PAY_AMT6</th>\n",
       "      <th>default payment next month</th>\n",
       "      <th>OUT_PAY_AMT1</th>\n",
       "      <th>OUT_PAY_AMT2</th>\n",
       "      <th>OUT_PAY_AMT3</th>\n",
       "      <th>OUT_PAY_AMT4</th>\n",
       "      <th>OUT_PAY_AMT5</th>\n",
       "      <th>OUT_PAY_AMT6</th>\n",
       "      <th>LIM_PAY_AMT2</th>\n",
       "    </tr>\n",
       "  </thead>\n",
       "  <tbody>\n",
       "    <tr>\n",
       "      <th>5</th>\n",
       "      <td>6</td>\n",
       "      <td>50000</td>\n",
       "      <td>1</td>\n",
       "      <td>1</td>\n",
       "      <td>2</td>\n",
       "      <td>37</td>\n",
       "      <td>0</td>\n",
       "      <td>0</td>\n",
       "      <td>0</td>\n",
       "      <td>0</td>\n",
       "      <td>...</td>\n",
       "      <td>1000</td>\n",
       "      <td>800</td>\n",
       "      <td>0</td>\n",
       "      <td>61900</td>\n",
       "      <td>55254</td>\n",
       "      <td>56951</td>\n",
       "      <td>18394</td>\n",
       "      <td>18619</td>\n",
       "      <td>19224</td>\n",
       "      <td>0</td>\n",
       "    </tr>\n",
       "    <tr>\n",
       "      <th>108</th>\n",
       "      <td>109</td>\n",
       "      <td>130000</td>\n",
       "      <td>1</td>\n",
       "      <td>2</td>\n",
       "      <td>2</td>\n",
       "      <td>38</td>\n",
       "      <td>0</td>\n",
       "      <td>0</td>\n",
       "      <td>0</td>\n",
       "      <td>0</td>\n",
       "      <td>...</td>\n",
       "      <td>133841</td>\n",
       "      <td>4796</td>\n",
       "      <td>0</td>\n",
       "      <td>160530</td>\n",
       "      <td>178382</td>\n",
       "      <td>-93717</td>\n",
       "      <td>115917</td>\n",
       "      <td>-89714</td>\n",
       "      <td>121772</td>\n",
       "      <td>0</td>\n",
       "    </tr>\n",
       "    <tr>\n",
       "      <th>129</th>\n",
       "      <td>130</td>\n",
       "      <td>60000</td>\n",
       "      <td>1</td>\n",
       "      <td>3</td>\n",
       "      <td>1</td>\n",
       "      <td>55</td>\n",
       "      <td>3</td>\n",
       "      <td>2</td>\n",
       "      <td>2</td>\n",
       "      <td>0</td>\n",
       "      <td>...</td>\n",
       "      <td>1100</td>\n",
       "      <td>1500</td>\n",
       "      <td>0</td>\n",
       "      <td>58017</td>\n",
       "      <td>61443</td>\n",
       "      <td>56044</td>\n",
       "      <td>27653</td>\n",
       "      <td>28410</td>\n",
       "      <td>25047</td>\n",
       "      <td>0</td>\n",
       "    </tr>\n",
       "    <tr>\n",
       "      <th>179</th>\n",
       "      <td>180</td>\n",
       "      <td>80000</td>\n",
       "      <td>2</td>\n",
       "      <td>2</td>\n",
       "      <td>1</td>\n",
       "      <td>29</td>\n",
       "      <td>0</td>\n",
       "      <td>0</td>\n",
       "      <td>2</td>\n",
       "      <td>0</td>\n",
       "      <td>...</td>\n",
       "      <td>1000</td>\n",
       "      <td>0</td>\n",
       "      <td>0</td>\n",
       "      <td>72083</td>\n",
       "      <td>80811</td>\n",
       "      <td>79650</td>\n",
       "      <td>61067</td>\n",
       "      <td>9662</td>\n",
       "      <td>11486</td>\n",
       "      <td>0</td>\n",
       "    </tr>\n",
       "    <tr>\n",
       "      <th>189</th>\n",
       "      <td>190</td>\n",
       "      <td>20000</td>\n",
       "      <td>2</td>\n",
       "      <td>2</td>\n",
       "      <td>2</td>\n",
       "      <td>31</td>\n",
       "      <td>1</td>\n",
       "      <td>5</td>\n",
       "      <td>4</td>\n",
       "      <td>4</td>\n",
       "      <td>...</td>\n",
       "      <td>760</td>\n",
       "      <td>0</td>\n",
       "      <td>0</td>\n",
       "      <td>21703</td>\n",
       "      <td>20087</td>\n",
       "      <td>21461</td>\n",
       "      <td>20835</td>\n",
       "      <td>19459</td>\n",
       "      <td>20487</td>\n",
       "      <td>0</td>\n",
       "    </tr>\n",
       "  </tbody>\n",
       "</table>\n",
       "<p>5 rows × 32 columns</p>\n",
       "</div>"
      ],
      "text/plain": [
       "      ID  LIMIT_BAL  SEX  EDUCATION  MARRIAGE  AGE  PAY_0  PAY_2  PAY_3  \\\n",
       "5      6      50000    1          1         2   37      0      0      0   \n",
       "108  109     130000    1          2         2   38      0      0      0   \n",
       "129  130      60000    1          3         1   55      3      2      2   \n",
       "179  180      80000    2          2         1   29      0      0      2   \n",
       "189  190      20000    2          2         2   31      1      5      4   \n",
       "\n",
       "     PAY_4  ...  PAY_AMT5  PAY_AMT6  default payment next month  OUT_PAY_AMT1  \\\n",
       "5        0  ...      1000       800                           0         61900   \n",
       "108      0  ...    133841      4796                           0        160530   \n",
       "129      0  ...      1100      1500                           0         58017   \n",
       "179      0  ...      1000         0                           0         72083   \n",
       "189      4  ...       760         0                           0         21703   \n",
       "\n",
       "     OUT_PAY_AMT2  OUT_PAY_AMT3  OUT_PAY_AMT4  OUT_PAY_AMT5  OUT_PAY_AMT6  \\\n",
       "5           55254         56951         18394         18619         19224   \n",
       "108        178382        -93717        115917        -89714        121772   \n",
       "129         61443         56044         27653         28410         25047   \n",
       "179         80811         79650         61067          9662         11486   \n",
       "189         20087         21461         20835         19459         20487   \n",
       "\n",
       "     LIM_PAY_AMT2  \n",
       "5               0  \n",
       "108             0  \n",
       "129             0  \n",
       "179             0  \n",
       "189             0  \n",
       "\n",
       "[5 rows x 32 columns]"
      ]
     },
     "execution_count": 139,
     "metadata": {},
     "output_type": "execute_result"
    }
   ],
   "source": [
    "df2.head()"
   ]
  },
  {
   "cell_type": "code",
   "execution_count": 140,
   "id": "3a749799",
   "metadata": {},
   "outputs": [
    {
     "data": {
      "text/plain": [
       "array([0])"
      ]
     },
     "execution_count": 140,
     "metadata": {},
     "output_type": "execute_result"
    }
   ],
   "source": [
    "df2['LIM_PAY_AMT2'].unique()"
   ]
  },
  {
   "cell_type": "markdown",
   "id": "031c262e",
   "metadata": {},
   "source": [
    "## Analysis based on Age"
   ]
  },
  {
   "cell_type": "code",
   "execution_count": 141,
   "id": "d83b0687",
   "metadata": {},
   "outputs": [
    {
     "data": {
      "text/plain": [
       "30    45\n",
       "28    44\n",
       "25    41\n",
       "26    39\n",
       "29    38\n",
       "36    35\n",
       "24    35\n",
       "33    33\n",
       "27    33\n",
       "37    32\n",
       "23    31\n",
       "35    31\n",
       "42    30\n",
       "34    28\n",
       "41    28\n",
       "44    27\n",
       "46    26\n",
       "22    25\n",
       "39    25\n",
       "45    24\n",
       "32    24\n",
       "31    24\n",
       "38    21\n",
       "40    20\n",
       "43    20\n",
       "49    18\n",
       "47    17\n",
       "54    15\n",
       "48    15\n",
       "51    15\n",
       "52    13\n",
       "50    12\n",
       "53     8\n",
       "58     7\n",
       "56     7\n",
       "55     5\n",
       "21     5\n",
       "62     4\n",
       "60     3\n",
       "67     3\n",
       "65     2\n",
       "59     2\n",
       "57     2\n",
       "66     1\n",
       "61     1\n",
       "Name: AGE, dtype: int64"
      ]
     },
     "execution_count": 141,
     "metadata": {},
     "output_type": "execute_result"
    }
   ],
   "source": [
    "df2['AGE'].value_counts()"
   ]
  },
  {
   "cell_type": "code",
   "execution_count": 142,
   "id": "df063353",
   "metadata": {},
   "outputs": [
    {
     "data": {
      "text/plain": [
       "<seaborn.axisgrid.FacetGrid at 0x1ff82a0f8b0>"
      ]
     },
     "execution_count": 142,
     "metadata": {},
     "output_type": "execute_result"
    },
    {
     "data": {
      "image/png": "[encoded data removed]",
      "text/plain": [
       "<Figure size 500x500 with 1 Axes>"
      ]
     },
     "metadata": {},
     "output_type": "display_data"
    }
   ],
   "source": [
    "sns.displot(df2['AGE'],kde=False,bins=5)"
   ]
  },
  {
   "cell_type": "code",
   "execution_count": 143,
   "id": "bf48f6d5",
   "metadata": {},
   "outputs": [
    {
     "data": {
      "text/plain": [
       "array([37, 38, 55, 29, 31, 26, 27, 40, 46, 23, 25, 35, 30, 24, 32, 34, 22,\n",
       "       54, 39, 43, 21, 28, 36, 33, 50, 49, 65, 52, 58, 51, 41, 48, 45, 44,\n",
       "       42, 56, 47, 60, 59, 53, 57, 66, 67, 62, 61], dtype=int64)"
      ]
     },
     "execution_count": 143,
     "metadata": {},
     "output_type": "execute_result"
    }
   ],
   "source": [
    "df2['AGE'].unique()"
   ]
  },
  {
   "cell_type": "code",
   "execution_count": 144,
   "id": "a75aa691",
   "metadata": {},
   "outputs": [
    {
     "data": {
      "text/plain": [
       "(20, 30]    336\n",
       "(30, 40]    273\n",
       "(40, 50]    217\n",
       "(50, 60]     77\n",
       "(60, 70]     11\n",
       "(0, 20]       0\n",
       "(70, 80]      0\n",
       "Name: AGE, dtype: int64"
      ]
     },
     "execution_count": 144,
     "metadata": {},
     "output_type": "execute_result"
    }
   ],
   "source": [
    "pd.cut(df2['AGE'], [0, 20, 30, 40, 50, 60, 70, 80]).value_counts()"
   ]
  },
  {
   "cell_type": "markdown",
   "id": "75d0b2f3",
   "metadata": {},
   "source": [
    "# Observation for August, 2005 (Analysis based on AGE)"
   ]
  },
  {
   "cell_type": "markdown",
   "id": "50d270cb",
   "metadata": {},
   "source": [
    "The outstanding payment amount is found with the help of bill amount, BILL_AMT_2 and PAY_AMT_2. \n",
    "1. Total number of 914 customers exceeded their limit balance out of 30000 customers.\n",
    "\n",
    "Among the 1009 customers, \n",
    "1. 336 customers in the age group of 20 - 30 exceeded the limit balance.\n",
    "2. 273 customers in the age group of 30 - 40 exceeded the limit balance.\n",
    "3. 217 customers in the age group of 40 - 50 exceeded the limit balance.\n",
    "4. 77 customers in the age group of 50 - 60 exceeded the limit balance.\n",
    "5. 11 customers in the age group of 60 - 70 exceeded the limit balance.\n",
    "\n",
    "It can be concluded that the youngsters within the age group of 20-30 is over using the card and exceeding the limit."
   ]
  },
  {
   "cell_type": "markdown",
   "id": "b487af48",
   "metadata": {},
   "source": [
    "## Analysis based on EDUCATION"
   ]
  },
  {
   "cell_type": "markdown",
   "id": "dea3ea3a",
   "metadata": {},
   "source": [
    "For Education the values and their explanation: \n",
    "1 = graduate school; \n",
    "2 = university; \n",
    "3 = high school; \n",
    "4 = others"
   ]
  },
  {
   "cell_type": "code",
   "execution_count": 145,
   "id": "fae0cb29",
   "metadata": {},
   "outputs": [
    {
     "name": "stdout",
     "output_type": "stream",
     "text": [
      "<class 'pandas.core.series.Series'>\n",
      "Int64Index: 914 entries, 5 to 29992\n",
      "Series name: EDUCATION\n",
      "Non-Null Count  Dtype\n",
      "--------------  -----\n",
      "914 non-null    int64\n",
      "dtypes: int64(1)\n",
      "memory usage: 14.3 KB\n"
     ]
    }
   ],
   "source": [
    "df2['EDUCATION'].info()"
   ]
  },
  {
   "cell_type": "code",
   "execution_count": 146,
   "id": "8f91ca1f",
   "metadata": {},
   "outputs": [
    {
     "data": {
      "text/plain": [
       "array([1, 2, 3, 4, 6, 5], dtype=int64)"
      ]
     },
     "execution_count": 146,
     "metadata": {},
     "output_type": "execute_result"
    }
   ],
   "source": [
    "df2['EDUCATION'].unique()"
   ]
  },
  {
   "cell_type": "code",
   "execution_count": 147,
   "id": "59b68323",
   "metadata": {},
   "outputs": [
    {
     "data": {
      "text/plain": [
       "2    507\n",
       "3    207\n",
       "1    176\n",
       "5     14\n",
       "4      6\n",
       "6      4\n",
       "Name: EDUCATION, dtype: int64"
      ]
     },
     "execution_count": 147,
     "metadata": {},
     "output_type": "execute_result"
    }
   ],
   "source": [
    "df2['EDUCATION'].value_counts()"
   ]
  },
  {
   "cell_type": "code",
   "execution_count": 155,
   "id": "af5bb86c",
   "metadata": {},
   "outputs": [
    {
     "data": {
      "text/plain": [
       "<seaborn.axisgrid.FacetGrid at 0x1ff82d86220>"
      ]
     },
     "execution_count": 155,
     "metadata": {},
     "output_type": "execute_result"
    },
    {
     "data": {
      "image/png": "[encoded data removed]",
      "text/plain": [
       "<Figure size 500x500 with 1 Axes>"
      ]
     },
     "metadata": {},
     "output_type": "display_data"
    }
   ],
   "source": [
    "sns.displot(df2['EDUCATION'],kde=False,bins=6)"
   ]
  },
  {
   "cell_type": "markdown",
   "id": "ad755690",
   "metadata": {},
   "source": [
    "# Observation for August, 2005 (Analysis based on EDUCATION)"
   ]
  },
  {
   "cell_type": "markdown",
   "id": "19f9f249",
   "metadata": {},
   "source": [
    "Among the 914 customers,\n",
    "1. 507 customers with university education background exceeded the limit balance.\n",
    "2. 207 customers with high school education background exceeded the limit balance.\n",
    "3. 176 customers with graduate school education background exceeded the limit balance.\n",
    "4. 6 customers with other education background exceeded the limit balance.\n",
    "\n",
    "Based on the education, it can be concluded that the customers with university education background is over using the card and not maintaining the credit limit."
   ]
  },
  {
   "cell_type": "code",
   "execution_count": 151,
   "id": "23f13116",
   "metadata": {},
   "outputs": [
    {
     "data": {
      "text/html": [
       "<div>\n",
       "<style scoped>\n",
       "    .dataframe tbody tr th:only-of-type {\n",
       "        vertical-align: middle;\n",
       "    }\n",
       "\n",
       "    .dataframe tbody tr th {\n",
       "        vertical-align: top;\n",
       "    }\n",
       "\n",
       "    .dataframe thead th {\n",
       "        text-align: right;\n",
       "    }\n",
       "</style>\n",
       "<table border=\"1\" class=\"dataframe\">\n",
       "  <thead>\n",
       "    <tr style=\"text-align: right;\">\n",
       "      <th></th>\n",
       "      <th>ID</th>\n",
       "      <th>LIMIT_BAL</th>\n",
       "      <th>SEX</th>\n",
       "      <th>EDUCATION</th>\n",
       "      <th>MARRIAGE</th>\n",
       "      <th>AGE</th>\n",
       "      <th>PAY_0</th>\n",
       "      <th>PAY_2</th>\n",
       "      <th>PAY_3</th>\n",
       "      <th>PAY_4</th>\n",
       "      <th>...</th>\n",
       "      <th>PAY_AMT5</th>\n",
       "      <th>PAY_AMT6</th>\n",
       "      <th>default payment next month</th>\n",
       "      <th>OUT_PAY_AMT1</th>\n",
       "      <th>OUT_PAY_AMT2</th>\n",
       "      <th>OUT_PAY_AMT3</th>\n",
       "      <th>OUT_PAY_AMT4</th>\n",
       "      <th>OUT_PAY_AMT5</th>\n",
       "      <th>OUT_PAY_AMT6</th>\n",
       "      <th>LIM_PAY_AMT2</th>\n",
       "    </tr>\n",
       "  </thead>\n",
       "  <tbody>\n",
       "    <tr>\n",
       "      <th>5</th>\n",
       "      <td>6</td>\n",
       "      <td>50000</td>\n",
       "      <td>1</td>\n",
       "      <td>1</td>\n",
       "      <td>2</td>\n",
       "      <td>37</td>\n",
       "      <td>0</td>\n",
       "      <td>0</td>\n",
       "      <td>0</td>\n",
       "      <td>0</td>\n",
       "      <td>...</td>\n",
       "      <td>1000</td>\n",
       "      <td>800</td>\n",
       "      <td>0</td>\n",
       "      <td>61900</td>\n",
       "      <td>55254</td>\n",
       "      <td>56951</td>\n",
       "      <td>18394</td>\n",
       "      <td>18619</td>\n",
       "      <td>19224</td>\n",
       "      <td>0</td>\n",
       "    </tr>\n",
       "    <tr>\n",
       "      <th>108</th>\n",
       "      <td>109</td>\n",
       "      <td>130000</td>\n",
       "      <td>1</td>\n",
       "      <td>2</td>\n",
       "      <td>2</td>\n",
       "      <td>38</td>\n",
       "      <td>0</td>\n",
       "      <td>0</td>\n",
       "      <td>0</td>\n",
       "      <td>0</td>\n",
       "      <td>...</td>\n",
       "      <td>133841</td>\n",
       "      <td>4796</td>\n",
       "      <td>0</td>\n",
       "      <td>160530</td>\n",
       "      <td>178382</td>\n",
       "      <td>-93717</td>\n",
       "      <td>115917</td>\n",
       "      <td>-89714</td>\n",
       "      <td>121772</td>\n",
       "      <td>0</td>\n",
       "    </tr>\n",
       "    <tr>\n",
       "      <th>129</th>\n",
       "      <td>130</td>\n",
       "      <td>60000</td>\n",
       "      <td>1</td>\n",
       "      <td>3</td>\n",
       "      <td>1</td>\n",
       "      <td>55</td>\n",
       "      <td>3</td>\n",
       "      <td>2</td>\n",
       "      <td>2</td>\n",
       "      <td>0</td>\n",
       "      <td>...</td>\n",
       "      <td>1100</td>\n",
       "      <td>1500</td>\n",
       "      <td>0</td>\n",
       "      <td>58017</td>\n",
       "      <td>61443</td>\n",
       "      <td>56044</td>\n",
       "      <td>27653</td>\n",
       "      <td>28410</td>\n",
       "      <td>25047</td>\n",
       "      <td>0</td>\n",
       "    </tr>\n",
       "    <tr>\n",
       "      <th>179</th>\n",
       "      <td>180</td>\n",
       "      <td>80000</td>\n",
       "      <td>2</td>\n",
       "      <td>2</td>\n",
       "      <td>1</td>\n",
       "      <td>29</td>\n",
       "      <td>0</td>\n",
       "      <td>0</td>\n",
       "      <td>2</td>\n",
       "      <td>0</td>\n",
       "      <td>...</td>\n",
       "      <td>1000</td>\n",
       "      <td>0</td>\n",
       "      <td>0</td>\n",
       "      <td>72083</td>\n",
       "      <td>80811</td>\n",
       "      <td>79650</td>\n",
       "      <td>61067</td>\n",
       "      <td>9662</td>\n",
       "      <td>11486</td>\n",
       "      <td>0</td>\n",
       "    </tr>\n",
       "    <tr>\n",
       "      <th>189</th>\n",
       "      <td>190</td>\n",
       "      <td>20000</td>\n",
       "      <td>2</td>\n",
       "      <td>2</td>\n",
       "      <td>2</td>\n",
       "      <td>31</td>\n",
       "      <td>1</td>\n",
       "      <td>5</td>\n",
       "      <td>4</td>\n",
       "      <td>4</td>\n",
       "      <td>...</td>\n",
       "      <td>760</td>\n",
       "      <td>0</td>\n",
       "      <td>0</td>\n",
       "      <td>21703</td>\n",
       "      <td>20087</td>\n",
       "      <td>21461</td>\n",
       "      <td>20835</td>\n",
       "      <td>19459</td>\n",
       "      <td>20487</td>\n",
       "      <td>0</td>\n",
       "    </tr>\n",
       "  </tbody>\n",
       "</table>\n",
       "<p>5 rows × 32 columns</p>\n",
       "</div>"
      ],
      "text/plain": [
       "      ID  LIMIT_BAL  SEX  EDUCATION  MARRIAGE  AGE  PAY_0  PAY_2  PAY_3  \\\n",
       "5      6      50000    1          1         2   37      0      0      0   \n",
       "108  109     130000    1          2         2   38      0      0      0   \n",
       "129  130      60000    1          3         1   55      3      2      2   \n",
       "179  180      80000    2          2         1   29      0      0      2   \n",
       "189  190      20000    2          2         2   31      1      5      4   \n",
       "\n",
       "     PAY_4  ...  PAY_AMT5  PAY_AMT6  default payment next month  OUT_PAY_AMT1  \\\n",
       "5        0  ...      1000       800                           0         61900   \n",
       "108      0  ...    133841      4796                           0        160530   \n",
       "129      0  ...      1100      1500                           0         58017   \n",
       "179      0  ...      1000         0                           0         72083   \n",
       "189      4  ...       760         0                           0         21703   \n",
       "\n",
       "     OUT_PAY_AMT2  OUT_PAY_AMT3  OUT_PAY_AMT4  OUT_PAY_AMT5  OUT_PAY_AMT6  \\\n",
       "5           55254         56951         18394         18619         19224   \n",
       "108        178382        -93717        115917        -89714        121772   \n",
       "129         61443         56044         27653         28410         25047   \n",
       "179         80811         79650         61067          9662         11486   \n",
       "189         20087         21461         20835         19459         20487   \n",
       "\n",
       "     LIM_PAY_AMT2  \n",
       "5               0  \n",
       "108             0  \n",
       "129             0  \n",
       "179             0  \n",
       "189             0  \n",
       "\n",
       "[5 rows x 32 columns]"
      ]
     },
     "execution_count": 151,
     "metadata": {},
     "output_type": "execute_result"
    }
   ],
   "source": [
    "df2.head()"
   ]
  },
  {
   "cell_type": "markdown",
   "id": "facf5184",
   "metadata": {},
   "source": [
    "# Analysis based on MARRIAGE"
   ]
  },
  {
   "cell_type": "code",
   "execution_count": 152,
   "id": "cc795a20",
   "metadata": {},
   "outputs": [
    {
     "data": {
      "text/plain": [
       "array([2, 1, 3], dtype=int64)"
      ]
     },
     "execution_count": 152,
     "metadata": {},
     "output_type": "execute_result"
    }
   ],
   "source": [
    "df2['MARRIAGE'].unique()"
   ]
  },
  {
   "cell_type": "code",
   "execution_count": 153,
   "id": "330e42e1",
   "metadata": {},
   "outputs": [
    {
     "data": {
      "text/plain": [
       "2    506\n",
       "1    395\n",
       "3     13\n",
       "Name: MARRIAGE, dtype: int64"
      ]
     },
     "execution_count": 153,
     "metadata": {},
     "output_type": "execute_result"
    }
   ],
   "source": [
    "df2['MARRIAGE'].value_counts()"
   ]
  },
  {
   "cell_type": "code",
   "execution_count": 159,
   "id": "c81fc442",
   "metadata": {},
   "outputs": [
    {
     "data": {
      "text/plain": [
       "<seaborn.axisgrid.FacetGrid at 0x1ff85025370>"
      ]
     },
     "execution_count": 159,
     "metadata": {},
     "output_type": "execute_result"
    },
    {
     "data": {
      "image/png": "[encoded data removed]",
      "text/plain": [
       "<Figure size 500x500 with 1 Axes>"
      ]
     },
     "metadata": {},
     "output_type": "display_data"
    }
   ],
   "source": [
    "sns.displot(df2['MARRIAGE'],kde=False,bins=3)"
   ]
  },
  {
   "cell_type": "markdown",
   "id": "f70730b3",
   "metadata": {},
   "source": [
    "## Observation for August, 2005 (Analysis based on MARRIAGE)"
   ]
  },
  {
   "cell_type": "markdown",
   "id": "be69be72",
   "metadata": {},
   "source": [
    "Among the 914 customers,\n",
    "1. 506 customers with marriage status as single exceeded the limit balance.\n",
    "2. 395 customers with marriage status as married exceeded the limit balance.\n",
    "3. 13 customers with marriage status as others exceeded the limit balance.\n",
    "\n",
    "The single customers have over used the credit card and exceeded the credit limit when compared to married people."
   ]
  },
  {
   "cell_type": "markdown",
   "id": "731d1824",
   "metadata": {},
   "source": [
    "## Analysis based on SEX"
   ]
  },
  {
   "cell_type": "code",
   "execution_count": 160,
   "id": "2ca8fb17",
   "metadata": {},
   "outputs": [
    {
     "data": {
      "text/plain": [
       "array([1, 2], dtype=int64)"
      ]
     },
     "execution_count": 160,
     "metadata": {},
     "output_type": "execute_result"
    }
   ],
   "source": [
    "df2['SEX'].unique()"
   ]
  },
  {
   "cell_type": "code",
   "execution_count": 161,
   "id": "ddc60555",
   "metadata": {},
   "outputs": [
    {
     "data": {
      "text/plain": [
       "2    491\n",
       "1    423\n",
       "Name: SEX, dtype: int64"
      ]
     },
     "execution_count": 161,
     "metadata": {},
     "output_type": "execute_result"
    }
   ],
   "source": [
    "df2['SEX'].value_counts()"
   ]
  },
  {
   "cell_type": "code",
   "execution_count": 162,
   "id": "664133b5",
   "metadata": {},
   "outputs": [
    {
     "data": {
      "text/plain": [
       "<seaborn.axisgrid.FacetGrid at 0x1ff83e0bb20>"
      ]
     },
     "execution_count": 162,
     "metadata": {},
     "output_type": "execute_result"
    },
    {
     "data": {
      "image/png": "[encoded data removed]",
      "text/plain": [
       "<Figure size 500x500 with 1 Axes>"
      ]
     },
     "metadata": {},
     "output_type": "display_data"
    }
   ],
   "source": [
    "sns.displot(df1['SEX'],kde=False,bins=2)"
   ]
  },
  {
   "cell_type": "markdown",
   "id": "48b50a08",
   "metadata": {},
   "source": [
    "# Observation for September, 2005 (Analysis based on SEX)"
   ]
  },
  {
   "cell_type": "markdown",
   "id": "743682e6",
   "metadata": {},
   "source": [
    "Among the 914 customers,\n",
    "1. 491 female customers exceeded the limit balance.\n",
    "2. 423 male customers exceeded the limit balance.\n",
    "\n",
    "More number of female customers overused the credit card than male customers and exceeded the credit limit."
   ]
  },
  {
   "cell_type": "markdown",
   "id": "c36964f2",
   "metadata": {},
   "source": [
    "# Outstanding payment analysis for July, 2005 "
   ]
  },
  {
   "cell_type": "code",
   "execution_count": 164,
   "id": "102f4f48",
   "metadata": {},
   "outputs": [],
   "source": [
    "df['LIM_PAY_AMT3'] = df['OUT_PAY_AMT3']\n",
    "df['LIM_PAY_AMT3'] = np.where(df['LIM_PAY_AMT3'] > df['LIMIT_BAL'], 0, 1)"
   ]
  },
  {
   "cell_type": "code",
   "execution_count": 165,
   "id": "53879280",
   "metadata": {},
   "outputs": [
    {
     "data": {
      "text/plain": [
       "(30000, 34)"
      ]
     },
     "execution_count": 165,
     "metadata": {},
     "output_type": "execute_result"
    }
   ],
   "source": [
    "df.shape"
   ]
  },
  {
   "cell_type": "code",
   "execution_count": 166,
   "id": "7e2022fa",
   "metadata": {},
   "outputs": [
    {
     "data": {
      "text/html": [
       "<div>\n",
       "<style scoped>\n",
       "    .dataframe tbody tr th:only-of-type {\n",
       "        vertical-align: middle;\n",
       "    }\n",
       "\n",
       "    .dataframe tbody tr th {\n",
       "        vertical-align: top;\n",
       "    }\n",
       "\n",
       "    .dataframe thead th {\n",
       "        text-align: right;\n",
       "    }\n",
       "</style>\n",
       "<table border=\"1\" class=\"dataframe\">\n",
       "  <thead>\n",
       "    <tr style=\"text-align: right;\">\n",
       "      <th></th>\n",
       "      <th>ID</th>\n",
       "      <th>LIMIT_BAL</th>\n",
       "      <th>SEX</th>\n",
       "      <th>EDUCATION</th>\n",
       "      <th>MARRIAGE</th>\n",
       "      <th>AGE</th>\n",
       "      <th>PAY_0</th>\n",
       "      <th>PAY_2</th>\n",
       "      <th>PAY_3</th>\n",
       "      <th>PAY_4</th>\n",
       "      <th>...</th>\n",
       "      <th>default payment next month</th>\n",
       "      <th>OUT_PAY_AMT1</th>\n",
       "      <th>OUT_PAY_AMT2</th>\n",
       "      <th>OUT_PAY_AMT3</th>\n",
       "      <th>OUT_PAY_AMT4</th>\n",
       "      <th>OUT_PAY_AMT5</th>\n",
       "      <th>OUT_PAY_AMT6</th>\n",
       "      <th>LIM_PAY_AMT1</th>\n",
       "      <th>LIM_PAY_AMT2</th>\n",
       "      <th>LIM_PAY_AMT3</th>\n",
       "    </tr>\n",
       "  </thead>\n",
       "  <tbody>\n",
       "    <tr>\n",
       "      <th>0</th>\n",
       "      <td>1</td>\n",
       "      <td>20000</td>\n",
       "      <td>2</td>\n",
       "      <td>2</td>\n",
       "      <td>1</td>\n",
       "      <td>24</td>\n",
       "      <td>2</td>\n",
       "      <td>2</td>\n",
       "      <td>0</td>\n",
       "      <td>0</td>\n",
       "      <td>...</td>\n",
       "      <td>1</td>\n",
       "      <td>3913</td>\n",
       "      <td>2413</td>\n",
       "      <td>689</td>\n",
       "      <td>0</td>\n",
       "      <td>0</td>\n",
       "      <td>0</td>\n",
       "      <td>1</td>\n",
       "      <td>1</td>\n",
       "      <td>1</td>\n",
       "    </tr>\n",
       "    <tr>\n",
       "      <th>1</th>\n",
       "      <td>2</td>\n",
       "      <td>120000</td>\n",
       "      <td>2</td>\n",
       "      <td>2</td>\n",
       "      <td>2</td>\n",
       "      <td>26</td>\n",
       "      <td>0</td>\n",
       "      <td>2</td>\n",
       "      <td>0</td>\n",
       "      <td>0</td>\n",
       "      <td>...</td>\n",
       "      <td>1</td>\n",
       "      <td>2682</td>\n",
       "      <td>725</td>\n",
       "      <td>1682</td>\n",
       "      <td>2272</td>\n",
       "      <td>3455</td>\n",
       "      <td>1261</td>\n",
       "      <td>1</td>\n",
       "      <td>1</td>\n",
       "      <td>1</td>\n",
       "    </tr>\n",
       "    <tr>\n",
       "      <th>2</th>\n",
       "      <td>3</td>\n",
       "      <td>90000</td>\n",
       "      <td>2</td>\n",
       "      <td>2</td>\n",
       "      <td>2</td>\n",
       "      <td>34</td>\n",
       "      <td>0</td>\n",
       "      <td>0</td>\n",
       "      <td>0</td>\n",
       "      <td>0</td>\n",
       "      <td>...</td>\n",
       "      <td>0</td>\n",
       "      <td>27721</td>\n",
       "      <td>12527</td>\n",
       "      <td>12559</td>\n",
       "      <td>13331</td>\n",
       "      <td>13948</td>\n",
       "      <td>10549</td>\n",
       "      <td>1</td>\n",
       "      <td>1</td>\n",
       "      <td>1</td>\n",
       "    </tr>\n",
       "    <tr>\n",
       "      <th>3</th>\n",
       "      <td>4</td>\n",
       "      <td>50000</td>\n",
       "      <td>2</td>\n",
       "      <td>2</td>\n",
       "      <td>1</td>\n",
       "      <td>37</td>\n",
       "      <td>0</td>\n",
       "      <td>0</td>\n",
       "      <td>0</td>\n",
       "      <td>0</td>\n",
       "      <td>...</td>\n",
       "      <td>0</td>\n",
       "      <td>44990</td>\n",
       "      <td>46214</td>\n",
       "      <td>48091</td>\n",
       "      <td>27214</td>\n",
       "      <td>27890</td>\n",
       "      <td>28547</td>\n",
       "      <td>1</td>\n",
       "      <td>1</td>\n",
       "      <td>1</td>\n",
       "    </tr>\n",
       "    <tr>\n",
       "      <th>4</th>\n",
       "      <td>5</td>\n",
       "      <td>50000</td>\n",
       "      <td>1</td>\n",
       "      <td>2</td>\n",
       "      <td>1</td>\n",
       "      <td>57</td>\n",
       "      <td>0</td>\n",
       "      <td>0</td>\n",
       "      <td>0</td>\n",
       "      <td>0</td>\n",
       "      <td>...</td>\n",
       "      <td>0</td>\n",
       "      <td>6617</td>\n",
       "      <td>-31011</td>\n",
       "      <td>25835</td>\n",
       "      <td>11940</td>\n",
       "      <td>18457</td>\n",
       "      <td>18452</td>\n",
       "      <td>1</td>\n",
       "      <td>1</td>\n",
       "      <td>1</td>\n",
       "    </tr>\n",
       "  </tbody>\n",
       "</table>\n",
       "<p>5 rows × 34 columns</p>\n",
       "</div>"
      ],
      "text/plain": [
       "   ID  LIMIT_BAL  SEX  EDUCATION  MARRIAGE  AGE  PAY_0  PAY_2  PAY_3  PAY_4  \\\n",
       "0   1      20000    2          2         1   24      2      2      0      0   \n",
       "1   2     120000    2          2         2   26      0      2      0      0   \n",
       "2   3      90000    2          2         2   34      0      0      0      0   \n",
       "3   4      50000    2          2         1   37      0      0      0      0   \n",
       "4   5      50000    1          2         1   57      0      0      0      0   \n",
       "\n",
       "   ...  default payment next month  OUT_PAY_AMT1  OUT_PAY_AMT2  OUT_PAY_AMT3  \\\n",
       "0  ...                           1          3913          2413           689   \n",
       "1  ...                           1          2682           725          1682   \n",
       "2  ...                           0         27721         12527         12559   \n",
       "3  ...                           0         44990         46214         48091   \n",
       "4  ...                           0          6617        -31011         25835   \n",
       "\n",
       "   OUT_PAY_AMT4  OUT_PAY_AMT5  OUT_PAY_AMT6  LIM_PAY_AMT1  LIM_PAY_AMT2  \\\n",
       "0             0             0             0             1             1   \n",
       "1          2272          3455          1261             1             1   \n",
       "2         13331         13948         10549             1             1   \n",
       "3         27214         27890         28547             1             1   \n",
       "4         11940         18457         18452             1             1   \n",
       "\n",
       "   LIM_PAY_AMT3  \n",
       "0             1  \n",
       "1             1  \n",
       "2             1  \n",
       "3             1  \n",
       "4             1  \n",
       "\n",
       "[5 rows x 34 columns]"
      ]
     },
     "execution_count": 166,
     "metadata": {},
     "output_type": "execute_result"
    }
   ],
   "source": [
    "df.head()"
   ]
  },
  {
   "cell_type": "code",
   "execution_count": 167,
   "id": "146bf3c1",
   "metadata": {},
   "outputs": [
    {
     "data": {
      "text/plain": [
       "<AxesSubplot:xlabel='LIM_PAY_AMT3', ylabel='count'>"
      ]
     },
     "execution_count": 167,
     "metadata": {},
     "output_type": "execute_result"
    },
    {
     "data": {
      "image/png": "[encoded data removed]",
      "text/plain": [
       "<Figure size 640x480 with 1 Axes>"
      ]
     },
     "metadata": {},
     "output_type": "display_data"
    }
   ],
   "source": [
    "sns.countplot(x=df['LIM_PAY_AMT3'],data=df)"
   ]
  },
  {
   "cell_type": "code",
   "execution_count": 168,
   "id": "98beb0a5",
   "metadata": {},
   "outputs": [],
   "source": [
    "df3=df[df['LIM_PAY_AMT3'].isin([0])]"
   ]
  },
  {
   "cell_type": "code",
   "execution_count": 169,
   "id": "56b9ceb3",
   "metadata": {},
   "outputs": [
    {
     "data": {
      "text/plain": [
       "(752, 34)"
      ]
     },
     "execution_count": 169,
     "metadata": {},
     "output_type": "execute_result"
    }
   ],
   "source": [
    "df3.shape"
   ]
  },
  {
   "cell_type": "code",
   "execution_count": 173,
   "id": "2806df0b",
   "metadata": {},
   "outputs": [
    {
     "name": "stderr",
     "output_type": "stream",
     "text": [
      "C:\\Users\\Glady\\AppData\\Local\\Temp\\ipykernel_13704\\1736656879.py:1: SettingWithCopyWarning: \n",
      "A value is trying to be set on a copy of a slice from a DataFrame\n",
      "\n",
      "See the caveats in the documentation: https://pandas.pydata.org/pandas-docs/stable/user_guide/indexing.html#returning-a-view-versus-a-copy\n",
      "  df3.drop('LIM_PAY_AMT2',axis=1,inplace=True)\n"
     ]
    }
   ],
   "source": [
    "df3.drop('LIM_PAY_AMT2',axis=1,inplace=True)"
   ]
  },
  {
   "cell_type": "code",
   "execution_count": 174,
   "id": "e33ce9b0",
   "metadata": {},
   "outputs": [
    {
     "data": {
      "text/html": [
       "<div>\n",
       "<style scoped>\n",
       "    .dataframe tbody tr th:only-of-type {\n",
       "        vertical-align: middle;\n",
       "    }\n",
       "\n",
       "    .dataframe tbody tr th {\n",
       "        vertical-align: top;\n",
       "    }\n",
       "\n",
       "    .dataframe thead th {\n",
       "        text-align: right;\n",
       "    }\n",
       "</style>\n",
       "<table border=\"1\" class=\"dataframe\">\n",
       "  <thead>\n",
       "    <tr style=\"text-align: right;\">\n",
       "      <th></th>\n",
       "      <th>ID</th>\n",
       "      <th>LIMIT_BAL</th>\n",
       "      <th>SEX</th>\n",
       "      <th>EDUCATION</th>\n",
       "      <th>MARRIAGE</th>\n",
       "      <th>AGE</th>\n",
       "      <th>PAY_0</th>\n",
       "      <th>PAY_2</th>\n",
       "      <th>PAY_3</th>\n",
       "      <th>PAY_4</th>\n",
       "      <th>...</th>\n",
       "      <th>PAY_AMT5</th>\n",
       "      <th>PAY_AMT6</th>\n",
       "      <th>default payment next month</th>\n",
       "      <th>OUT_PAY_AMT1</th>\n",
       "      <th>OUT_PAY_AMT2</th>\n",
       "      <th>OUT_PAY_AMT3</th>\n",
       "      <th>OUT_PAY_AMT4</th>\n",
       "      <th>OUT_PAY_AMT5</th>\n",
       "      <th>OUT_PAY_AMT6</th>\n",
       "      <th>LIM_PAY_AMT3</th>\n",
       "    </tr>\n",
       "  </thead>\n",
       "  <tbody>\n",
       "    <tr>\n",
       "      <th>5</th>\n",
       "      <td>6</td>\n",
       "      <td>50000</td>\n",
       "      <td>1</td>\n",
       "      <td>1</td>\n",
       "      <td>2</td>\n",
       "      <td>37</td>\n",
       "      <td>0</td>\n",
       "      <td>0</td>\n",
       "      <td>0</td>\n",
       "      <td>0</td>\n",
       "      <td>...</td>\n",
       "      <td>1000</td>\n",
       "      <td>800</td>\n",
       "      <td>0</td>\n",
       "      <td>61900</td>\n",
       "      <td>55254</td>\n",
       "      <td>56951</td>\n",
       "      <td>18394</td>\n",
       "      <td>18619</td>\n",
       "      <td>19224</td>\n",
       "      <td>0</td>\n",
       "    </tr>\n",
       "    <tr>\n",
       "      <th>189</th>\n",
       "      <td>190</td>\n",
       "      <td>20000</td>\n",
       "      <td>2</td>\n",
       "      <td>2</td>\n",
       "      <td>2</td>\n",
       "      <td>31</td>\n",
       "      <td>1</td>\n",
       "      <td>5</td>\n",
       "      <td>4</td>\n",
       "      <td>4</td>\n",
       "      <td>...</td>\n",
       "      <td>760</td>\n",
       "      <td>0</td>\n",
       "      <td>0</td>\n",
       "      <td>21703</td>\n",
       "      <td>20087</td>\n",
       "      <td>21461</td>\n",
       "      <td>20835</td>\n",
       "      <td>19459</td>\n",
       "      <td>20487</td>\n",
       "      <td>0</td>\n",
       "    </tr>\n",
       "    <tr>\n",
       "      <th>303</th>\n",
       "      <td>304</td>\n",
       "      <td>20000</td>\n",
       "      <td>2</td>\n",
       "      <td>1</td>\n",
       "      <td>2</td>\n",
       "      <td>25</td>\n",
       "      <td>0</td>\n",
       "      <td>0</td>\n",
       "      <td>2</td>\n",
       "      <td>0</td>\n",
       "      <td>...</td>\n",
       "      <td>1000</td>\n",
       "      <td>2000</td>\n",
       "      <td>1</td>\n",
       "      <td>9168</td>\n",
       "      <td>14564</td>\n",
       "      <td>23820</td>\n",
       "      <td>14124</td>\n",
       "      <td>14761</td>\n",
       "      <td>10510</td>\n",
       "      <td>0</td>\n",
       "    </tr>\n",
       "    <tr>\n",
       "      <th>343</th>\n",
       "      <td>344</td>\n",
       "      <td>180000</td>\n",
       "      <td>1</td>\n",
       "      <td>1</td>\n",
       "      <td>1</td>\n",
       "      <td>39</td>\n",
       "      <td>0</td>\n",
       "      <td>0</td>\n",
       "      <td>0</td>\n",
       "      <td>0</td>\n",
       "      <td>...</td>\n",
       "      <td>101005</td>\n",
       "      <td>1898</td>\n",
       "      <td>0</td>\n",
       "      <td>263731</td>\n",
       "      <td>136713</td>\n",
       "      <td>216063</td>\n",
       "      <td>122295</td>\n",
       "      <td>-102010</td>\n",
       "      <td>-893</td>\n",
       "      <td>0</td>\n",
       "    </tr>\n",
       "    <tr>\n",
       "      <th>388</th>\n",
       "      <td>389</td>\n",
       "      <td>150000</td>\n",
       "      <td>1</td>\n",
       "      <td>2</td>\n",
       "      <td>1</td>\n",
       "      <td>43</td>\n",
       "      <td>0</td>\n",
       "      <td>0</td>\n",
       "      <td>0</td>\n",
       "      <td>0</td>\n",
       "      <td>...</td>\n",
       "      <td>5700</td>\n",
       "      <td>5334</td>\n",
       "      <td>0</td>\n",
       "      <td>145349</td>\n",
       "      <td>147549</td>\n",
       "      <td>150823</td>\n",
       "      <td>153953</td>\n",
       "      <td>157166</td>\n",
       "      <td>152425</td>\n",
       "      <td>0</td>\n",
       "    </tr>\n",
       "  </tbody>\n",
       "</table>\n",
       "<p>5 rows × 32 columns</p>\n",
       "</div>"
      ],
      "text/plain": [
       "      ID  LIMIT_BAL  SEX  EDUCATION  MARRIAGE  AGE  PAY_0  PAY_2  PAY_3  \\\n",
       "5      6      50000    1          1         2   37      0      0      0   \n",
       "189  190      20000    2          2         2   31      1      5      4   \n",
       "303  304      20000    2          1         2   25      0      0      2   \n",
       "343  344     180000    1          1         1   39      0      0      0   \n",
       "388  389     150000    1          2         1   43      0      0      0   \n",
       "\n",
       "     PAY_4  ...  PAY_AMT5  PAY_AMT6  default payment next month  OUT_PAY_AMT1  \\\n",
       "5        0  ...      1000       800                           0         61900   \n",
       "189      4  ...       760         0                           0         21703   \n",
       "303      0  ...      1000      2000                           1          9168   \n",
       "343      0  ...    101005      1898                           0        263731   \n",
       "388      0  ...      5700      5334                           0        145349   \n",
       "\n",
       "     OUT_PAY_AMT2  OUT_PAY_AMT3  OUT_PAY_AMT4  OUT_PAY_AMT5  OUT_PAY_AMT6  \\\n",
       "5           55254         56951         18394         18619         19224   \n",
       "189         20087         21461         20835         19459         20487   \n",
       "303         14564         23820         14124         14761         10510   \n",
       "343        136713        216063        122295       -102010          -893   \n",
       "388        147549        150823        153953        157166        152425   \n",
       "\n",
       "     LIM_PAY_AMT3  \n",
       "5               0  \n",
       "189             0  \n",
       "303             0  \n",
       "343             0  \n",
       "388             0  \n",
       "\n",
       "[5 rows x 32 columns]"
      ]
     },
     "execution_count": 174,
     "metadata": {},
     "output_type": "execute_result"
    }
   ],
   "source": [
    "df3.head()"
   ]
  },
  {
   "cell_type": "code",
   "execution_count": 175,
   "id": "f0d665bf",
   "metadata": {},
   "outputs": [
    {
     "data": {
      "text/plain": [
       "array([0])"
      ]
     },
     "execution_count": 175,
     "metadata": {},
     "output_type": "execute_result"
    }
   ],
   "source": [
    "df3['LIM_PAY_AMT3'].unique()"
   ]
  },
  {
   "cell_type": "markdown",
   "id": "8d45f9d7",
   "metadata": {},
   "source": [
    "## Analysis based on Age"
   ]
  },
  {
   "cell_type": "code",
   "execution_count": 176,
   "id": "b3203aab",
   "metadata": {},
   "outputs": [
    {
     "data": {
      "text/plain": [
       "24    38\n",
       "28    35\n",
       "36    34\n",
       "29    33\n",
       "26    33\n",
       "27    31\n",
       "37    29\n",
       "25    29\n",
       "30    27\n",
       "32    25\n",
       "22    25\n",
       "42    25\n",
       "33    25\n",
       "31    23\n",
       "44    23\n",
       "34    22\n",
       "35    22\n",
       "41    21\n",
       "46    20\n",
       "39    19\n",
       "23    19\n",
       "38    19\n",
       "48    18\n",
       "40    18\n",
       "45    17\n",
       "50    13\n",
       "43    13\n",
       "54    13\n",
       "49    13\n",
       "51    12\n",
       "47    10\n",
       "52     9\n",
       "21     6\n",
       "56     6\n",
       "53     6\n",
       "59     5\n",
       "55     3\n",
       "67     3\n",
       "62     2\n",
       "65     2\n",
       "57     1\n",
       "58     1\n",
       "71     1\n",
       "63     1\n",
       "60     1\n",
       "61     1\n",
       "Name: AGE, dtype: int64"
      ]
     },
     "execution_count": 176,
     "metadata": {},
     "output_type": "execute_result"
    }
   ],
   "source": [
    "df3['AGE'].value_counts()"
   ]
  },
  {
   "cell_type": "code",
   "execution_count": 180,
   "id": "fe96746f",
   "metadata": {},
   "outputs": [],
   "source": [
    "#sns.displot(df3['AGE'],kde=False,bins=5)"
   ]
  },
  {
   "cell_type": "code",
   "execution_count": 177,
   "id": "3fb3e9b1",
   "metadata": {},
   "outputs": [
    {
     "data": {
      "text/plain": [
       "array([37, 31, 25, 39, 43, 22, 29, 46, 38, 24, 42, 27, 34, 54, 33, 35, 30,\n",
       "       26, 52, 21, 55, 49, 65, 40, 50, 28, 36, 59, 51, 48, 41, 47, 32, 44,\n",
       "       23, 71, 56, 45, 53, 60, 67, 63, 62, 58, 57, 61], dtype=int64)"
      ]
     },
     "execution_count": 177,
     "metadata": {},
     "output_type": "execute_result"
    }
   ],
   "source": [
    "df3['AGE'].unique()"
   ]
  },
  {
   "cell_type": "code",
   "execution_count": 178,
   "id": "47a33534",
   "metadata": {},
   "outputs": [
    {
     "data": {
      "text/plain": [
       "(20, 30]    276\n",
       "(30, 40]    236\n",
       "(40, 50]    173\n",
       "(50, 60]     57\n",
       "(60, 70]      9\n",
       "(70, 80]      1\n",
       "(0, 20]       0\n",
       "Name: AGE, dtype: int64"
      ]
     },
     "execution_count": 178,
     "metadata": {},
     "output_type": "execute_result"
    }
   ],
   "source": [
    "pd.cut(df3['AGE'], [0, 20, 30, 40, 50, 60, 70, 80]).value_counts()"
   ]
  },
  {
   "cell_type": "markdown",
   "id": "29575ca4",
   "metadata": {},
   "source": [
    "## Observation for July, 2005 (Analysis based on AGE)"
   ]
  },
  {
   "cell_type": "code",
   "execution_count": null,
   "id": "1d5dea6a",
   "metadata": {},
   "outputs": [],
   "source": [
    "The outstanding payment amount is found with the help of bill amount, BILL_AMT_3 and PAY_AMT_3. \n",
    "1. Total number of 752 customers exceeded their limit balance out of 30000 customers.\n",
    "\n",
    "Among the 752 customers, \n",
    "1. 276 customers in the age group of 20 - 30 exceeded the limit balance.\n",
    "2. 236 customers in the age group of 30 - 40 exceeded the limit balance.\n",
    "3. 173 customers in the age group of 40 - 50 exceeded the limit balance.\n",
    "4. 57 customers in the age group of 50 - 60 exceeded the limit balance.\n",
    "5. 9 customers in the age group of 60 - 70 exceeded the limit balance.\n",
    "6. 1 customer in the age group of 70 - 80 exceeded the limit balance.\n",
    "\n",
    "It can be concluded that the youngsters within the age group of 20-30 is over using the card and exceeding the limit."
   ]
  },
  {
   "cell_type": "markdown",
   "id": "827424e9",
   "metadata": {},
   "source": [
    "## Analysis based on EDUCATION"
   ]
  },
  {
   "cell_type": "markdown",
   "id": "faa4b5b9",
   "metadata": {},
   "source": [
    "For Education the values and their explanation: \n",
    "1 = graduate school; \n",
    "2 = university; \n",
    "3 = high school; \n",
    "4 = others"
   ]
  },
  {
   "cell_type": "code",
   "execution_count": 181,
   "id": "c656b0f5",
   "metadata": {},
   "outputs": [
    {
     "name": "stdout",
     "output_type": "stream",
     "text": [
      "<class 'pandas.core.series.Series'>\n",
      "Int64Index: 752 entries, 5 to 29976\n",
      "Series name: EDUCATION\n",
      "Non-Null Count  Dtype\n",
      "--------------  -----\n",
      "752 non-null    int64\n",
      "dtypes: int64(1)\n",
      "memory usage: 11.8 KB\n"
     ]
    }
   ],
   "source": [
    "df3['EDUCATION'].info()"
   ]
  },
  {
   "cell_type": "code",
   "execution_count": 182,
   "id": "643a68ac",
   "metadata": {},
   "outputs": [
    {
     "data": {
      "text/plain": [
       "array([1, 2, 3, 5, 6, 4], dtype=int64)"
      ]
     },
     "execution_count": 182,
     "metadata": {},
     "output_type": "execute_result"
    }
   ],
   "source": [
    "df3['EDUCATION'].unique()"
   ]
  },
  {
   "cell_type": "code",
   "execution_count": 183,
   "id": "19d7e5be",
   "metadata": {},
   "outputs": [
    {
     "data": {
      "text/plain": [
       "2    415\n",
       "3    165\n",
       "1    148\n",
       "5     15\n",
       "4      5\n",
       "6      4\n",
       "Name: EDUCATION, dtype: int64"
      ]
     },
     "execution_count": 183,
     "metadata": {},
     "output_type": "execute_result"
    }
   ],
   "source": [
    "df3['EDUCATION'].value_counts()"
   ]
  },
  {
   "cell_type": "code",
   "execution_count": null,
   "id": "91b5606c",
   "metadata": {},
   "outputs": [],
   "source": [
    "sns.displot(df3['EDUCATION'],kde=False,bins=6)"
   ]
  },
  {
   "cell_type": "code",
   "execution_count": null,
   "id": "ea21a93a",
   "metadata": {},
   "outputs": [],
   "source": [
    "# Observation for July, 2005 (Analysis based on EDUCATION)"
   ]
  },
  {
   "cell_type": "markdown",
   "id": "891bed1e",
   "metadata": {},
   "source": [
    "Among the 752 customers,\n",
    "1. 415 customers with university education background exceeded the limit balance.\n",
    "2. 165 customers with high school education background exceeded the limit balance.\n",
    "3. 148 customers with graduate school education background exceeded the limit balance.\n",
    "4. 5 customers with other education background exceeded the limit balance.\n",
    "\n",
    "Based on the education, it can be concluded that the customers with university education background is over using the card and not maintaining the credit limit."
   ]
  },
  {
   "cell_type": "code",
   "execution_count": 184,
   "id": "a557e2ef",
   "metadata": {},
   "outputs": [
    {
     "data": {
      "text/html": [
       "<div>\n",
       "<style scoped>\n",
       "    .dataframe tbody tr th:only-of-type {\n",
       "        vertical-align: middle;\n",
       "    }\n",
       "\n",
       "    .dataframe tbody tr th {\n",
       "        vertical-align: top;\n",
       "    }\n",
       "\n",
       "    .dataframe thead th {\n",
       "        text-align: right;\n",
       "    }\n",
       "</style>\n",
       "<table border=\"1\" class=\"dataframe\">\n",
       "  <thead>\n",
       "    <tr style=\"text-align: right;\">\n",
       "      <th></th>\n",
       "      <th>ID</th>\n",
       "      <th>LIMIT_BAL</th>\n",
       "      <th>SEX</th>\n",
       "      <th>EDUCATION</th>\n",
       "      <th>MARRIAGE</th>\n",
       "      <th>AGE</th>\n",
       "      <th>PAY_0</th>\n",
       "      <th>PAY_2</th>\n",
       "      <th>PAY_3</th>\n",
       "      <th>PAY_4</th>\n",
       "      <th>...</th>\n",
       "      <th>PAY_AMT5</th>\n",
       "      <th>PAY_AMT6</th>\n",
       "      <th>default payment next month</th>\n",
       "      <th>OUT_PAY_AMT1</th>\n",
       "      <th>OUT_PAY_AMT2</th>\n",
       "      <th>OUT_PAY_AMT3</th>\n",
       "      <th>OUT_PAY_AMT4</th>\n",
       "      <th>OUT_PAY_AMT5</th>\n",
       "      <th>OUT_PAY_AMT6</th>\n",
       "      <th>LIM_PAY_AMT3</th>\n",
       "    </tr>\n",
       "  </thead>\n",
       "  <tbody>\n",
       "    <tr>\n",
       "      <th>5</th>\n",
       "      <td>6</td>\n",
       "      <td>50000</td>\n",
       "      <td>1</td>\n",
       "      <td>1</td>\n",
       "      <td>2</td>\n",
       "      <td>37</td>\n",
       "      <td>0</td>\n",
       "      <td>0</td>\n",
       "      <td>0</td>\n",
       "      <td>0</td>\n",
       "      <td>...</td>\n",
       "      <td>1000</td>\n",
       "      <td>800</td>\n",
       "      <td>0</td>\n",
       "      <td>61900</td>\n",
       "      <td>55254</td>\n",
       "      <td>56951</td>\n",
       "      <td>18394</td>\n",
       "      <td>18619</td>\n",
       "      <td>19224</td>\n",
       "      <td>0</td>\n",
       "    </tr>\n",
       "    <tr>\n",
       "      <th>189</th>\n",
       "      <td>190</td>\n",
       "      <td>20000</td>\n",
       "      <td>2</td>\n",
       "      <td>2</td>\n",
       "      <td>2</td>\n",
       "      <td>31</td>\n",
       "      <td>1</td>\n",
       "      <td>5</td>\n",
       "      <td>4</td>\n",
       "      <td>4</td>\n",
       "      <td>...</td>\n",
       "      <td>760</td>\n",
       "      <td>0</td>\n",
       "      <td>0</td>\n",
       "      <td>21703</td>\n",
       "      <td>20087</td>\n",
       "      <td>21461</td>\n",
       "      <td>20835</td>\n",
       "      <td>19459</td>\n",
       "      <td>20487</td>\n",
       "      <td>0</td>\n",
       "    </tr>\n",
       "    <tr>\n",
       "      <th>303</th>\n",
       "      <td>304</td>\n",
       "      <td>20000</td>\n",
       "      <td>2</td>\n",
       "      <td>1</td>\n",
       "      <td>2</td>\n",
       "      <td>25</td>\n",
       "      <td>0</td>\n",
       "      <td>0</td>\n",
       "      <td>2</td>\n",
       "      <td>0</td>\n",
       "      <td>...</td>\n",
       "      <td>1000</td>\n",
       "      <td>2000</td>\n",
       "      <td>1</td>\n",
       "      <td>9168</td>\n",
       "      <td>14564</td>\n",
       "      <td>23820</td>\n",
       "      <td>14124</td>\n",
       "      <td>14761</td>\n",
       "      <td>10510</td>\n",
       "      <td>0</td>\n",
       "    </tr>\n",
       "    <tr>\n",
       "      <th>343</th>\n",
       "      <td>344</td>\n",
       "      <td>180000</td>\n",
       "      <td>1</td>\n",
       "      <td>1</td>\n",
       "      <td>1</td>\n",
       "      <td>39</td>\n",
       "      <td>0</td>\n",
       "      <td>0</td>\n",
       "      <td>0</td>\n",
       "      <td>0</td>\n",
       "      <td>...</td>\n",
       "      <td>101005</td>\n",
       "      <td>1898</td>\n",
       "      <td>0</td>\n",
       "      <td>263731</td>\n",
       "      <td>136713</td>\n",
       "      <td>216063</td>\n",
       "      <td>122295</td>\n",
       "      <td>-102010</td>\n",
       "      <td>-893</td>\n",
       "      <td>0</td>\n",
       "    </tr>\n",
       "    <tr>\n",
       "      <th>388</th>\n",
       "      <td>389</td>\n",
       "      <td>150000</td>\n",
       "      <td>1</td>\n",
       "      <td>2</td>\n",
       "      <td>1</td>\n",
       "      <td>43</td>\n",
       "      <td>0</td>\n",
       "      <td>0</td>\n",
       "      <td>0</td>\n",
       "      <td>0</td>\n",
       "      <td>...</td>\n",
       "      <td>5700</td>\n",
       "      <td>5334</td>\n",
       "      <td>0</td>\n",
       "      <td>145349</td>\n",
       "      <td>147549</td>\n",
       "      <td>150823</td>\n",
       "      <td>153953</td>\n",
       "      <td>157166</td>\n",
       "      <td>152425</td>\n",
       "      <td>0</td>\n",
       "    </tr>\n",
       "  </tbody>\n",
       "</table>\n",
       "<p>5 rows × 32 columns</p>\n",
       "</div>"
      ],
      "text/plain": [
       "      ID  LIMIT_BAL  SEX  EDUCATION  MARRIAGE  AGE  PAY_0  PAY_2  PAY_3  \\\n",
       "5      6      50000    1          1         2   37      0      0      0   \n",
       "189  190      20000    2          2         2   31      1      5      4   \n",
       "303  304      20000    2          1         2   25      0      0      2   \n",
       "343  344     180000    1          1         1   39      0      0      0   \n",
       "388  389     150000    1          2         1   43      0      0      0   \n",
       "\n",
       "     PAY_4  ...  PAY_AMT5  PAY_AMT6  default payment next month  OUT_PAY_AMT1  \\\n",
       "5        0  ...      1000       800                           0         61900   \n",
       "189      4  ...       760         0                           0         21703   \n",
       "303      0  ...      1000      2000                           1          9168   \n",
       "343      0  ...    101005      1898                           0        263731   \n",
       "388      0  ...      5700      5334                           0        145349   \n",
       "\n",
       "     OUT_PAY_AMT2  OUT_PAY_AMT3  OUT_PAY_AMT4  OUT_PAY_AMT5  OUT_PAY_AMT6  \\\n",
       "5           55254         56951         18394         18619         19224   \n",
       "189         20087         21461         20835         19459         20487   \n",
       "303         14564         23820         14124         14761         10510   \n",
       "343        136713        216063        122295       -102010          -893   \n",
       "388        147549        150823        153953        157166        152425   \n",
       "\n",
       "     LIM_PAY_AMT3  \n",
       "5               0  \n",
       "189             0  \n",
       "303             0  \n",
       "343             0  \n",
       "388             0  \n",
       "\n",
       "[5 rows x 32 columns]"
      ]
     },
     "execution_count": 184,
     "metadata": {},
     "output_type": "execute_result"
    }
   ],
   "source": [
    "df3.head()"
   ]
  },
  {
   "cell_type": "markdown",
   "id": "d8c076d1",
   "metadata": {},
   "source": [
    "## Analysis based on MARRIAGE"
   ]
  },
  {
   "cell_type": "code",
   "execution_count": 185,
   "id": "69bf492b",
   "metadata": {},
   "outputs": [
    {
     "data": {
      "text/plain": [
       "array([2, 1, 3], dtype=int64)"
      ]
     },
     "execution_count": 185,
     "metadata": {},
     "output_type": "execute_result"
    }
   ],
   "source": [
    "df3['MARRIAGE'].unique()"
   ]
  },
  {
   "cell_type": "code",
   "execution_count": 186,
   "id": "603b8502",
   "metadata": {},
   "outputs": [
    {
     "data": {
      "text/plain": [
       "2    409\n",
       "1    334\n",
       "3      9\n",
       "Name: MARRIAGE, dtype: int64"
      ]
     },
     "execution_count": 186,
     "metadata": {},
     "output_type": "execute_result"
    }
   ],
   "source": [
    "df3['MARRIAGE'].value_counts()"
   ]
  },
  {
   "cell_type": "code",
   "execution_count": 187,
   "id": "96451675",
   "metadata": {},
   "outputs": [
    {
     "data": {
      "text/plain": [
       "<seaborn.axisgrid.FacetGrid at 0x1ff86359bb0>"
      ]
     },
     "execution_count": 187,
     "metadata": {},
     "output_type": "execute_result"
    },
    {
     "data": {
      "image/png": "[encoded data removed]",
      "text/plain": [
       "<Figure size 500x500 with 1 Axes>"
      ]
     },
     "metadata": {},
     "output_type": "display_data"
    }
   ],
   "source": [
    "sns.displot(df3['MARRIAGE'],kde=False,bins=3)"
   ]
  },
  {
   "cell_type": "markdown",
   "id": "eb5220d4",
   "metadata": {},
   "source": [
    "## Observation for July, 2005 (Analysis based on MARRIAGE)"
   ]
  },
  {
   "cell_type": "markdown",
   "id": "3073d69a",
   "metadata": {},
   "source": [
    "Among the 752 customers,\n",
    "1. 409 customers with marriage status as single exceeded the limit balance.\n",
    "2. 334 customers with marriage status as married exceeded the limit balance.\n",
    "3. 9 customers with marriage status as others exceeded the limit balance.\n",
    "\n",
    "The single customers have over used the credit card and exceeded the credit limit when compared to married people."
   ]
  },
  {
   "cell_type": "markdown",
   "id": "bf8ec915",
   "metadata": {},
   "source": [
    "## Analysis based on SEX"
   ]
  },
  {
   "cell_type": "code",
   "execution_count": 188,
   "id": "1bde21b7",
   "metadata": {},
   "outputs": [
    {
     "data": {
      "text/plain": [
       "array([1, 2], dtype=int64)"
      ]
     },
     "execution_count": 188,
     "metadata": {},
     "output_type": "execute_result"
    }
   ],
   "source": [
    "df3['SEX'].unique()"
   ]
  },
  {
   "cell_type": "code",
   "execution_count": 189,
   "id": "63ccde8d",
   "metadata": {},
   "outputs": [
    {
     "data": {
      "text/plain": [
       "2    408\n",
       "1    344\n",
       "Name: SEX, dtype: int64"
      ]
     },
     "execution_count": 189,
     "metadata": {},
     "output_type": "execute_result"
    }
   ],
   "source": [
    "df3['SEX'].value_counts()"
   ]
  },
  {
   "cell_type": "code",
   "execution_count": 190,
   "id": "5de4f095",
   "metadata": {},
   "outputs": [
    {
     "data": {
      "text/plain": [
       "<seaborn.axisgrid.FacetGrid at 0x1ff850f43d0>"
      ]
     },
     "execution_count": 190,
     "metadata": {},
     "output_type": "execute_result"
    },
    {
     "data": {
      "image/png": "[encoded data removed]",
      "text/plain": [
       "<Figure size 500x500 with 1 Axes>"
      ]
     },
     "metadata": {},
     "output_type": "display_data"
    }
   ],
   "source": [
    "sns.displot(df3['SEX'],kde=False,bins=2)"
   ]
  },
  {
   "cell_type": "markdown",
   "id": "4b6763eb",
   "metadata": {},
   "source": [
    "## Observation for July, 2005 (Analysis based on SEX)"
   ]
  },
  {
   "cell_type": "markdown",
   "id": "61148491",
   "metadata": {},
   "source": [
    "Among the 752 customers,\n",
    "1. 408 female customers exceeded the limit balance.\n",
    "2. 344 male customers exceeded the limit balance.\n",
    "\n",
    "More number of female customers overused the credit card than male customers and exceeded the credit limit."
   ]
  },
  {
   "cell_type": "markdown",
   "id": "c75d059a",
   "metadata": {},
   "source": [
    "## Outstanding payment analysis for June, 2005 "
   ]
  },
  {
   "cell_type": "code",
   "execution_count": 203,
   "id": "81eac043",
   "metadata": {},
   "outputs": [],
   "source": [
    "df['LIM_PAY_AMT4'] = df['OUT_PAY_AMT4']\n",
    "df['LIM_PAY_AMT4'] = np.where(df['LIM_PAY_AMT4'] > df['LIMIT_BAL'], 0, 1)"
   ]
  },
  {
   "cell_type": "code",
   "execution_count": 204,
   "id": "51c0e840",
   "metadata": {},
   "outputs": [
    {
     "data": {
      "text/plain": [
       "(30000, 35)"
      ]
     },
     "execution_count": 204,
     "metadata": {},
     "output_type": "execute_result"
    }
   ],
   "source": [
    "df.shape"
   ]
  },
  {
   "cell_type": "code",
   "execution_count": 205,
   "id": "5ec4fa44",
   "metadata": {},
   "outputs": [
    {
     "data": {
      "text/html": [
       "<div>\n",
       "<style scoped>\n",
       "    .dataframe tbody tr th:only-of-type {\n",
       "        vertical-align: middle;\n",
       "    }\n",
       "\n",
       "    .dataframe tbody tr th {\n",
       "        vertical-align: top;\n",
       "    }\n",
       "\n",
       "    .dataframe thead th {\n",
       "        text-align: right;\n",
       "    }\n",
       "</style>\n",
       "<table border=\"1\" class=\"dataframe\">\n",
       "  <thead>\n",
       "    <tr style=\"text-align: right;\">\n",
       "      <th></th>\n",
       "      <th>ID</th>\n",
       "      <th>LIMIT_BAL</th>\n",
       "      <th>SEX</th>\n",
       "      <th>EDUCATION</th>\n",
       "      <th>MARRIAGE</th>\n",
       "      <th>AGE</th>\n",
       "      <th>PAY_0</th>\n",
       "      <th>PAY_2</th>\n",
       "      <th>PAY_3</th>\n",
       "      <th>PAY_4</th>\n",
       "      <th>...</th>\n",
       "      <th>OUT_PAY_AMT1</th>\n",
       "      <th>OUT_PAY_AMT2</th>\n",
       "      <th>OUT_PAY_AMT3</th>\n",
       "      <th>OUT_PAY_AMT4</th>\n",
       "      <th>OUT_PAY_AMT5</th>\n",
       "      <th>OUT_PAY_AMT6</th>\n",
       "      <th>LIM_PAY_AMT1</th>\n",
       "      <th>LIM_PAY_AMT2</th>\n",
       "      <th>LIM_PAY_AMT3</th>\n",
       "      <th>LIM_PAY_AMT4</th>\n",
       "    </tr>\n",
       "  </thead>\n",
       "  <tbody>\n",
       "    <tr>\n",
       "      <th>0</th>\n",
       "      <td>1</td>\n",
       "      <td>20000</td>\n",
       "      <td>2</td>\n",
       "      <td>2</td>\n",
       "      <td>1</td>\n",
       "      <td>24</td>\n",
       "      <td>2</td>\n",
       "      <td>2</td>\n",
       "      <td>0</td>\n",
       "      <td>0</td>\n",
       "      <td>...</td>\n",
       "      <td>3913</td>\n",
       "      <td>2413</td>\n",
       "      <td>689</td>\n",
       "      <td>0</td>\n",
       "      <td>0</td>\n",
       "      <td>0</td>\n",
       "      <td>1</td>\n",
       "      <td>1</td>\n",
       "      <td>1</td>\n",
       "      <td>1</td>\n",
       "    </tr>\n",
       "    <tr>\n",
       "      <th>1</th>\n",
       "      <td>2</td>\n",
       "      <td>120000</td>\n",
       "      <td>2</td>\n",
       "      <td>2</td>\n",
       "      <td>2</td>\n",
       "      <td>26</td>\n",
       "      <td>0</td>\n",
       "      <td>2</td>\n",
       "      <td>0</td>\n",
       "      <td>0</td>\n",
       "      <td>...</td>\n",
       "      <td>2682</td>\n",
       "      <td>725</td>\n",
       "      <td>1682</td>\n",
       "      <td>2272</td>\n",
       "      <td>3455</td>\n",
       "      <td>1261</td>\n",
       "      <td>1</td>\n",
       "      <td>1</td>\n",
       "      <td>1</td>\n",
       "      <td>1</td>\n",
       "    </tr>\n",
       "    <tr>\n",
       "      <th>2</th>\n",
       "      <td>3</td>\n",
       "      <td>90000</td>\n",
       "      <td>2</td>\n",
       "      <td>2</td>\n",
       "      <td>2</td>\n",
       "      <td>34</td>\n",
       "      <td>0</td>\n",
       "      <td>0</td>\n",
       "      <td>0</td>\n",
       "      <td>0</td>\n",
       "      <td>...</td>\n",
       "      <td>27721</td>\n",
       "      <td>12527</td>\n",
       "      <td>12559</td>\n",
       "      <td>13331</td>\n",
       "      <td>13948</td>\n",
       "      <td>10549</td>\n",
       "      <td>1</td>\n",
       "      <td>1</td>\n",
       "      <td>1</td>\n",
       "      <td>1</td>\n",
       "    </tr>\n",
       "    <tr>\n",
       "      <th>3</th>\n",
       "      <td>4</td>\n",
       "      <td>50000</td>\n",
       "      <td>2</td>\n",
       "      <td>2</td>\n",
       "      <td>1</td>\n",
       "      <td>37</td>\n",
       "      <td>0</td>\n",
       "      <td>0</td>\n",
       "      <td>0</td>\n",
       "      <td>0</td>\n",
       "      <td>...</td>\n",
       "      <td>44990</td>\n",
       "      <td>46214</td>\n",
       "      <td>48091</td>\n",
       "      <td>27214</td>\n",
       "      <td>27890</td>\n",
       "      <td>28547</td>\n",
       "      <td>1</td>\n",
       "      <td>1</td>\n",
       "      <td>1</td>\n",
       "      <td>1</td>\n",
       "    </tr>\n",
       "    <tr>\n",
       "      <th>4</th>\n",
       "      <td>5</td>\n",
       "      <td>50000</td>\n",
       "      <td>1</td>\n",
       "      <td>2</td>\n",
       "      <td>1</td>\n",
       "      <td>57</td>\n",
       "      <td>0</td>\n",
       "      <td>0</td>\n",
       "      <td>0</td>\n",
       "      <td>0</td>\n",
       "      <td>...</td>\n",
       "      <td>6617</td>\n",
       "      <td>-31011</td>\n",
       "      <td>25835</td>\n",
       "      <td>11940</td>\n",
       "      <td>18457</td>\n",
       "      <td>18452</td>\n",
       "      <td>1</td>\n",
       "      <td>1</td>\n",
       "      <td>1</td>\n",
       "      <td>1</td>\n",
       "    </tr>\n",
       "  </tbody>\n",
       "</table>\n",
       "<p>5 rows × 35 columns</p>\n",
       "</div>"
      ],
      "text/plain": [
       "   ID  LIMIT_BAL  SEX  EDUCATION  MARRIAGE  AGE  PAY_0  PAY_2  PAY_3  PAY_4  \\\n",
       "0   1      20000    2          2         1   24      2      2      0      0   \n",
       "1   2     120000    2          2         2   26      0      2      0      0   \n",
       "2   3      90000    2          2         2   34      0      0      0      0   \n",
       "3   4      50000    2          2         1   37      0      0      0      0   \n",
       "4   5      50000    1          2         1   57      0      0      0      0   \n",
       "\n",
       "   ...  OUT_PAY_AMT1  OUT_PAY_AMT2  OUT_PAY_AMT3  OUT_PAY_AMT4  OUT_PAY_AMT5  \\\n",
       "0  ...          3913          2413           689             0             0   \n",
       "1  ...          2682           725          1682          2272          3455   \n",
       "2  ...         27721         12527         12559         13331         13948   \n",
       "3  ...         44990         46214         48091         27214         27890   \n",
       "4  ...          6617        -31011         25835         11940         18457   \n",
       "\n",
       "   OUT_PAY_AMT6  LIM_PAY_AMT1  LIM_PAY_AMT2  LIM_PAY_AMT3  LIM_PAY_AMT4  \n",
       "0             0             1             1             1             1  \n",
       "1          1261             1             1             1             1  \n",
       "2         10549             1             1             1             1  \n",
       "3         28547             1             1             1             1  \n",
       "4         18452             1             1             1             1  \n",
       "\n",
       "[5 rows x 35 columns]"
      ]
     },
     "execution_count": 205,
     "metadata": {},
     "output_type": "execute_result"
    }
   ],
   "source": [
    "df.head()"
   ]
  },
  {
   "cell_type": "code",
   "execution_count": 206,
   "id": "fbc4f838",
   "metadata": {},
   "outputs": [
    {
     "data": {
      "text/plain": [
       "<AxesSubplot:xlabel='LIM_PAY_AMT4', ylabel='count'>"
      ]
     },
     "execution_count": 206,
     "metadata": {},
     "output_type": "execute_result"
    },
    {
     "data": {
      "image/png": "[encoded data removed]",
      "text/plain": [
       "<Figure size 640x480 with 1 Axes>"
      ]
     },
     "metadata": {},
     "output_type": "display_data"
    }
   ],
   "source": [
    "sns.countplot(x=df['LIM_PAY_AMT4'],data=df)"
   ]
  },
  {
   "cell_type": "code",
   "execution_count": 207,
   "id": "75c27e3f",
   "metadata": {},
   "outputs": [],
   "source": [
    "df4=df[df['LIM_PAY_AMT4'].isin([0])]"
   ]
  },
  {
   "cell_type": "code",
   "execution_count": 208,
   "id": "1f85b238",
   "metadata": {},
   "outputs": [
    {
     "data": {
      "text/plain": [
       "(494, 35)"
      ]
     },
     "execution_count": 208,
     "metadata": {},
     "output_type": "execute_result"
    }
   ],
   "source": [
    "df4.shape"
   ]
  },
  {
   "cell_type": "code",
   "execution_count": 209,
   "id": "892eef7a",
   "metadata": {},
   "outputs": [
    {
     "name": "stderr",
     "output_type": "stream",
     "text": [
      "C:\\Users\\Glady\\AppData\\Local\\Temp\\ipykernel_13704\\771818392.py:1: SettingWithCopyWarning: \n",
      "A value is trying to be set on a copy of a slice from a DataFrame\n",
      "\n",
      "See the caveats in the documentation: https://pandas.pydata.org/pandas-docs/stable/user_guide/indexing.html#returning-a-view-versus-a-copy\n",
      "  df4.drop('LIM_PAY_AMT1',axis=1,inplace=True)\n",
      "C:\\Users\\Glady\\AppData\\Local\\Temp\\ipykernel_13704\\771818392.py:2: SettingWithCopyWarning: \n",
      "A value is trying to be set on a copy of a slice from a DataFrame\n",
      "\n",
      "See the caveats in the documentation: https://pandas.pydata.org/pandas-docs/stable/user_guide/indexing.html#returning-a-view-versus-a-copy\n",
      "  df4.drop('LIM_PAY_AMT2',axis=1,inplace=True)\n",
      "C:\\Users\\Glady\\AppData\\Local\\Temp\\ipykernel_13704\\771818392.py:3: SettingWithCopyWarning: \n",
      "A value is trying to be set on a copy of a slice from a DataFrame\n",
      "\n",
      "See the caveats in the documentation: https://pandas.pydata.org/pandas-docs/stable/user_guide/indexing.html#returning-a-view-versus-a-copy\n",
      "  df4.drop('LIM_PAY_AMT3',axis=1,inplace=True)\n"
     ]
    }
   ],
   "source": [
    "df4.drop('LIM_PAY_AMT1',axis=1,inplace=True)\n",
    "df4.drop('LIM_PAY_AMT2',axis=1,inplace=True)\n",
    "df4.drop('LIM_PAY_AMT3',axis=1,inplace=True)"
   ]
  },
  {
   "cell_type": "code",
   "execution_count": 210,
   "id": "2b33c96c",
   "metadata": {},
   "outputs": [
    {
     "data": {
      "text/html": [
       "<div>\n",
       "<style scoped>\n",
       "    .dataframe tbody tr th:only-of-type {\n",
       "        vertical-align: middle;\n",
       "    }\n",
       "\n",
       "    .dataframe tbody tr th {\n",
       "        vertical-align: top;\n",
       "    }\n",
       "\n",
       "    .dataframe thead th {\n",
       "        text-align: right;\n",
       "    }\n",
       "</style>\n",
       "<table border=\"1\" class=\"dataframe\">\n",
       "  <thead>\n",
       "    <tr style=\"text-align: right;\">\n",
       "      <th></th>\n",
       "      <th>ID</th>\n",
       "      <th>LIMIT_BAL</th>\n",
       "      <th>SEX</th>\n",
       "      <th>EDUCATION</th>\n",
       "      <th>MARRIAGE</th>\n",
       "      <th>AGE</th>\n",
       "      <th>PAY_0</th>\n",
       "      <th>PAY_2</th>\n",
       "      <th>PAY_3</th>\n",
       "      <th>PAY_4</th>\n",
       "      <th>...</th>\n",
       "      <th>PAY_AMT5</th>\n",
       "      <th>PAY_AMT6</th>\n",
       "      <th>default payment next month</th>\n",
       "      <th>OUT_PAY_AMT1</th>\n",
       "      <th>OUT_PAY_AMT2</th>\n",
       "      <th>OUT_PAY_AMT3</th>\n",
       "      <th>OUT_PAY_AMT4</th>\n",
       "      <th>OUT_PAY_AMT5</th>\n",
       "      <th>OUT_PAY_AMT6</th>\n",
       "      <th>LIM_PAY_AMT4</th>\n",
       "    </tr>\n",
       "  </thead>\n",
       "  <tbody>\n",
       "    <tr>\n",
       "      <th>6</th>\n",
       "      <td>7</td>\n",
       "      <td>500000</td>\n",
       "      <td>1</td>\n",
       "      <td>1</td>\n",
       "      <td>2</td>\n",
       "      <td>29</td>\n",
       "      <td>0</td>\n",
       "      <td>0</td>\n",
       "      <td>0</td>\n",
       "      <td>0</td>\n",
       "      <td>...</td>\n",
       "      <td>13750</td>\n",
       "      <td>13770</td>\n",
       "      <td>0</td>\n",
       "      <td>312965</td>\n",
       "      <td>372023</td>\n",
       "      <td>407007</td>\n",
       "      <td>522414</td>\n",
       "      <td>469253</td>\n",
       "      <td>460174</td>\n",
       "      <td>0</td>\n",
       "    </tr>\n",
       "    <tr>\n",
       "      <th>40</th>\n",
       "      <td>41</td>\n",
       "      <td>360000</td>\n",
       "      <td>1</td>\n",
       "      <td>1</td>\n",
       "      <td>2</td>\n",
       "      <td>33</td>\n",
       "      <td>0</td>\n",
       "      <td>0</td>\n",
       "      <td>0</td>\n",
       "      <td>0</td>\n",
       "      <td>...</td>\n",
       "      <td>28000</td>\n",
       "      <td>4000</td>\n",
       "      <td>0</td>\n",
       "      <td>208668</td>\n",
       "      <td>214296</td>\n",
       "      <td>200895</td>\n",
       "      <td>439859</td>\n",
       "      <td>167969</td>\n",
       "      <td>175224</td>\n",
       "      <td>0</td>\n",
       "    </tr>\n",
       "    <tr>\n",
       "      <th>102</th>\n",
       "      <td>103</td>\n",
       "      <td>480000</td>\n",
       "      <td>1</td>\n",
       "      <td>1</td>\n",
       "      <td>1</td>\n",
       "      <td>63</td>\n",
       "      <td>0</td>\n",
       "      <td>0</td>\n",
       "      <td>0</td>\n",
       "      <td>2</td>\n",
       "      <td>...</td>\n",
       "      <td>18000</td>\n",
       "      <td>24200</td>\n",
       "      <td>0</td>\n",
       "      <td>405991</td>\n",
       "      <td>375649</td>\n",
       "      <td>462432</td>\n",
       "      <td>487066</td>\n",
       "      <td>453145</td>\n",
       "      <td>445761</td>\n",
       "      <td>0</td>\n",
       "    </tr>\n",
       "    <tr>\n",
       "      <th>104</th>\n",
       "      <td>105</td>\n",
       "      <td>60000</td>\n",
       "      <td>2</td>\n",
       "      <td>2</td>\n",
       "      <td>2</td>\n",
       "      <td>26</td>\n",
       "      <td>2</td>\n",
       "      <td>2</td>\n",
       "      <td>2</td>\n",
       "      <td>2</td>\n",
       "      <td>...</td>\n",
       "      <td>3000</td>\n",
       "      <td>3000</td>\n",
       "      <td>0</td>\n",
       "      <td>56685</td>\n",
       "      <td>50208</td>\n",
       "      <td>56664</td>\n",
       "      <td>60212</td>\n",
       "      <td>52447</td>\n",
       "      <td>52305</td>\n",
       "      <td>0</td>\n",
       "    </tr>\n",
       "    <tr>\n",
       "      <th>189</th>\n",
       "      <td>190</td>\n",
       "      <td>20000</td>\n",
       "      <td>2</td>\n",
       "      <td>2</td>\n",
       "      <td>2</td>\n",
       "      <td>31</td>\n",
       "      <td>1</td>\n",
       "      <td>5</td>\n",
       "      <td>4</td>\n",
       "      <td>4</td>\n",
       "      <td>...</td>\n",
       "      <td>760</td>\n",
       "      <td>0</td>\n",
       "      <td>0</td>\n",
       "      <td>21703</td>\n",
       "      <td>20087</td>\n",
       "      <td>21461</td>\n",
       "      <td>20835</td>\n",
       "      <td>19459</td>\n",
       "      <td>20487</td>\n",
       "      <td>0</td>\n",
       "    </tr>\n",
       "  </tbody>\n",
       "</table>\n",
       "<p>5 rows × 32 columns</p>\n",
       "</div>"
      ],
      "text/plain": [
       "      ID  LIMIT_BAL  SEX  EDUCATION  MARRIAGE  AGE  PAY_0  PAY_2  PAY_3  \\\n",
       "6      7     500000    1          1         2   29      0      0      0   \n",
       "40    41     360000    1          1         2   33      0      0      0   \n",
       "102  103     480000    1          1         1   63      0      0      0   \n",
       "104  105      60000    2          2         2   26      2      2      2   \n",
       "189  190      20000    2          2         2   31      1      5      4   \n",
       "\n",
       "     PAY_4  ...  PAY_AMT5  PAY_AMT6  default payment next month  OUT_PAY_AMT1  \\\n",
       "6        0  ...     13750     13770                           0        312965   \n",
       "40       0  ...     28000      4000                           0        208668   \n",
       "102      2  ...     18000     24200                           0        405991   \n",
       "104      2  ...      3000      3000                           0         56685   \n",
       "189      4  ...       760         0                           0         21703   \n",
       "\n",
       "     OUT_PAY_AMT2  OUT_PAY_AMT3  OUT_PAY_AMT4  OUT_PAY_AMT5  OUT_PAY_AMT6  \\\n",
       "6          372023        407007        522414        469253        460174   \n",
       "40         214296        200895        439859        167969        175224   \n",
       "102        375649        462432        487066        453145        445761   \n",
       "104         50208         56664         60212         52447         52305   \n",
       "189         20087         21461         20835         19459         20487   \n",
       "\n",
       "     LIM_PAY_AMT4  \n",
       "6               0  \n",
       "40              0  \n",
       "102             0  \n",
       "104             0  \n",
       "189             0  \n",
       "\n",
       "[5 rows x 32 columns]"
      ]
     },
     "execution_count": 210,
     "metadata": {},
     "output_type": "execute_result"
    }
   ],
   "source": [
    "df4.head()"
   ]
  },
  {
   "cell_type": "code",
   "execution_count": 212,
   "id": "0e5a22cf",
   "metadata": {},
   "outputs": [
    {
     "data": {
      "text/plain": [
       "array([0])"
      ]
     },
     "execution_count": 212,
     "metadata": {},
     "output_type": "execute_result"
    }
   ],
   "source": [
    "df4['LIM_PAY_AMT4'].unique()"
   ]
  },
  {
   "cell_type": "markdown",
   "id": "63fae08f",
   "metadata": {},
   "source": [
    "## Analysis based on Age"
   ]
  },
  {
   "cell_type": "code",
   "execution_count": 213,
   "id": "707ce161",
   "metadata": {},
   "outputs": [
    {
     "data": {
      "text/plain": [
       "26    25\n",
       "24    25\n",
       "36    22\n",
       "29    21\n",
       "27    21\n",
       "25    21\n",
       "33    21\n",
       "35    19\n",
       "28    19\n",
       "23    17\n",
       "30    17\n",
       "22    16\n",
       "44    16\n",
       "47    15\n",
       "31    15\n",
       "39    14\n",
       "32    13\n",
       "41    13\n",
       "37    13\n",
       "34    13\n",
       "38    13\n",
       "48    12\n",
       "45    11\n",
       "42    11\n",
       "54    10\n",
       "50     9\n",
       "46     9\n",
       "43     8\n",
       "49     7\n",
       "51     6\n",
       "52     6\n",
       "53     6\n",
       "40     5\n",
       "57     4\n",
       "55     4\n",
       "56     4\n",
       "59     3\n",
       "58     2\n",
       "67     2\n",
       "62     2\n",
       "63     1\n",
       "60     1\n",
       "21     1\n",
       "65     1\n",
       "Name: AGE, dtype: int64"
      ]
     },
     "execution_count": 213,
     "metadata": {},
     "output_type": "execute_result"
    }
   ],
   "source": [
    "df4['AGE'].value_counts()"
   ]
  },
  {
   "cell_type": "code",
   "execution_count": null,
   "id": "d41a4eb5",
   "metadata": {},
   "outputs": [],
   "source": [
    "sns.displot(df3['AGE'],kde=False,bins=5)"
   ]
  },
  {
   "cell_type": "code",
   "execution_count": 214,
   "id": "9fe764b6",
   "metadata": {},
   "outputs": [
    {
     "data": {
      "text/plain": [
       "array([29, 33, 63, 26, 31, 43, 38, 35, 34, 24, 46, 27, 54, 47, 25, 49, 37,\n",
       "       39, 22, 36, 28, 51, 41, 45, 56, 32, 44, 30, 52, 40, 53, 55, 59, 48,\n",
       "       50, 42, 57, 23, 58, 60, 67, 62, 21, 65], dtype=int64)"
      ]
     },
     "execution_count": 214,
     "metadata": {},
     "output_type": "execute_result"
    }
   ],
   "source": [
    "df4['AGE'].unique()"
   ]
  },
  {
   "cell_type": "code",
   "execution_count": 215,
   "id": "503aef9e",
   "metadata": {},
   "outputs": [
    {
     "data": {
      "text/plain": [
       "(20, 30]    183\n",
       "(30, 40]    148\n",
       "(40, 50]    111\n",
       "(50, 60]     46\n",
       "(60, 70]      6\n",
       "(0, 20]       0\n",
       "(70, 80]      0\n",
       "Name: AGE, dtype: int64"
      ]
     },
     "execution_count": 215,
     "metadata": {},
     "output_type": "execute_result"
    }
   ],
   "source": [
    "pd.cut(df4['AGE'], [0, 20, 30, 40, 50, 60, 70, 80]).value_counts()"
   ]
  },
  {
   "cell_type": "markdown",
   "id": "b40fc6ea",
   "metadata": {},
   "source": [
    "## Observation for June, 2005 (Analysis based on AGE)"
   ]
  },
  {
   "cell_type": "markdown",
   "id": "bdec9c5a",
   "metadata": {},
   "source": [
    "The outstanding payment amount is found with the help of bill amount, BILL_AMT_3 and PAY_AMT_3. \n",
    "1. Total number of 494 customers exceeded their limit balance out of 30000 customers.\n",
    "\n",
    "Among the 494 customers, \n",
    "1. 183 customers in the age group of 20 - 30 exceeded the limit balance.\n",
    "2. 148 customers in the age group of 30 - 40 exceeded the limit balance.\n",
    "3. 111 customers in the age group of 40 - 50 exceeded the limit balance.\n",
    "4. 46 customers in the age group of 50 - 60 exceeded the limit balance.\n",
    "5. 6 customers in the age group of 60 - 70 exceeded the limit balance.\n",
    "\n",
    "It can be concluded that the youngsters within the age group of 20-30 is over using the card and exceeding the limit."
   ]
  },
  {
   "cell_type": "markdown",
   "id": "e83694b0",
   "metadata": {},
   "source": [
    "## Analysis based on EDUCATION"
   ]
  },
  {
   "cell_type": "markdown",
   "id": "d992f596",
   "metadata": {},
   "source": [
    "For Education the values and their explanation: \n",
    "1 = graduate school; \n",
    "2 = university; \n",
    "3 = high school; \n",
    "4 = others"
   ]
  },
  {
   "cell_type": "code",
   "execution_count": 216,
   "id": "d08ee39a",
   "metadata": {},
   "outputs": [
    {
     "name": "stdout",
     "output_type": "stream",
     "text": [
      "<class 'pandas.core.series.Series'>\n",
      "Int64Index: 494 entries, 6 to 29976\n",
      "Series name: EDUCATION\n",
      "Non-Null Count  Dtype\n",
      "--------------  -----\n",
      "494 non-null    int64\n",
      "dtypes: int64(1)\n",
      "memory usage: 7.7 KB\n"
     ]
    }
   ],
   "source": [
    "df4['EDUCATION'].info()"
   ]
  },
  {
   "cell_type": "code",
   "execution_count": 217,
   "id": "1989d90a",
   "metadata": {},
   "outputs": [
    {
     "data": {
      "text/plain": [
       "array([1, 2, 3, 5, 6, 4], dtype=int64)"
      ]
     },
     "execution_count": 217,
     "metadata": {},
     "output_type": "execute_result"
    }
   ],
   "source": [
    "df4['EDUCATION'].unique()"
   ]
  },
  {
   "cell_type": "code",
   "execution_count": 218,
   "id": "6af0467f",
   "metadata": {},
   "outputs": [
    {
     "data": {
      "text/plain": [
       "2    272\n",
       "3    114\n",
       "1     94\n",
       "5     10\n",
       "4      3\n",
       "6      1\n",
       "Name: EDUCATION, dtype: int64"
      ]
     },
     "execution_count": 218,
     "metadata": {},
     "output_type": "execute_result"
    }
   ],
   "source": [
    "df4['EDUCATION'].value_counts()"
   ]
  },
  {
   "cell_type": "code",
   "execution_count": null,
   "id": "d96a7d17",
   "metadata": {},
   "outputs": [],
   "source": [
    "sns.displot(df3['EDUCATION'],kde=False,bins=6)"
   ]
  },
  {
   "cell_type": "markdown",
   "id": "16a4ab5f",
   "metadata": {},
   "source": [
    "## Observation for June, 2005 (Analysis based on EDUCATION)"
   ]
  },
  {
   "cell_type": "markdown",
   "id": "f25a3cb6",
   "metadata": {},
   "source": [
    "Among the 494 customers,\n",
    "1. 272 customers with university education background exceeded the limit balance.\n",
    "2. 114 customers with high school education background exceeded the limit balance.\n",
    "3. 94 customers with graduate school education background exceeded the limit balance.\n",
    "4. 3 customers with other education background exceeded the limit balance.\n",
    "\n",
    "Based on the education, it can be concluded that the customers with university education background is over using the card and not maintaining the credit limit."
   ]
  },
  {
   "cell_type": "code",
   "execution_count": 219,
   "id": "69c74958",
   "metadata": {},
   "outputs": [
    {
     "data": {
      "text/html": [
       "<div>\n",
       "<style scoped>\n",
       "    .dataframe tbody tr th:only-of-type {\n",
       "        vertical-align: middle;\n",
       "    }\n",
       "\n",
       "    .dataframe tbody tr th {\n",
       "        vertical-align: top;\n",
       "    }\n",
       "\n",
       "    .dataframe thead th {\n",
       "        text-align: right;\n",
       "    }\n",
       "</style>\n",
       "<table border=\"1\" class=\"dataframe\">\n",
       "  <thead>\n",
       "    <tr style=\"text-align: right;\">\n",
       "      <th></th>\n",
       "      <th>ID</th>\n",
       "      <th>LIMIT_BAL</th>\n",
       "      <th>SEX</th>\n",
       "      <th>EDUCATION</th>\n",
       "      <th>MARRIAGE</th>\n",
       "      <th>AGE</th>\n",
       "      <th>PAY_0</th>\n",
       "      <th>PAY_2</th>\n",
       "      <th>PAY_3</th>\n",
       "      <th>PAY_4</th>\n",
       "      <th>...</th>\n",
       "      <th>PAY_AMT5</th>\n",
       "      <th>PAY_AMT6</th>\n",
       "      <th>default payment next month</th>\n",
       "      <th>OUT_PAY_AMT1</th>\n",
       "      <th>OUT_PAY_AMT2</th>\n",
       "      <th>OUT_PAY_AMT3</th>\n",
       "      <th>OUT_PAY_AMT4</th>\n",
       "      <th>OUT_PAY_AMT5</th>\n",
       "      <th>OUT_PAY_AMT6</th>\n",
       "      <th>LIM_PAY_AMT4</th>\n",
       "    </tr>\n",
       "  </thead>\n",
       "  <tbody>\n",
       "    <tr>\n",
       "      <th>6</th>\n",
       "      <td>7</td>\n",
       "      <td>500000</td>\n",
       "      <td>1</td>\n",
       "      <td>1</td>\n",
       "      <td>2</td>\n",
       "      <td>29</td>\n",
       "      <td>0</td>\n",
       "      <td>0</td>\n",
       "      <td>0</td>\n",
       "      <td>0</td>\n",
       "      <td>...</td>\n",
       "      <td>13750</td>\n",
       "      <td>13770</td>\n",
       "      <td>0</td>\n",
       "      <td>312965</td>\n",
       "      <td>372023</td>\n",
       "      <td>407007</td>\n",
       "      <td>522414</td>\n",
       "      <td>469253</td>\n",
       "      <td>460174</td>\n",
       "      <td>0</td>\n",
       "    </tr>\n",
       "    <tr>\n",
       "      <th>40</th>\n",
       "      <td>41</td>\n",
       "      <td>360000</td>\n",
       "      <td>1</td>\n",
       "      <td>1</td>\n",
       "      <td>2</td>\n",
       "      <td>33</td>\n",
       "      <td>0</td>\n",
       "      <td>0</td>\n",
       "      <td>0</td>\n",
       "      <td>0</td>\n",
       "      <td>...</td>\n",
       "      <td>28000</td>\n",
       "      <td>4000</td>\n",
       "      <td>0</td>\n",
       "      <td>208668</td>\n",
       "      <td>214296</td>\n",
       "      <td>200895</td>\n",
       "      <td>439859</td>\n",
       "      <td>167969</td>\n",
       "      <td>175224</td>\n",
       "      <td>0</td>\n",
       "    </tr>\n",
       "    <tr>\n",
       "      <th>102</th>\n",
       "      <td>103</td>\n",
       "      <td>480000</td>\n",
       "      <td>1</td>\n",
       "      <td>1</td>\n",
       "      <td>1</td>\n",
       "      <td>63</td>\n",
       "      <td>0</td>\n",
       "      <td>0</td>\n",
       "      <td>0</td>\n",
       "      <td>2</td>\n",
       "      <td>...</td>\n",
       "      <td>18000</td>\n",
       "      <td>24200</td>\n",
       "      <td>0</td>\n",
       "      <td>405991</td>\n",
       "      <td>375649</td>\n",
       "      <td>462432</td>\n",
       "      <td>487066</td>\n",
       "      <td>453145</td>\n",
       "      <td>445761</td>\n",
       "      <td>0</td>\n",
       "    </tr>\n",
       "    <tr>\n",
       "      <th>104</th>\n",
       "      <td>105</td>\n",
       "      <td>60000</td>\n",
       "      <td>2</td>\n",
       "      <td>2</td>\n",
       "      <td>2</td>\n",
       "      <td>26</td>\n",
       "      <td>2</td>\n",
       "      <td>2</td>\n",
       "      <td>2</td>\n",
       "      <td>2</td>\n",
       "      <td>...</td>\n",
       "      <td>3000</td>\n",
       "      <td>3000</td>\n",
       "      <td>0</td>\n",
       "      <td>56685</td>\n",
       "      <td>50208</td>\n",
       "      <td>56664</td>\n",
       "      <td>60212</td>\n",
       "      <td>52447</td>\n",
       "      <td>52305</td>\n",
       "      <td>0</td>\n",
       "    </tr>\n",
       "    <tr>\n",
       "      <th>189</th>\n",
       "      <td>190</td>\n",
       "      <td>20000</td>\n",
       "      <td>2</td>\n",
       "      <td>2</td>\n",
       "      <td>2</td>\n",
       "      <td>31</td>\n",
       "      <td>1</td>\n",
       "      <td>5</td>\n",
       "      <td>4</td>\n",
       "      <td>4</td>\n",
       "      <td>...</td>\n",
       "      <td>760</td>\n",
       "      <td>0</td>\n",
       "      <td>0</td>\n",
       "      <td>21703</td>\n",
       "      <td>20087</td>\n",
       "      <td>21461</td>\n",
       "      <td>20835</td>\n",
       "      <td>19459</td>\n",
       "      <td>20487</td>\n",
       "      <td>0</td>\n",
       "    </tr>\n",
       "  </tbody>\n",
       "</table>\n",
       "<p>5 rows × 32 columns</p>\n",
       "</div>"
      ],
      "text/plain": [
       "      ID  LIMIT_BAL  SEX  EDUCATION  MARRIAGE  AGE  PAY_0  PAY_2  PAY_3  \\\n",
       "6      7     500000    1          1         2   29      0      0      0   \n",
       "40    41     360000    1          1         2   33      0      0      0   \n",
       "102  103     480000    1          1         1   63      0      0      0   \n",
       "104  105      60000    2          2         2   26      2      2      2   \n",
       "189  190      20000    2          2         2   31      1      5      4   \n",
       "\n",
       "     PAY_4  ...  PAY_AMT5  PAY_AMT6  default payment next month  OUT_PAY_AMT1  \\\n",
       "6        0  ...     13750     13770                           0        312965   \n",
       "40       0  ...     28000      4000                           0        208668   \n",
       "102      2  ...     18000     24200                           0        405991   \n",
       "104      2  ...      3000      3000                           0         56685   \n",
       "189      4  ...       760         0                           0         21703   \n",
       "\n",
       "     OUT_PAY_AMT2  OUT_PAY_AMT3  OUT_PAY_AMT4  OUT_PAY_AMT5  OUT_PAY_AMT6  \\\n",
       "6          372023        407007        522414        469253        460174   \n",
       "40         214296        200895        439859        167969        175224   \n",
       "102        375649        462432        487066        453145        445761   \n",
       "104         50208         56664         60212         52447         52305   \n",
       "189         20087         21461         20835         19459         20487   \n",
       "\n",
       "     LIM_PAY_AMT4  \n",
       "6               0  \n",
       "40              0  \n",
       "102             0  \n",
       "104             0  \n",
       "189             0  \n",
       "\n",
       "[5 rows x 32 columns]"
      ]
     },
     "execution_count": 219,
     "metadata": {},
     "output_type": "execute_result"
    }
   ],
   "source": [
    "df4.head()"
   ]
  },
  {
   "cell_type": "markdown",
   "id": "9cbb7423",
   "metadata": {},
   "source": [
    "## Analysis based on MARRIAGE"
   ]
  },
  {
   "cell_type": "code",
   "execution_count": 220,
   "id": "c62474a3",
   "metadata": {},
   "outputs": [
    {
     "data": {
      "text/plain": [
       "array([2, 1, 3], dtype=int64)"
      ]
     },
     "execution_count": 220,
     "metadata": {},
     "output_type": "execute_result"
    }
   ],
   "source": [
    "df4['MARRIAGE'].unique()"
   ]
  },
  {
   "cell_type": "code",
   "execution_count": 221,
   "id": "a7eabb70",
   "metadata": {},
   "outputs": [
    {
     "data": {
      "text/plain": [
       "2    254\n",
       "1    238\n",
       "3      2\n",
       "Name: MARRIAGE, dtype: int64"
      ]
     },
     "execution_count": 221,
     "metadata": {},
     "output_type": "execute_result"
    }
   ],
   "source": [
    "df4['MARRIAGE'].value_counts()"
   ]
  },
  {
   "cell_type": "code",
   "execution_count": null,
   "id": "4334fcd5",
   "metadata": {},
   "outputs": [],
   "source": [
    "sns.displot(df3['MARRIAGE'],kde=False,bins=3)"
   ]
  },
  {
   "cell_type": "markdown",
   "id": "83f4a91d",
   "metadata": {},
   "source": [
    "## Observation for June, 2005 (Analysis based on MARRIAGE)"
   ]
  },
  {
   "cell_type": "markdown",
   "id": "699b4d44",
   "metadata": {},
   "source": [
    "Among the 494 customers,\n",
    "1. 254 customers with marriage status as single exceeded the limit balance.\n",
    "2. 238 customers with marriage status as married exceeded the limit balance.\n",
    "3. 2 customers with marriage status as others exceeded the limit balance.\n",
    "\n",
    "The single customers have over used the credit card and exceeded the credit limit when compared to married people."
   ]
  },
  {
   "cell_type": "markdown",
   "id": "90621f2d",
   "metadata": {},
   "source": [
    "## Analysis based on SEX"
   ]
  },
  {
   "cell_type": "code",
   "execution_count": 222,
   "id": "86387bd6",
   "metadata": {},
   "outputs": [
    {
     "data": {
      "text/plain": [
       "array([1, 2], dtype=int64)"
      ]
     },
     "execution_count": 222,
     "metadata": {},
     "output_type": "execute_result"
    }
   ],
   "source": [
    "df4['SEX'].unique()"
   ]
  },
  {
   "cell_type": "code",
   "execution_count": 223,
   "id": "281fcb79",
   "metadata": {},
   "outputs": [
    {
     "data": {
      "text/plain": [
       "2    258\n",
       "1    236\n",
       "Name: SEX, dtype: int64"
      ]
     },
     "execution_count": 223,
     "metadata": {},
     "output_type": "execute_result"
    }
   ],
   "source": [
    "df4['SEX'].value_counts()"
   ]
  },
  {
   "cell_type": "code",
   "execution_count": 224,
   "id": "15d18a1b",
   "metadata": {},
   "outputs": [
    {
     "data": {
      "text/plain": [
       "<seaborn.axisgrid.FacetGrid at 0x1ff864b3280>"
      ]
     },
     "execution_count": 224,
     "metadata": {},
     "output_type": "execute_result"
    },
    {
     "data": {
      "image/png": "[encoded data removed]",
      "text/plain": [
       "<Figure size 500x500 with 1 Axes>"
      ]
     },
     "metadata": {},
     "output_type": "display_data"
    }
   ],
   "source": [
    "sns.displot(df4['SEX'],kde=False,bins=2)"
   ]
  },
  {
   "cell_type": "markdown",
   "id": "bf307eac",
   "metadata": {},
   "source": [
    "## Observation for June, 2005 (Analysis based on SEX)"
   ]
  },
  {
   "cell_type": "markdown",
   "id": "77d45d9e",
   "metadata": {},
   "source": [
    "Among the 494 customers,\n",
    "1. 258 female customers exceeded the limit balance.\n",
    "2. 236 male customers exceeded the limit balance.\n",
    "\n",
    "More number of female customers overused the credit card than male customers and exceeded the credit limit."
   ]
  },
  {
   "cell_type": "markdown",
   "id": "1c8458b2",
   "metadata": {},
   "source": [
    "## Outstanding payment analysis for May, 2005 "
   ]
  },
  {
   "cell_type": "code",
   "execution_count": 225,
   "id": "7d74a1ec",
   "metadata": {},
   "outputs": [],
   "source": [
    "df['LIM_PAY_AMT5'] = df['OUT_PAY_AMT5']\n",
    "df['LIM_PAY_AMT5'] = np.where(df['LIM_PAY_AMT5'] > df['LIMIT_BAL'], 0, 1)"
   ]
  },
  {
   "cell_type": "code",
   "execution_count": 226,
   "id": "c06b239d",
   "metadata": {},
   "outputs": [
    {
     "data": {
      "text/plain": [
       "(30000, 36)"
      ]
     },
     "execution_count": 226,
     "metadata": {},
     "output_type": "execute_result"
    }
   ],
   "source": [
    "df.shape"
   ]
  },
  {
   "cell_type": "code",
   "execution_count": 227,
   "id": "02a30906",
   "metadata": {},
   "outputs": [
    {
     "data": {
      "text/html": [
       "<div>\n",
       "<style scoped>\n",
       "    .dataframe tbody tr th:only-of-type {\n",
       "        vertical-align: middle;\n",
       "    }\n",
       "\n",
       "    .dataframe tbody tr th {\n",
       "        vertical-align: top;\n",
       "    }\n",
       "\n",
       "    .dataframe thead th {\n",
       "        text-align: right;\n",
       "    }\n",
       "</style>\n",
       "<table border=\"1\" class=\"dataframe\">\n",
       "  <thead>\n",
       "    <tr style=\"text-align: right;\">\n",
       "      <th></th>\n",
       "      <th>ID</th>\n",
       "      <th>LIMIT_BAL</th>\n",
       "      <th>SEX</th>\n",
       "      <th>EDUCATION</th>\n",
       "      <th>MARRIAGE</th>\n",
       "      <th>AGE</th>\n",
       "      <th>PAY_0</th>\n",
       "      <th>PAY_2</th>\n",
       "      <th>PAY_3</th>\n",
       "      <th>PAY_4</th>\n",
       "      <th>...</th>\n",
       "      <th>OUT_PAY_AMT2</th>\n",
       "      <th>OUT_PAY_AMT3</th>\n",
       "      <th>OUT_PAY_AMT4</th>\n",
       "      <th>OUT_PAY_AMT5</th>\n",
       "      <th>OUT_PAY_AMT6</th>\n",
       "      <th>LIM_PAY_AMT1</th>\n",
       "      <th>LIM_PAY_AMT2</th>\n",
       "      <th>LIM_PAY_AMT3</th>\n",
       "      <th>LIM_PAY_AMT4</th>\n",
       "      <th>LIM_PAY_AMT5</th>\n",
       "    </tr>\n",
       "  </thead>\n",
       "  <tbody>\n",
       "    <tr>\n",
       "      <th>0</th>\n",
       "      <td>1</td>\n",
       "      <td>20000</td>\n",
       "      <td>2</td>\n",
       "      <td>2</td>\n",
       "      <td>1</td>\n",
       "      <td>24</td>\n",
       "      <td>2</td>\n",
       "      <td>2</td>\n",
       "      <td>0</td>\n",
       "      <td>0</td>\n",
       "      <td>...</td>\n",
       "      <td>2413</td>\n",
       "      <td>689</td>\n",
       "      <td>0</td>\n",
       "      <td>0</td>\n",
       "      <td>0</td>\n",
       "      <td>1</td>\n",
       "      <td>1</td>\n",
       "      <td>1</td>\n",
       "      <td>1</td>\n",
       "      <td>1</td>\n",
       "    </tr>\n",
       "    <tr>\n",
       "      <th>1</th>\n",
       "      <td>2</td>\n",
       "      <td>120000</td>\n",
       "      <td>2</td>\n",
       "      <td>2</td>\n",
       "      <td>2</td>\n",
       "      <td>26</td>\n",
       "      <td>0</td>\n",
       "      <td>2</td>\n",
       "      <td>0</td>\n",
       "      <td>0</td>\n",
       "      <td>...</td>\n",
       "      <td>725</td>\n",
       "      <td>1682</td>\n",
       "      <td>2272</td>\n",
       "      <td>3455</td>\n",
       "      <td>1261</td>\n",
       "      <td>1</td>\n",
       "      <td>1</td>\n",
       "      <td>1</td>\n",
       "      <td>1</td>\n",
       "      <td>1</td>\n",
       "    </tr>\n",
       "    <tr>\n",
       "      <th>2</th>\n",
       "      <td>3</td>\n",
       "      <td>90000</td>\n",
       "      <td>2</td>\n",
       "      <td>2</td>\n",
       "      <td>2</td>\n",
       "      <td>34</td>\n",
       "      <td>0</td>\n",
       "      <td>0</td>\n",
       "      <td>0</td>\n",
       "      <td>0</td>\n",
       "      <td>...</td>\n",
       "      <td>12527</td>\n",
       "      <td>12559</td>\n",
       "      <td>13331</td>\n",
       "      <td>13948</td>\n",
       "      <td>10549</td>\n",
       "      <td>1</td>\n",
       "      <td>1</td>\n",
       "      <td>1</td>\n",
       "      <td>1</td>\n",
       "      <td>1</td>\n",
       "    </tr>\n",
       "    <tr>\n",
       "      <th>3</th>\n",
       "      <td>4</td>\n",
       "      <td>50000</td>\n",
       "      <td>2</td>\n",
       "      <td>2</td>\n",
       "      <td>1</td>\n",
       "      <td>37</td>\n",
       "      <td>0</td>\n",
       "      <td>0</td>\n",
       "      <td>0</td>\n",
       "      <td>0</td>\n",
       "      <td>...</td>\n",
       "      <td>46214</td>\n",
       "      <td>48091</td>\n",
       "      <td>27214</td>\n",
       "      <td>27890</td>\n",
       "      <td>28547</td>\n",
       "      <td>1</td>\n",
       "      <td>1</td>\n",
       "      <td>1</td>\n",
       "      <td>1</td>\n",
       "      <td>1</td>\n",
       "    </tr>\n",
       "    <tr>\n",
       "      <th>4</th>\n",
       "      <td>5</td>\n",
       "      <td>50000</td>\n",
       "      <td>1</td>\n",
       "      <td>2</td>\n",
       "      <td>1</td>\n",
       "      <td>57</td>\n",
       "      <td>0</td>\n",
       "      <td>0</td>\n",
       "      <td>0</td>\n",
       "      <td>0</td>\n",
       "      <td>...</td>\n",
       "      <td>-31011</td>\n",
       "      <td>25835</td>\n",
       "      <td>11940</td>\n",
       "      <td>18457</td>\n",
       "      <td>18452</td>\n",
       "      <td>1</td>\n",
       "      <td>1</td>\n",
       "      <td>1</td>\n",
       "      <td>1</td>\n",
       "      <td>1</td>\n",
       "    </tr>\n",
       "  </tbody>\n",
       "</table>\n",
       "<p>5 rows × 36 columns</p>\n",
       "</div>"
      ],
      "text/plain": [
       "   ID  LIMIT_BAL  SEX  EDUCATION  MARRIAGE  AGE  PAY_0  PAY_2  PAY_3  PAY_4  \\\n",
       "0   1      20000    2          2         1   24      2      2      0      0   \n",
       "1   2     120000    2          2         2   26      0      2      0      0   \n",
       "2   3      90000    2          2         2   34      0      0      0      0   \n",
       "3   4      50000    2          2         1   37      0      0      0      0   \n",
       "4   5      50000    1          2         1   57      0      0      0      0   \n",
       "\n",
       "   ...  OUT_PAY_AMT2  OUT_PAY_AMT3  OUT_PAY_AMT4  OUT_PAY_AMT5  OUT_PAY_AMT6  \\\n",
       "0  ...          2413           689             0             0             0   \n",
       "1  ...           725          1682          2272          3455          1261   \n",
       "2  ...         12527         12559         13331         13948         10549   \n",
       "3  ...         46214         48091         27214         27890         28547   \n",
       "4  ...        -31011         25835         11940         18457         18452   \n",
       "\n",
       "   LIM_PAY_AMT1  LIM_PAY_AMT2  LIM_PAY_AMT3  LIM_PAY_AMT4  LIM_PAY_AMT5  \n",
       "0             1             1             1             1             1  \n",
       "1             1             1             1             1             1  \n",
       "2             1             1             1             1             1  \n",
       "3             1             1             1             1             1  \n",
       "4             1             1             1             1             1  \n",
       "\n",
       "[5 rows x 36 columns]"
      ]
     },
     "execution_count": 227,
     "metadata": {},
     "output_type": "execute_result"
    }
   ],
   "source": [
    "df.head()"
   ]
  },
  {
   "cell_type": "code",
   "execution_count": 228,
   "id": "3ebdb361",
   "metadata": {},
   "outputs": [
    {
     "data": {
      "text/plain": [
       "<AxesSubplot:xlabel='LIM_PAY_AMT5', ylabel='count'>"
      ]
     },
     "execution_count": 228,
     "metadata": {},
     "output_type": "execute_result"
    },
    {
     "data": {
      "image/png": "[encoded data removed]",
      "text/plain": [
       "<Figure size 640x480 with 1 Axes>"
      ]
     },
     "metadata": {},
     "output_type": "display_data"
    }
   ],
   "source": [
    "sns.countplot(x=df['LIM_PAY_AMT5'],data=df)"
   ]
  },
  {
   "cell_type": "code",
   "execution_count": 229,
   "id": "ccb4de3c",
   "metadata": {},
   "outputs": [
    {
     "data": {
      "text/plain": [
       "(405, 36)"
      ]
     },
     "execution_count": 229,
     "metadata": {},
     "output_type": "execute_result"
    }
   ],
   "source": [
    "df5=df[df['LIM_PAY_AMT5'].isin([0])]\n",
    "df5.shape"
   ]
  },
  {
   "cell_type": "code",
   "execution_count": null,
   "id": "dac14fa5",
   "metadata": {},
   "outputs": [],
   "source": [
    "df5.drop('LIM_PAY_AMT1',axis=1,inplace=True)\n",
    "#df5.drop('LIM_PAY_AMT2',axis=1,inplace=True)\n",
    "#df5.drop('LIM_PAY_AMT3',axis=1,inplace=True)\n",
    "df5.drop('LIM_PAY_AMT4',axis=1,inplace=True)"
   ]
  },
  {
   "cell_type": "code",
   "execution_count": 237,
   "id": "e32e4570",
   "metadata": {},
   "outputs": [
    {
     "data": {
      "text/html": [
       "<div>\n",
       "<style scoped>\n",
       "    .dataframe tbody tr th:only-of-type {\n",
       "        vertical-align: middle;\n",
       "    }\n",
       "\n",
       "    .dataframe tbody tr th {\n",
       "        vertical-align: top;\n",
       "    }\n",
       "\n",
       "    .dataframe thead th {\n",
       "        text-align: right;\n",
       "    }\n",
       "</style>\n",
       "<table border=\"1\" class=\"dataframe\">\n",
       "  <thead>\n",
       "    <tr style=\"text-align: right;\">\n",
       "      <th></th>\n",
       "      <th>ID</th>\n",
       "      <th>LIMIT_BAL</th>\n",
       "      <th>SEX</th>\n",
       "      <th>EDUCATION</th>\n",
       "      <th>MARRIAGE</th>\n",
       "      <th>AGE</th>\n",
       "      <th>PAY_0</th>\n",
       "      <th>PAY_2</th>\n",
       "      <th>PAY_3</th>\n",
       "      <th>PAY_4</th>\n",
       "      <th>...</th>\n",
       "      <th>PAY_AMT5</th>\n",
       "      <th>PAY_AMT6</th>\n",
       "      <th>default payment next month</th>\n",
       "      <th>OUT_PAY_AMT1</th>\n",
       "      <th>OUT_PAY_AMT2</th>\n",
       "      <th>OUT_PAY_AMT3</th>\n",
       "      <th>OUT_PAY_AMT4</th>\n",
       "      <th>OUT_PAY_AMT5</th>\n",
       "      <th>OUT_PAY_AMT6</th>\n",
       "      <th>LIM_PAY_AMT5</th>\n",
       "    </tr>\n",
       "  </thead>\n",
       "  <tbody>\n",
       "    <tr>\n",
       "      <th>187</th>\n",
       "      <td>188</td>\n",
       "      <td>200000</td>\n",
       "      <td>2</td>\n",
       "      <td>3</td>\n",
       "      <td>2</td>\n",
       "      <td>47</td>\n",
       "      <td>2</td>\n",
       "      <td>2</td>\n",
       "      <td>2</td>\n",
       "      <td>2</td>\n",
       "      <td>...</td>\n",
       "      <td>0</td>\n",
       "      <td>6836</td>\n",
       "      <td>1</td>\n",
       "      <td>191222</td>\n",
       "      <td>195947</td>\n",
       "      <td>187136</td>\n",
       "      <td>189052</td>\n",
       "      <td>200162</td>\n",
       "      <td>183079</td>\n",
       "      <td>0</td>\n",
       "    </tr>\n",
       "    <tr>\n",
       "      <th>388</th>\n",
       "      <td>389</td>\n",
       "      <td>150000</td>\n",
       "      <td>1</td>\n",
       "      <td>2</td>\n",
       "      <td>1</td>\n",
       "      <td>43</td>\n",
       "      <td>0</td>\n",
       "      <td>0</td>\n",
       "      <td>0</td>\n",
       "      <td>0</td>\n",
       "      <td>...</td>\n",
       "      <td>5700</td>\n",
       "      <td>5334</td>\n",
       "      <td>0</td>\n",
       "      <td>145349</td>\n",
       "      <td>147549</td>\n",
       "      <td>150823</td>\n",
       "      <td>153953</td>\n",
       "      <td>157166</td>\n",
       "      <td>152425</td>\n",
       "      <td>0</td>\n",
       "    </tr>\n",
       "    <tr>\n",
       "      <th>404</th>\n",
       "      <td>405</td>\n",
       "      <td>160000</td>\n",
       "      <td>2</td>\n",
       "      <td>1</td>\n",
       "      <td>2</td>\n",
       "      <td>29</td>\n",
       "      <td>2</td>\n",
       "      <td>2</td>\n",
       "      <td>2</td>\n",
       "      <td>2</td>\n",
       "      <td>...</td>\n",
       "      <td>0</td>\n",
       "      <td>5654</td>\n",
       "      <td>1</td>\n",
       "      <td>152932</td>\n",
       "      <td>163916</td>\n",
       "      <td>148118</td>\n",
       "      <td>161093</td>\n",
       "      <td>170098</td>\n",
       "      <td>148146</td>\n",
       "      <td>0</td>\n",
       "    </tr>\n",
       "    <tr>\n",
       "      <th>420</th>\n",
       "      <td>421</td>\n",
       "      <td>30000</td>\n",
       "      <td>1</td>\n",
       "      <td>1</td>\n",
       "      <td>2</td>\n",
       "      <td>24</td>\n",
       "      <td>2</td>\n",
       "      <td>0</td>\n",
       "      <td>0</td>\n",
       "      <td>0</td>\n",
       "      <td>...</td>\n",
       "      <td>0</td>\n",
       "      <td>1800</td>\n",
       "      <td>0</td>\n",
       "      <td>23765</td>\n",
       "      <td>24554</td>\n",
       "      <td>26703</td>\n",
       "      <td>25459</td>\n",
       "      <td>30002</td>\n",
       "      <td>27571</td>\n",
       "      <td>0</td>\n",
       "    </tr>\n",
       "    <tr>\n",
       "      <th>497</th>\n",
       "      <td>498</td>\n",
       "      <td>20000</td>\n",
       "      <td>1</td>\n",
       "      <td>2</td>\n",
       "      <td>2</td>\n",
       "      <td>23</td>\n",
       "      <td>0</td>\n",
       "      <td>0</td>\n",
       "      <td>2</td>\n",
       "      <td>0</td>\n",
       "      <td>...</td>\n",
       "      <td>1113</td>\n",
       "      <td>104</td>\n",
       "      <td>0</td>\n",
       "      <td>9037</td>\n",
       "      <td>20417</td>\n",
       "      <td>17513</td>\n",
       "      <td>17823</td>\n",
       "      <td>29077</td>\n",
       "      <td>19560</td>\n",
       "      <td>0</td>\n",
       "    </tr>\n",
       "  </tbody>\n",
       "</table>\n",
       "<p>5 rows × 32 columns</p>\n",
       "</div>"
      ],
      "text/plain": [
       "      ID  LIMIT_BAL  SEX  EDUCATION  MARRIAGE  AGE  PAY_0  PAY_2  PAY_3  \\\n",
       "187  188     200000    2          3         2   47      2      2      2   \n",
       "388  389     150000    1          2         1   43      0      0      0   \n",
       "404  405     160000    2          1         2   29      2      2      2   \n",
       "420  421      30000    1          1         2   24      2      0      0   \n",
       "497  498      20000    1          2         2   23      0      0      2   \n",
       "\n",
       "     PAY_4  ...  PAY_AMT5  PAY_AMT6  default payment next month  OUT_PAY_AMT1  \\\n",
       "187      2  ...         0      6836                           1        191222   \n",
       "388      0  ...      5700      5334                           0        145349   \n",
       "404      2  ...         0      5654                           1        152932   \n",
       "420      0  ...         0      1800                           0         23765   \n",
       "497      0  ...      1113       104                           0          9037   \n",
       "\n",
       "     OUT_PAY_AMT2  OUT_PAY_AMT3  OUT_PAY_AMT4  OUT_PAY_AMT5  OUT_PAY_AMT6  \\\n",
       "187        195947        187136        189052        200162        183079   \n",
       "388        147549        150823        153953        157166        152425   \n",
       "404        163916        148118        161093        170098        148146   \n",
       "420         24554         26703         25459         30002         27571   \n",
       "497         20417         17513         17823         29077         19560   \n",
       "\n",
       "     LIM_PAY_AMT5  \n",
       "187             0  \n",
       "388             0  \n",
       "404             0  \n",
       "420             0  \n",
       "497             0  \n",
       "\n",
       "[5 rows x 32 columns]"
      ]
     },
     "execution_count": 237,
     "metadata": {},
     "output_type": "execute_result"
    }
   ],
   "source": [
    "df5.head()"
   ]
  },
  {
   "cell_type": "code",
   "execution_count": 238,
   "id": "fc9894ff",
   "metadata": {},
   "outputs": [
    {
     "data": {
      "text/plain": [
       "array([0])"
      ]
     },
     "execution_count": 238,
     "metadata": {},
     "output_type": "execute_result"
    }
   ],
   "source": [
    "df5['LIM_PAY_AMT5'].unique()"
   ]
  },
  {
   "cell_type": "markdown",
   "id": "cf02a26c",
   "metadata": {},
   "source": [
    "## Analysis based on Age"
   ]
  },
  {
   "cell_type": "code",
   "execution_count": 239,
   "id": "0faaac55",
   "metadata": {},
   "outputs": [
    {
     "data": {
      "text/plain": [
       "27    30\n",
       "24    22\n",
       "26    21\n",
       "28    20\n",
       "23    20\n",
       "22    18\n",
       "30    17\n",
       "34    16\n",
       "25    16\n",
       "29    15\n",
       "41    15\n",
       "36    14\n",
       "32    13\n",
       "38    13\n",
       "33    12\n",
       "44    12\n",
       "45    11\n",
       "37    11\n",
       "42    10\n",
       "35     9\n",
       "47     9\n",
       "46     9\n",
       "39     7\n",
       "48     7\n",
       "43     6\n",
       "31     5\n",
       "40     5\n",
       "49     5\n",
       "52     4\n",
       "54     4\n",
       "51     4\n",
       "50     4\n",
       "67     3\n",
       "56     3\n",
       "53     3\n",
       "55     2\n",
       "62     2\n",
       "57     1\n",
       "63     1\n",
       "61     1\n",
       "59     1\n",
       "60     1\n",
       "58     1\n",
       "66     1\n",
       "21     1\n",
       "Name: AGE, dtype: int64"
      ]
     },
     "execution_count": 239,
     "metadata": {},
     "output_type": "execute_result"
    }
   ],
   "source": [
    "df5['AGE'].value_counts()"
   ]
  },
  {
   "cell_type": "code",
   "execution_count": null,
   "id": "dda12013",
   "metadata": {},
   "outputs": [],
   "source": [
    "sns.displot(df5['AGE'],kde=False,bins=5)"
   ]
  },
  {
   "cell_type": "code",
   "execution_count": 240,
   "id": "1050ef16",
   "metadata": {},
   "outputs": [
    {
     "data": {
      "text/plain": [
       "array([47, 43, 29, 24, 23, 27, 34, 36, 25, 46, 54, 67, 22, 44, 30, 26, 32,\n",
       "       49, 41, 40, 37, 31, 45, 28, 38, 39, 35, 56, 42, 33, 55, 66, 50, 59,\n",
       "       48, 52, 58, 53, 60, 62, 63, 61, 51, 57, 21], dtype=int64)"
      ]
     },
     "execution_count": 240,
     "metadata": {},
     "output_type": "execute_result"
    }
   ],
   "source": [
    "df5['AGE'].unique()"
   ]
  },
  {
   "cell_type": "code",
   "execution_count": 241,
   "id": "e25770bd",
   "metadata": {},
   "outputs": [
    {
     "data": {
      "text/plain": [
       "(20, 30]    180\n",
       "(30, 40]    105\n",
       "(40, 50]     88\n",
       "(50, 60]     24\n",
       "(60, 70]      8\n",
       "(0, 20]       0\n",
       "(70, 80]      0\n",
       "Name: AGE, dtype: int64"
      ]
     },
     "execution_count": 241,
     "metadata": {},
     "output_type": "execute_result"
    }
   ],
   "source": [
    "pd.cut(df5['AGE'], [0, 20, 30, 40, 50, 60, 70, 80]).value_counts()"
   ]
  },
  {
   "cell_type": "markdown",
   "id": "fd35c0fc",
   "metadata": {},
   "source": [
    "## Observation for May, 2005 (Analysis based on AGE)\n",
    "\n",
    "The outstanding payment amount is found with the help of bill amount, BILL_AMT_3 and PAY_AMT_3. \n",
    "1. Total number of 405 customers exceeded their limit balance out of 30000 customers.\n",
    "\n",
    "Among the 405 customers, \n",
    "1. 180 customers in the age group of 20 - 30 exceeded the limit balance.\n",
    "2. 105 customers in the age group of 30 - 40 exceeded the limit balance.\n",
    "3. 88 customers in the age group of 40 - 50 exceeded the limit balance.\n",
    "4. 24 customers in the age group of 50 - 60 exceeded the limit balance.\n",
    "5. 8 customers in the age group of 60 - 70 exceeded the limit balance.\n",
    "\n",
    "It can be concluded that the youngsters within the age group of 20-30 is over using the card and exceeding the limit.\n"
   ]
  },
  {
   "cell_type": "markdown",
   "id": "8e8a7bb1",
   "metadata": {},
   "source": [
    "## Analysis based on EDUCATION"
   ]
  },
  {
   "cell_type": "markdown",
   "id": "ded424a6",
   "metadata": {},
   "source": [
    "For Education the values and their explanation: \n",
    "1 = graduate school; \n",
    "2 = university; \n",
    "3 = high school; \n",
    "4 = others"
   ]
  },
  {
   "cell_type": "code",
   "execution_count": 242,
   "id": "ebdac22b",
   "metadata": {},
   "outputs": [
    {
     "name": "stdout",
     "output_type": "stream",
     "text": [
      "<class 'pandas.core.series.Series'>\n",
      "Int64Index: 405 entries, 187 to 29994\n",
      "Series name: EDUCATION\n",
      "Non-Null Count  Dtype\n",
      "--------------  -----\n",
      "405 non-null    int64\n",
      "dtypes: int64(1)\n",
      "memory usage: 6.3 KB\n"
     ]
    }
   ],
   "source": [
    "df5['EDUCATION'].info()"
   ]
  },
  {
   "cell_type": "code",
   "execution_count": 243,
   "id": "252a1d86",
   "metadata": {},
   "outputs": [
    {
     "data": {
      "text/plain": [
       "array([3, 2, 1, 5, 6, 4], dtype=int64)"
      ]
     },
     "execution_count": 243,
     "metadata": {},
     "output_type": "execute_result"
    }
   ],
   "source": [
    "df5['EDUCATION'].unique()"
   ]
  },
  {
   "cell_type": "code",
   "execution_count": 244,
   "id": "c4543761",
   "metadata": {},
   "outputs": [
    {
     "data": {
      "text/plain": [
       "2    225\n",
       "1     95\n",
       "3     73\n",
       "5      8\n",
       "4      3\n",
       "6      1\n",
       "Name: EDUCATION, dtype: int64"
      ]
     },
     "execution_count": 244,
     "metadata": {},
     "output_type": "execute_result"
    }
   ],
   "source": [
    "df5['EDUCATION'].value_counts()"
   ]
  },
  {
   "cell_type": "code",
   "execution_count": 245,
   "id": "437056a5",
   "metadata": {},
   "outputs": [
    {
     "data": {
      "text/plain": [
       "<seaborn.axisgrid.FacetGrid at 0x1ff862a5e50>"
      ]
     },
     "execution_count": 245,
     "metadata": {},
     "output_type": "execute_result"
    },
    {
     "data": {
      "image/png": "[encoded data removed]",
      "text/plain": [
       "<Figure size 500x500 with 1 Axes>"
      ]
     },
     "metadata": {},
     "output_type": "display_data"
    }
   ],
   "source": [
    "sns.displot(df5['EDUCATION'],kde=False,bins=6)"
   ]
  },
  {
   "cell_type": "markdown",
   "id": "ab0935f9",
   "metadata": {},
   "source": [
    "## Observation for May, 2005 (Analysis based on EDUCATION)"
   ]
  },
  {
   "cell_type": "markdown",
   "id": "82f6dd72",
   "metadata": {},
   "source": [
    "Among the 404 customers,\n",
    "1. 225 customers with university education background exceeded the limit balance.\n",
    "2. 95 customers with high school education background exceeded the limit balance.\n",
    "3. 73 customers with graduate school education background exceeded the limit balance.\n",
    "4. 3 customers with other education background exceeded the limit balance.\n",
    "\n",
    "Based on the education, it can be concluded that the customers with university education background is over using the card and not maintaining the credit limit."
   ]
  },
  {
   "cell_type": "code",
   "execution_count": 246,
   "id": "e816405f",
   "metadata": {},
   "outputs": [
    {
     "data": {
      "text/html": [
       "<div>\n",
       "<style scoped>\n",
       "    .dataframe tbody tr th:only-of-type {\n",
       "        vertical-align: middle;\n",
       "    }\n",
       "\n",
       "    .dataframe tbody tr th {\n",
       "        vertical-align: top;\n",
       "    }\n",
       "\n",
       "    .dataframe thead th {\n",
       "        text-align: right;\n",
       "    }\n",
       "</style>\n",
       "<table border=\"1\" class=\"dataframe\">\n",
       "  <thead>\n",
       "    <tr style=\"text-align: right;\">\n",
       "      <th></th>\n",
       "      <th>ID</th>\n",
       "      <th>LIMIT_BAL</th>\n",
       "      <th>SEX</th>\n",
       "      <th>EDUCATION</th>\n",
       "      <th>MARRIAGE</th>\n",
       "      <th>AGE</th>\n",
       "      <th>PAY_0</th>\n",
       "      <th>PAY_2</th>\n",
       "      <th>PAY_3</th>\n",
       "      <th>PAY_4</th>\n",
       "      <th>...</th>\n",
       "      <th>PAY_AMT5</th>\n",
       "      <th>PAY_AMT6</th>\n",
       "      <th>default payment next month</th>\n",
       "      <th>OUT_PAY_AMT1</th>\n",
       "      <th>OUT_PAY_AMT2</th>\n",
       "      <th>OUT_PAY_AMT3</th>\n",
       "      <th>OUT_PAY_AMT4</th>\n",
       "      <th>OUT_PAY_AMT5</th>\n",
       "      <th>OUT_PAY_AMT6</th>\n",
       "      <th>LIM_PAY_AMT5</th>\n",
       "    </tr>\n",
       "  </thead>\n",
       "  <tbody>\n",
       "    <tr>\n",
       "      <th>187</th>\n",
       "      <td>188</td>\n",
       "      <td>200000</td>\n",
       "      <td>2</td>\n",
       "      <td>3</td>\n",
       "      <td>2</td>\n",
       "      <td>47</td>\n",
       "      <td>2</td>\n",
       "      <td>2</td>\n",
       "      <td>2</td>\n",
       "      <td>2</td>\n",
       "      <td>...</td>\n",
       "      <td>0</td>\n",
       "      <td>6836</td>\n",
       "      <td>1</td>\n",
       "      <td>191222</td>\n",
       "      <td>195947</td>\n",
       "      <td>187136</td>\n",
       "      <td>189052</td>\n",
       "      <td>200162</td>\n",
       "      <td>183079</td>\n",
       "      <td>0</td>\n",
       "    </tr>\n",
       "    <tr>\n",
       "      <th>388</th>\n",
       "      <td>389</td>\n",
       "      <td>150000</td>\n",
       "      <td>1</td>\n",
       "      <td>2</td>\n",
       "      <td>1</td>\n",
       "      <td>43</td>\n",
       "      <td>0</td>\n",
       "      <td>0</td>\n",
       "      <td>0</td>\n",
       "      <td>0</td>\n",
       "      <td>...</td>\n",
       "      <td>5700</td>\n",
       "      <td>5334</td>\n",
       "      <td>0</td>\n",
       "      <td>145349</td>\n",
       "      <td>147549</td>\n",
       "      <td>150823</td>\n",
       "      <td>153953</td>\n",
       "      <td>157166</td>\n",
       "      <td>152425</td>\n",
       "      <td>0</td>\n",
       "    </tr>\n",
       "    <tr>\n",
       "      <th>404</th>\n",
       "      <td>405</td>\n",
       "      <td>160000</td>\n",
       "      <td>2</td>\n",
       "      <td>1</td>\n",
       "      <td>2</td>\n",
       "      <td>29</td>\n",
       "      <td>2</td>\n",
       "      <td>2</td>\n",
       "      <td>2</td>\n",
       "      <td>2</td>\n",
       "      <td>...</td>\n",
       "      <td>0</td>\n",
       "      <td>5654</td>\n",
       "      <td>1</td>\n",
       "      <td>152932</td>\n",
       "      <td>163916</td>\n",
       "      <td>148118</td>\n",
       "      <td>161093</td>\n",
       "      <td>170098</td>\n",
       "      <td>148146</td>\n",
       "      <td>0</td>\n",
       "    </tr>\n",
       "    <tr>\n",
       "      <th>420</th>\n",
       "      <td>421</td>\n",
       "      <td>30000</td>\n",
       "      <td>1</td>\n",
       "      <td>1</td>\n",
       "      <td>2</td>\n",
       "      <td>24</td>\n",
       "      <td>2</td>\n",
       "      <td>0</td>\n",
       "      <td>0</td>\n",
       "      <td>0</td>\n",
       "      <td>...</td>\n",
       "      <td>0</td>\n",
       "      <td>1800</td>\n",
       "      <td>0</td>\n",
       "      <td>23765</td>\n",
       "      <td>24554</td>\n",
       "      <td>26703</td>\n",
       "      <td>25459</td>\n",
       "      <td>30002</td>\n",
       "      <td>27571</td>\n",
       "      <td>0</td>\n",
       "    </tr>\n",
       "    <tr>\n",
       "      <th>497</th>\n",
       "      <td>498</td>\n",
       "      <td>20000</td>\n",
       "      <td>1</td>\n",
       "      <td>2</td>\n",
       "      <td>2</td>\n",
       "      <td>23</td>\n",
       "      <td>0</td>\n",
       "      <td>0</td>\n",
       "      <td>2</td>\n",
       "      <td>0</td>\n",
       "      <td>...</td>\n",
       "      <td>1113</td>\n",
       "      <td>104</td>\n",
       "      <td>0</td>\n",
       "      <td>9037</td>\n",
       "      <td>20417</td>\n",
       "      <td>17513</td>\n",
       "      <td>17823</td>\n",
       "      <td>29077</td>\n",
       "      <td>19560</td>\n",
       "      <td>0</td>\n",
       "    </tr>\n",
       "  </tbody>\n",
       "</table>\n",
       "<p>5 rows × 32 columns</p>\n",
       "</div>"
      ],
      "text/plain": [
       "      ID  LIMIT_BAL  SEX  EDUCATION  MARRIAGE  AGE  PAY_0  PAY_2  PAY_3  \\\n",
       "187  188     200000    2          3         2   47      2      2      2   \n",
       "388  389     150000    1          2         1   43      0      0      0   \n",
       "404  405     160000    2          1         2   29      2      2      2   \n",
       "420  421      30000    1          1         2   24      2      0      0   \n",
       "497  498      20000    1          2         2   23      0      0      2   \n",
       "\n",
       "     PAY_4  ...  PAY_AMT5  PAY_AMT6  default payment next month  OUT_PAY_AMT1  \\\n",
       "187      2  ...         0      6836                           1        191222   \n",
       "388      0  ...      5700      5334                           0        145349   \n",
       "404      2  ...         0      5654                           1        152932   \n",
       "420      0  ...         0      1800                           0         23765   \n",
       "497      0  ...      1113       104                           0          9037   \n",
       "\n",
       "     OUT_PAY_AMT2  OUT_PAY_AMT3  OUT_PAY_AMT4  OUT_PAY_AMT5  OUT_PAY_AMT6  \\\n",
       "187        195947        187136        189052        200162        183079   \n",
       "388        147549        150823        153953        157166        152425   \n",
       "404        163916        148118        161093        170098        148146   \n",
       "420         24554         26703         25459         30002         27571   \n",
       "497         20417         17513         17823         29077         19560   \n",
       "\n",
       "     LIM_PAY_AMT5  \n",
       "187             0  \n",
       "388             0  \n",
       "404             0  \n",
       "420             0  \n",
       "497             0  \n",
       "\n",
       "[5 rows x 32 columns]"
      ]
     },
     "execution_count": 246,
     "metadata": {},
     "output_type": "execute_result"
    }
   ],
   "source": [
    "df5.head()"
   ]
  },
  {
   "cell_type": "markdown",
   "id": "d4468bf5",
   "metadata": {},
   "source": [
    "## Analysis based on MARRIAGE"
   ]
  },
  {
   "cell_type": "code",
   "execution_count": 247,
   "id": "db926caa",
   "metadata": {},
   "outputs": [
    {
     "data": {
      "text/plain": [
       "array([2, 1, 3], dtype=int64)"
      ]
     },
     "execution_count": 247,
     "metadata": {},
     "output_type": "execute_result"
    }
   ],
   "source": [
    "df5['MARRIAGE'].unique()"
   ]
  },
  {
   "cell_type": "code",
   "execution_count": 248,
   "id": "479809ad",
   "metadata": {},
   "outputs": [
    {
     "data": {
      "text/plain": [
       "2    223\n",
       "1    180\n",
       "3      2\n",
       "Name: MARRIAGE, dtype: int64"
      ]
     },
     "execution_count": 248,
     "metadata": {},
     "output_type": "execute_result"
    }
   ],
   "source": [
    "df5['MARRIAGE'].value_counts()"
   ]
  },
  {
   "cell_type": "code",
   "execution_count": 249,
   "id": "fe439efb",
   "metadata": {},
   "outputs": [
    {
     "data": {
      "text/plain": [
       "<seaborn.axisgrid.FacetGrid at 0x1ff8650d220>"
      ]
     },
     "execution_count": 249,
     "metadata": {},
     "output_type": "execute_result"
    },
    {
     "data": {
      "image/png": "[encoded data removed]",
      "text/plain": [
       "<Figure size 500x500 with 1 Axes>"
      ]
     },
     "metadata": {},
     "output_type": "display_data"
    }
   ],
   "source": [
    "sns.displot(df3['MARRIAGE'],kde=False,bins=3)"
   ]
  },
  {
   "cell_type": "markdown",
   "id": "cc216e91",
   "metadata": {},
   "source": [
    "## Observation for May, 2005 (Analysis based on MARRIAGE)"
   ]
  },
  {
   "cell_type": "markdown",
   "id": "96b7bb46",
   "metadata": {},
   "source": [
    "Among the 494 customers,\n",
    "1. 223 customers with marriage status as single exceeded the limit balance.\n",
    "2. 180 customers with marriage status as married exceeded the limit balance.\n",
    "3. 2 customers with marriage status as others exceeded the limit balance.\n",
    "\n",
    "The single customers have over used the credit card and exceeded the credit limit when compared to married people."
   ]
  },
  {
   "cell_type": "markdown",
   "id": "a87f0d68",
   "metadata": {},
   "source": [
    "## Analysis based on SEX"
   ]
  },
  {
   "cell_type": "code",
   "execution_count": 250,
   "id": "2509b37e",
   "metadata": {},
   "outputs": [
    {
     "data": {
      "text/plain": [
       "array([2, 1], dtype=int64)"
      ]
     },
     "execution_count": 250,
     "metadata": {},
     "output_type": "execute_result"
    }
   ],
   "source": [
    "df5['SEX'].unique()"
   ]
  },
  {
   "cell_type": "code",
   "execution_count": 251,
   "id": "c8b3be63",
   "metadata": {},
   "outputs": [
    {
     "data": {
      "text/plain": [
       "2    217\n",
       "1    188\n",
       "Name: SEX, dtype: int64"
      ]
     },
     "execution_count": 251,
     "metadata": {},
     "output_type": "execute_result"
    }
   ],
   "source": [
    "df5['SEX'].value_counts()"
   ]
  },
  {
   "cell_type": "code",
   "execution_count": 252,
   "id": "63e26171",
   "metadata": {},
   "outputs": [
    {
     "data": {
      "text/plain": [
       "<seaborn.axisgrid.FacetGrid at 0x1ff87560a00>"
      ]
     },
     "execution_count": 252,
     "metadata": {},
     "output_type": "execute_result"
    },
    {
     "data": {
      "image/png": "[encoded data removed]",
      "text/plain": [
       "<Figure size 500x500 with 1 Axes>"
      ]
     },
     "metadata": {},
     "output_type": "display_data"
    }
   ],
   "source": [
    "sns.displot(df5['SEX'],kde=False,bins=2)"
   ]
  },
  {
   "cell_type": "markdown",
   "id": "3cf88344",
   "metadata": {},
   "source": [
    "## Observation for May, 2005 (Analysis based on SEX)"
   ]
  },
  {
   "cell_type": "markdown",
   "id": "dc13f596",
   "metadata": {},
   "source": [
    "Among the 404 customers,\n",
    "1. 217 female customers exceeded the limit balance.\n",
    "2. 188 male customers exceeded the limit balance.\n",
    "\n",
    "More number of female customers overused the credit card than male customers and exceeded the credit limit."
   ]
  },
  {
   "cell_type": "markdown",
   "id": "1391223d",
   "metadata": {},
   "source": [
    "## Outstanding payment analysis for April, 2005 "
   ]
  },
  {
   "cell_type": "code",
   "execution_count": 253,
   "id": "af810b09",
   "metadata": {},
   "outputs": [],
   "source": [
    "df['LIM_PAY_AMT6'] = df['OUT_PAY_AMT6']\n",
    "df['LIM_PAY_AMT6'] = np.where(df['LIM_PAY_AMT6'] > df['LIMIT_BAL'], 0, 1)"
   ]
  },
  {
   "cell_type": "code",
   "execution_count": 254,
   "id": "62fe450f",
   "metadata": {},
   "outputs": [
    {
     "data": {
      "text/plain": [
       "(30000, 37)"
      ]
     },
     "execution_count": 254,
     "metadata": {},
     "output_type": "execute_result"
    }
   ],
   "source": [
    "df.shape"
   ]
  },
  {
   "cell_type": "code",
   "execution_count": 255,
   "id": "ae646ff7",
   "metadata": {},
   "outputs": [
    {
     "data": {
      "text/html": [
       "<div>\n",
       "<style scoped>\n",
       "    .dataframe tbody tr th:only-of-type {\n",
       "        vertical-align: middle;\n",
       "    }\n",
       "\n",
       "    .dataframe tbody tr th {\n",
       "        vertical-align: top;\n",
       "    }\n",
       "\n",
       "    .dataframe thead th {\n",
       "        text-align: right;\n",
       "    }\n",
       "</style>\n",
       "<table border=\"1\" class=\"dataframe\">\n",
       "  <thead>\n",
       "    <tr style=\"text-align: right;\">\n",
       "      <th></th>\n",
       "      <th>ID</th>\n",
       "      <th>LIMIT_BAL</th>\n",
       "      <th>SEX</th>\n",
       "      <th>EDUCATION</th>\n",
       "      <th>MARRIAGE</th>\n",
       "      <th>AGE</th>\n",
       "      <th>PAY_0</th>\n",
       "      <th>PAY_2</th>\n",
       "      <th>PAY_3</th>\n",
       "      <th>PAY_4</th>\n",
       "      <th>...</th>\n",
       "      <th>OUT_PAY_AMT3</th>\n",
       "      <th>OUT_PAY_AMT4</th>\n",
       "      <th>OUT_PAY_AMT5</th>\n",
       "      <th>OUT_PAY_AMT6</th>\n",
       "      <th>LIM_PAY_AMT1</th>\n",
       "      <th>LIM_PAY_AMT2</th>\n",
       "      <th>LIM_PAY_AMT3</th>\n",
       "      <th>LIM_PAY_AMT4</th>\n",
       "      <th>LIM_PAY_AMT5</th>\n",
       "      <th>LIM_PAY_AMT6</th>\n",
       "    </tr>\n",
       "  </thead>\n",
       "  <tbody>\n",
       "    <tr>\n",
       "      <th>0</th>\n",
       "      <td>1</td>\n",
       "      <td>20000</td>\n",
       "      <td>2</td>\n",
       "      <td>2</td>\n",
       "      <td>1</td>\n",
       "      <td>24</td>\n",
       "      <td>2</td>\n",
       "      <td>2</td>\n",
       "      <td>0</td>\n",
       "      <td>0</td>\n",
       "      <td>...</td>\n",
       "      <td>689</td>\n",
       "      <td>0</td>\n",
       "      <td>0</td>\n",
       "      <td>0</td>\n",
       "      <td>1</td>\n",
       "      <td>1</td>\n",
       "      <td>1</td>\n",
       "      <td>1</td>\n",
       "      <td>1</td>\n",
       "      <td>1</td>\n",
       "    </tr>\n",
       "    <tr>\n",
       "      <th>1</th>\n",
       "      <td>2</td>\n",
       "      <td>120000</td>\n",
       "      <td>2</td>\n",
       "      <td>2</td>\n",
       "      <td>2</td>\n",
       "      <td>26</td>\n",
       "      <td>0</td>\n",
       "      <td>2</td>\n",
       "      <td>0</td>\n",
       "      <td>0</td>\n",
       "      <td>...</td>\n",
       "      <td>1682</td>\n",
       "      <td>2272</td>\n",
       "      <td>3455</td>\n",
       "      <td>1261</td>\n",
       "      <td>1</td>\n",
       "      <td>1</td>\n",
       "      <td>1</td>\n",
       "      <td>1</td>\n",
       "      <td>1</td>\n",
       "      <td>1</td>\n",
       "    </tr>\n",
       "    <tr>\n",
       "      <th>2</th>\n",
       "      <td>3</td>\n",
       "      <td>90000</td>\n",
       "      <td>2</td>\n",
       "      <td>2</td>\n",
       "      <td>2</td>\n",
       "      <td>34</td>\n",
       "      <td>0</td>\n",
       "      <td>0</td>\n",
       "      <td>0</td>\n",
       "      <td>0</td>\n",
       "      <td>...</td>\n",
       "      <td>12559</td>\n",
       "      <td>13331</td>\n",
       "      <td>13948</td>\n",
       "      <td>10549</td>\n",
       "      <td>1</td>\n",
       "      <td>1</td>\n",
       "      <td>1</td>\n",
       "      <td>1</td>\n",
       "      <td>1</td>\n",
       "      <td>1</td>\n",
       "    </tr>\n",
       "    <tr>\n",
       "      <th>3</th>\n",
       "      <td>4</td>\n",
       "      <td>50000</td>\n",
       "      <td>2</td>\n",
       "      <td>2</td>\n",
       "      <td>1</td>\n",
       "      <td>37</td>\n",
       "      <td>0</td>\n",
       "      <td>0</td>\n",
       "      <td>0</td>\n",
       "      <td>0</td>\n",
       "      <td>...</td>\n",
       "      <td>48091</td>\n",
       "      <td>27214</td>\n",
       "      <td>27890</td>\n",
       "      <td>28547</td>\n",
       "      <td>1</td>\n",
       "      <td>1</td>\n",
       "      <td>1</td>\n",
       "      <td>1</td>\n",
       "      <td>1</td>\n",
       "      <td>1</td>\n",
       "    </tr>\n",
       "    <tr>\n",
       "      <th>4</th>\n",
       "      <td>5</td>\n",
       "      <td>50000</td>\n",
       "      <td>1</td>\n",
       "      <td>2</td>\n",
       "      <td>1</td>\n",
       "      <td>57</td>\n",
       "      <td>0</td>\n",
       "      <td>0</td>\n",
       "      <td>0</td>\n",
       "      <td>0</td>\n",
       "      <td>...</td>\n",
       "      <td>25835</td>\n",
       "      <td>11940</td>\n",
       "      <td>18457</td>\n",
       "      <td>18452</td>\n",
       "      <td>1</td>\n",
       "      <td>1</td>\n",
       "      <td>1</td>\n",
       "      <td>1</td>\n",
       "      <td>1</td>\n",
       "      <td>1</td>\n",
       "    </tr>\n",
       "  </tbody>\n",
       "</table>\n",
       "<p>5 rows × 37 columns</p>\n",
       "</div>"
      ],
      "text/plain": [
       "   ID  LIMIT_BAL  SEX  EDUCATION  MARRIAGE  AGE  PAY_0  PAY_2  PAY_3  PAY_4  \\\n",
       "0   1      20000    2          2         1   24      2      2      0      0   \n",
       "1   2     120000    2          2         2   26      0      2      0      0   \n",
       "2   3      90000    2          2         2   34      0      0      0      0   \n",
       "3   4      50000    2          2         1   37      0      0      0      0   \n",
       "4   5      50000    1          2         1   57      0      0      0      0   \n",
       "\n",
       "   ...  OUT_PAY_AMT3  OUT_PAY_AMT4  OUT_PAY_AMT5  OUT_PAY_AMT6  LIM_PAY_AMT1  \\\n",
       "0  ...           689             0             0             0             1   \n",
       "1  ...          1682          2272          3455          1261             1   \n",
       "2  ...         12559         13331         13948         10549             1   \n",
       "3  ...         48091         27214         27890         28547             1   \n",
       "4  ...         25835         11940         18457         18452             1   \n",
       "\n",
       "   LIM_PAY_AMT2  LIM_PAY_AMT3  LIM_PAY_AMT4  LIM_PAY_AMT5  LIM_PAY_AMT6  \n",
       "0             1             1             1             1             1  \n",
       "1             1             1             1             1             1  \n",
       "2             1             1             1             1             1  \n",
       "3             1             1             1             1             1  \n",
       "4             1             1             1             1             1  \n",
       "\n",
       "[5 rows x 37 columns]"
      ]
     },
     "execution_count": 255,
     "metadata": {},
     "output_type": "execute_result"
    }
   ],
   "source": [
    "df.head()"
   ]
  },
  {
   "cell_type": "code",
   "execution_count": 256,
   "id": "88506a9c",
   "metadata": {},
   "outputs": [
    {
     "data": {
      "text/plain": [
       "<AxesSubplot:xlabel='LIM_PAY_AMT6', ylabel='count'>"
      ]
     },
     "execution_count": 256,
     "metadata": {},
     "output_type": "execute_result"
    },
    {
     "data": {
      "image/png": "[encoded data removed]",
      "text/plain": [
       "<Figure size 640x480 with 1 Axes>"
      ]
     },
     "metadata": {},
     "output_type": "display_data"
    }
   ],
   "source": [
    "sns.countplot(x=df['LIM_PAY_AMT6'],data=df)"
   ]
  },
  {
   "cell_type": "code",
   "execution_count": 257,
   "id": "d700c2f4",
   "metadata": {},
   "outputs": [
    {
     "data": {
      "text/plain": [
       "(378, 37)"
      ]
     },
     "execution_count": 257,
     "metadata": {},
     "output_type": "execute_result"
    }
   ],
   "source": [
    "df6=df[df['LIM_PAY_AMT6'].isin([0])]\n",
    "df6.shape"
   ]
  },
  {
   "cell_type": "code",
   "execution_count": null,
   "id": "f133cc96",
   "metadata": {},
   "outputs": [],
   "source": [
    "df6.drop('LIM_PAY_AMT1',axis=1,inplace=True)\n",
    "df6.drop('LIM_PAY_AMT2',axis=1,inplace=True)\n",
    "df6.drop('LIM_PAY_AMT3',axis=1,inplace=True)\n",
    "df6.drop('LIM_PAY_AMT4',axis=1,inplace=True)\n",
    "df6.drop('LIM_PAY_AMT5',axis=1,inplace=True)"
   ]
  },
  {
   "cell_type": "code",
   "execution_count": 259,
   "id": "9fb801f2",
   "metadata": {},
   "outputs": [
    {
     "data": {
      "text/html": [
       "<div>\n",
       "<style scoped>\n",
       "    .dataframe tbody tr th:only-of-type {\n",
       "        vertical-align: middle;\n",
       "    }\n",
       "\n",
       "    .dataframe tbody tr th {\n",
       "        vertical-align: top;\n",
       "    }\n",
       "\n",
       "    .dataframe thead th {\n",
       "        text-align: right;\n",
       "    }\n",
       "</style>\n",
       "<table border=\"1\" class=\"dataframe\">\n",
       "  <thead>\n",
       "    <tr style=\"text-align: right;\">\n",
       "      <th></th>\n",
       "      <th>ID</th>\n",
       "      <th>LIMIT_BAL</th>\n",
       "      <th>SEX</th>\n",
       "      <th>EDUCATION</th>\n",
       "      <th>MARRIAGE</th>\n",
       "      <th>AGE</th>\n",
       "      <th>PAY_0</th>\n",
       "      <th>PAY_2</th>\n",
       "      <th>PAY_3</th>\n",
       "      <th>PAY_4</th>\n",
       "      <th>...</th>\n",
       "      <th>PAY_AMT5</th>\n",
       "      <th>PAY_AMT6</th>\n",
       "      <th>default payment next month</th>\n",
       "      <th>OUT_PAY_AMT1</th>\n",
       "      <th>OUT_PAY_AMT2</th>\n",
       "      <th>OUT_PAY_AMT3</th>\n",
       "      <th>OUT_PAY_AMT4</th>\n",
       "      <th>OUT_PAY_AMT5</th>\n",
       "      <th>OUT_PAY_AMT6</th>\n",
       "      <th>LIM_PAY_AMT6</th>\n",
       "    </tr>\n",
       "  </thead>\n",
       "  <tbody>\n",
       "    <tr>\n",
       "      <th>120</th>\n",
       "      <td>121</td>\n",
       "      <td>50000</td>\n",
       "      <td>1</td>\n",
       "      <td>3</td>\n",
       "      <td>2</td>\n",
       "      <td>37</td>\n",
       "      <td>2</td>\n",
       "      <td>2</td>\n",
       "      <td>2</td>\n",
       "      <td>3</td>\n",
       "      <td>...</td>\n",
       "      <td>2800</td>\n",
       "      <td>0</td>\n",
       "      <td>1</td>\n",
       "      <td>45004</td>\n",
       "      <td>41941</td>\n",
       "      <td>47953</td>\n",
       "      <td>47451</td>\n",
       "      <td>46518</td>\n",
       "      <td>51143</td>\n",
       "      <td>0</td>\n",
       "    </tr>\n",
       "    <tr>\n",
       "      <th>189</th>\n",
       "      <td>190</td>\n",
       "      <td>20000</td>\n",
       "      <td>2</td>\n",
       "      <td>2</td>\n",
       "      <td>2</td>\n",
       "      <td>31</td>\n",
       "      <td>1</td>\n",
       "      <td>5</td>\n",
       "      <td>4</td>\n",
       "      <td>4</td>\n",
       "      <td>...</td>\n",
       "      <td>760</td>\n",
       "      <td>0</td>\n",
       "      <td>0</td>\n",
       "      <td>21703</td>\n",
       "      <td>20087</td>\n",
       "      <td>21461</td>\n",
       "      <td>20835</td>\n",
       "      <td>19459</td>\n",
       "      <td>20487</td>\n",
       "      <td>0</td>\n",
       "    </tr>\n",
       "    <tr>\n",
       "      <th>388</th>\n",
       "      <td>389</td>\n",
       "      <td>150000</td>\n",
       "      <td>1</td>\n",
       "      <td>2</td>\n",
       "      <td>1</td>\n",
       "      <td>43</td>\n",
       "      <td>0</td>\n",
       "      <td>0</td>\n",
       "      <td>0</td>\n",
       "      <td>0</td>\n",
       "      <td>...</td>\n",
       "      <td>5700</td>\n",
       "      <td>5334</td>\n",
       "      <td>0</td>\n",
       "      <td>145349</td>\n",
       "      <td>147549</td>\n",
       "      <td>150823</td>\n",
       "      <td>153953</td>\n",
       "      <td>157166</td>\n",
       "      <td>152425</td>\n",
       "      <td>0</td>\n",
       "    </tr>\n",
       "    <tr>\n",
       "      <th>668</th>\n",
       "      <td>669</td>\n",
       "      <td>100000</td>\n",
       "      <td>2</td>\n",
       "      <td>3</td>\n",
       "      <td>1</td>\n",
       "      <td>35</td>\n",
       "      <td>1</td>\n",
       "      <td>2</td>\n",
       "      <td>2</td>\n",
       "      <td>2</td>\n",
       "      <td>...</td>\n",
       "      <td>8600</td>\n",
       "      <td>0</td>\n",
       "      <td>0</td>\n",
       "      <td>88802</td>\n",
       "      <td>102698</td>\n",
       "      <td>89997</td>\n",
       "      <td>103384</td>\n",
       "      <td>88666</td>\n",
       "      <td>101492</td>\n",
       "      <td>0</td>\n",
       "    </tr>\n",
       "    <tr>\n",
       "      <th>670</th>\n",
       "      <td>671</td>\n",
       "      <td>30000</td>\n",
       "      <td>2</td>\n",
       "      <td>2</td>\n",
       "      <td>2</td>\n",
       "      <td>34</td>\n",
       "      <td>2</td>\n",
       "      <td>0</td>\n",
       "      <td>2</td>\n",
       "      <td>2</td>\n",
       "      <td>...</td>\n",
       "      <td>0</td>\n",
       "      <td>3095</td>\n",
       "      <td>0</td>\n",
       "      <td>66568</td>\n",
       "      <td>-674</td>\n",
       "      <td>26030</td>\n",
       "      <td>35750</td>\n",
       "      <td>37662</td>\n",
       "      <td>33809</td>\n",
       "      <td>0</td>\n",
       "    </tr>\n",
       "  </tbody>\n",
       "</table>\n",
       "<p>5 rows × 32 columns</p>\n",
       "</div>"
      ],
      "text/plain": [
       "      ID  LIMIT_BAL  SEX  EDUCATION  MARRIAGE  AGE  PAY_0  PAY_2  PAY_3  \\\n",
       "120  121      50000    1          3         2   37      2      2      2   \n",
       "189  190      20000    2          2         2   31      1      5      4   \n",
       "388  389     150000    1          2         1   43      0      0      0   \n",
       "668  669     100000    2          3         1   35      1      2      2   \n",
       "670  671      30000    2          2         2   34      2      0      2   \n",
       "\n",
       "     PAY_4  ...  PAY_AMT5  PAY_AMT6  default payment next month  OUT_PAY_AMT1  \\\n",
       "120      3  ...      2800         0                           1         45004   \n",
       "189      4  ...       760         0                           0         21703   \n",
       "388      0  ...      5700      5334                           0        145349   \n",
       "668      2  ...      8600         0                           0         88802   \n",
       "670      2  ...         0      3095                           0         66568   \n",
       "\n",
       "     OUT_PAY_AMT2  OUT_PAY_AMT3  OUT_PAY_AMT4  OUT_PAY_AMT5  OUT_PAY_AMT6  \\\n",
       "120         41941         47953         47451         46518         51143   \n",
       "189         20087         21461         20835         19459         20487   \n",
       "388        147549        150823        153953        157166        152425   \n",
       "668        102698         89997        103384         88666        101492   \n",
       "670          -674         26030         35750         37662         33809   \n",
       "\n",
       "     LIM_PAY_AMT6  \n",
       "120             0  \n",
       "189             0  \n",
       "388             0  \n",
       "668             0  \n",
       "670             0  \n",
       "\n",
       "[5 rows x 32 columns]"
      ]
     },
     "execution_count": 259,
     "metadata": {},
     "output_type": "execute_result"
    }
   ],
   "source": [
    "df6.head()"
   ]
  },
  {
   "cell_type": "code",
   "execution_count": 260,
   "id": "bf9b9a99",
   "metadata": {},
   "outputs": [
    {
     "data": {
      "text/plain": [
       "array([0])"
      ]
     },
     "execution_count": 260,
     "metadata": {},
     "output_type": "execute_result"
    }
   ],
   "source": [
    "df6['LIM_PAY_AMT6'].unique()"
   ]
  },
  {
   "cell_type": "markdown",
   "id": "eca5c358",
   "metadata": {},
   "source": [
    "## Analysis based on Age"
   ]
  },
  {
   "cell_type": "code",
   "execution_count": 261,
   "id": "c0d9905b",
   "metadata": {},
   "outputs": [
    {
     "data": {
      "text/plain": [
       "24    27\n",
       "27    23\n",
       "30    20\n",
       "25    18\n",
       "34    18\n",
       "23    17\n",
       "37    16\n",
       "22    16\n",
       "32    15\n",
       "26    15\n",
       "39    15\n",
       "42    15\n",
       "33    13\n",
       "29    12\n",
       "28    12\n",
       "35    12\n",
       "36    12\n",
       "38    11\n",
       "47    10\n",
       "41    10\n",
       "31    10\n",
       "46     9\n",
       "44     6\n",
       "40     5\n",
       "43     5\n",
       "45     4\n",
       "53     4\n",
       "48     4\n",
       "56     3\n",
       "51     3\n",
       "52     3\n",
       "62     3\n",
       "21     2\n",
       "50     2\n",
       "59     1\n",
       "66     1\n",
       "61     1\n",
       "49     1\n",
       "60     1\n",
       "68     1\n",
       "55     1\n",
       "67     1\n",
       "Name: AGE, dtype: int64"
      ]
     },
     "execution_count": 261,
     "metadata": {},
     "output_type": "execute_result"
    }
   ],
   "source": [
    "df6['AGE'].value_counts()"
   ]
  },
  {
   "cell_type": "code",
   "execution_count": 264,
   "id": "e427e969",
   "metadata": {},
   "outputs": [
    {
     "data": {
      "text/plain": [
       "<seaborn.axisgrid.FacetGrid at 0x1ff8282be20>"
      ]
     },
     "execution_count": 264,
     "metadata": {},
     "output_type": "execute_result"
    },
    {
     "data": {
      "image/png": "[encoded data removed]",
      "text/plain": [
       "<Figure size 500x500 with 1 Axes>"
      ]
     },
     "metadata": {},
     "output_type": "display_data"
    }
   ],
   "source": [
    "sns.displot(df6['AGE'],kde=False,bins=5)"
   ]
  },
  {
   "cell_type": "code",
   "execution_count": 262,
   "id": "42cdfaa1",
   "metadata": {},
   "outputs": [
    {
     "data": {
      "text/plain": [
       "array([37, 31, 43, 35, 34, 42, 22, 24, 23, 46, 29, 55, 32, 44, 47, 27, 26,\n",
       "       53, 25, 49, 30, 40, 39, 38, 36, 28, 33, 41, 50, 51, 52, 45, 68, 56,\n",
       "       60, 62, 48, 59, 61, 66, 21, 67], dtype=int64)"
      ]
     },
     "execution_count": 262,
     "metadata": {},
     "output_type": "execute_result"
    }
   ],
   "source": [
    "df6['AGE'].unique()"
   ]
  },
  {
   "cell_type": "code",
   "execution_count": 263,
   "id": "d523af6c",
   "metadata": {},
   "outputs": [
    {
     "data": {
      "text/plain": [
       "(20, 30]    162\n",
       "(30, 40]    127\n",
       "(40, 50]     66\n",
       "(50, 60]     16\n",
       "(60, 70]      7\n",
       "(0, 20]       0\n",
       "(70, 80]      0\n",
       "Name: AGE, dtype: int64"
      ]
     },
     "execution_count": 263,
     "metadata": {},
     "output_type": "execute_result"
    }
   ],
   "source": [
    "pd.cut(df6['AGE'], [0, 20, 30, 40, 50, 60, 70, 80]).value_counts()"
   ]
  },
  {
   "cell_type": "markdown",
   "id": "9c7280f9",
   "metadata": {},
   "source": [
    "## Observation for April, 2005 (Analysis based on AGE)"
   ]
  },
  {
   "cell_type": "markdown",
   "id": "b21e77b5",
   "metadata": {},
   "source": [
    "The outstanding payment amount is found with the help of bill amount, BILL_AMT_6 and PAY_AMT_6. \n",
    "1. Total number of 378 customers exceeded their limit balance out of 30000 customers.\n",
    "\n",
    "Among the 378 customers, \n",
    "1. 162 customers in the age group of 20 - 30 exceeded the limit balance.\n",
    "2. 127 customers in the age group of 30 - 40 exceeded the limit balance.\n",
    "3. 66 customers in the age group of 40 - 50 exceeded the limit balance.\n",
    "4. 16 customers in the age group of 50 - 60 exceeded the limit balance.\n",
    "5. 7 customers in the age group of 60 - 70 exceeded the limit balance.\n",
    "\n",
    "It can be concluded that the youngsters within the age group of 20-30 is over using the card and exceeding the limit."
   ]
  },
  {
   "cell_type": "markdown",
   "id": "4a95ec89",
   "metadata": {},
   "source": [
    "## Analysis based on EDUCATION"
   ]
  },
  {
   "cell_type": "markdown",
   "id": "098e5e44",
   "metadata": {},
   "source": [
    "For Education the values and their explanation: \n",
    "1 = graduate school; \n",
    "2 = university; \n",
    "3 = high school; \n",
    "4 = others"
   ]
  },
  {
   "cell_type": "code",
   "execution_count": 265,
   "id": "480e82a0",
   "metadata": {},
   "outputs": [
    {
     "name": "stdout",
     "output_type": "stream",
     "text": [
      "<class 'pandas.core.series.Series'>\n",
      "Int64Index: 378 entries, 120 to 29976\n",
      "Series name: EDUCATION\n",
      "Non-Null Count  Dtype\n",
      "--------------  -----\n",
      "378 non-null    int64\n",
      "dtypes: int64(1)\n",
      "memory usage: 5.9 KB\n"
     ]
    }
   ],
   "source": [
    "df6['EDUCATION'].info()"
   ]
  },
  {
   "cell_type": "code",
   "execution_count": 266,
   "id": "119c5624",
   "metadata": {},
   "outputs": [
    {
     "data": {
      "text/plain": [
       "array([3, 2, 1, 5, 4], dtype=int64)"
      ]
     },
     "execution_count": 266,
     "metadata": {},
     "output_type": "execute_result"
    }
   ],
   "source": [
    "df6['EDUCATION'].unique()"
   ]
  },
  {
   "cell_type": "code",
   "execution_count": 267,
   "id": "3d3dd45e",
   "metadata": {},
   "outputs": [
    {
     "data": {
      "text/plain": [
       "2    237\n",
       "1     73\n",
       "3     64\n",
       "5      2\n",
       "4      2\n",
       "Name: EDUCATION, dtype: int64"
      ]
     },
     "execution_count": 267,
     "metadata": {},
     "output_type": "execute_result"
    }
   ],
   "source": [
    "df6['EDUCATION'].value_counts()"
   ]
  },
  {
   "cell_type": "code",
   "execution_count": 268,
   "id": "5e93898f",
   "metadata": {},
   "outputs": [
    {
     "data": {
      "text/plain": [
       "<seaborn.axisgrid.FacetGrid at 0x1ff876cb9d0>"
      ]
     },
     "execution_count": 268,
     "metadata": {},
     "output_type": "execute_result"
    },
    {
     "data": {
      "image/png": "[encoded data removed]",
      "text/plain": [
       "<Figure size 500x500 with 1 Axes>"
      ]
     },
     "metadata": {},
     "output_type": "display_data"
    }
   ],
   "source": [
    "sns.displot(df6['EDUCATION'],kde=False,bins=6)"
   ]
  },
  {
   "cell_type": "markdown",
   "id": "de2c4d09",
   "metadata": {},
   "source": [
    "## Observation for April, 2005 (Analysis based on EDUCATION)"
   ]
  },
  {
   "cell_type": "markdown",
   "id": "25cce7be",
   "metadata": {},
   "source": [
    "Among the 378 customers,\n",
    "1. 237 customers with university education background exceeded the limit balance.\n",
    "2. 73 customers with high school education background exceeded the limit balance.\n",
    "3. 64 customers with graduate school education background exceeded the limit balance.\n",
    "4. 2 customers with other education background exceeded the limit balance.\n",
    "\n",
    "Based on the education, it can be concluded that the customers with university education background is over using the card and not maintaining the credit limit."
   ]
  },
  {
   "cell_type": "code",
   "execution_count": 269,
   "id": "4fa743ce",
   "metadata": {},
   "outputs": [
    {
     "data": {
      "text/html": [
       "<div>\n",
       "<style scoped>\n",
       "    .dataframe tbody tr th:only-of-type {\n",
       "        vertical-align: middle;\n",
       "    }\n",
       "\n",
       "    .dataframe tbody tr th {\n",
       "        vertical-align: top;\n",
       "    }\n",
       "\n",
       "    .dataframe thead th {\n",
       "        text-align: right;\n",
       "    }\n",
       "</style>\n",
       "<table border=\"1\" class=\"dataframe\">\n",
       "  <thead>\n",
       "    <tr style=\"text-align: right;\">\n",
       "      <th></th>\n",
       "      <th>ID</th>\n",
       "      <th>LIMIT_BAL</th>\n",
       "      <th>SEX</th>\n",
       "      <th>EDUCATION</th>\n",
       "      <th>MARRIAGE</th>\n",
       "      <th>AGE</th>\n",
       "      <th>PAY_0</th>\n",
       "      <th>PAY_2</th>\n",
       "      <th>PAY_3</th>\n",
       "      <th>PAY_4</th>\n",
       "      <th>...</th>\n",
       "      <th>PAY_AMT5</th>\n",
       "      <th>PAY_AMT6</th>\n",
       "      <th>default payment next month</th>\n",
       "      <th>OUT_PAY_AMT1</th>\n",
       "      <th>OUT_PAY_AMT2</th>\n",
       "      <th>OUT_PAY_AMT3</th>\n",
       "      <th>OUT_PAY_AMT4</th>\n",
       "      <th>OUT_PAY_AMT5</th>\n",
       "      <th>OUT_PAY_AMT6</th>\n",
       "      <th>LIM_PAY_AMT6</th>\n",
       "    </tr>\n",
       "  </thead>\n",
       "  <tbody>\n",
       "    <tr>\n",
       "      <th>120</th>\n",
       "      <td>121</td>\n",
       "      <td>50000</td>\n",
       "      <td>1</td>\n",
       "      <td>3</td>\n",
       "      <td>2</td>\n",
       "      <td>37</td>\n",
       "      <td>2</td>\n",
       "      <td>2</td>\n",
       "      <td>2</td>\n",
       "      <td>3</td>\n",
       "      <td>...</td>\n",
       "      <td>2800</td>\n",
       "      <td>0</td>\n",
       "      <td>1</td>\n",
       "      <td>45004</td>\n",
       "      <td>41941</td>\n",
       "      <td>47953</td>\n",
       "      <td>47451</td>\n",
       "      <td>46518</td>\n",
       "      <td>51143</td>\n",
       "      <td>0</td>\n",
       "    </tr>\n",
       "    <tr>\n",
       "      <th>189</th>\n",
       "      <td>190</td>\n",
       "      <td>20000</td>\n",
       "      <td>2</td>\n",
       "      <td>2</td>\n",
       "      <td>2</td>\n",
       "      <td>31</td>\n",
       "      <td>1</td>\n",
       "      <td>5</td>\n",
       "      <td>4</td>\n",
       "      <td>4</td>\n",
       "      <td>...</td>\n",
       "      <td>760</td>\n",
       "      <td>0</td>\n",
       "      <td>0</td>\n",
       "      <td>21703</td>\n",
       "      <td>20087</td>\n",
       "      <td>21461</td>\n",
       "      <td>20835</td>\n",
       "      <td>19459</td>\n",
       "      <td>20487</td>\n",
       "      <td>0</td>\n",
       "    </tr>\n",
       "    <tr>\n",
       "      <th>388</th>\n",
       "      <td>389</td>\n",
       "      <td>150000</td>\n",
       "      <td>1</td>\n",
       "      <td>2</td>\n",
       "      <td>1</td>\n",
       "      <td>43</td>\n",
       "      <td>0</td>\n",
       "      <td>0</td>\n",
       "      <td>0</td>\n",
       "      <td>0</td>\n",
       "      <td>...</td>\n",
       "      <td>5700</td>\n",
       "      <td>5334</td>\n",
       "      <td>0</td>\n",
       "      <td>145349</td>\n",
       "      <td>147549</td>\n",
       "      <td>150823</td>\n",
       "      <td>153953</td>\n",
       "      <td>157166</td>\n",
       "      <td>152425</td>\n",
       "      <td>0</td>\n",
       "    </tr>\n",
       "    <tr>\n",
       "      <th>668</th>\n",
       "      <td>669</td>\n",
       "      <td>100000</td>\n",
       "      <td>2</td>\n",
       "      <td>3</td>\n",
       "      <td>1</td>\n",
       "      <td>35</td>\n",
       "      <td>1</td>\n",
       "      <td>2</td>\n",
       "      <td>2</td>\n",
       "      <td>2</td>\n",
       "      <td>...</td>\n",
       "      <td>8600</td>\n",
       "      <td>0</td>\n",
       "      <td>0</td>\n",
       "      <td>88802</td>\n",
       "      <td>102698</td>\n",
       "      <td>89997</td>\n",
       "      <td>103384</td>\n",
       "      <td>88666</td>\n",
       "      <td>101492</td>\n",
       "      <td>0</td>\n",
       "    </tr>\n",
       "    <tr>\n",
       "      <th>670</th>\n",
       "      <td>671</td>\n",
       "      <td>30000</td>\n",
       "      <td>2</td>\n",
       "      <td>2</td>\n",
       "      <td>2</td>\n",
       "      <td>34</td>\n",
       "      <td>2</td>\n",
       "      <td>0</td>\n",
       "      <td>2</td>\n",
       "      <td>2</td>\n",
       "      <td>...</td>\n",
       "      <td>0</td>\n",
       "      <td>3095</td>\n",
       "      <td>0</td>\n",
       "      <td>66568</td>\n",
       "      <td>-674</td>\n",
       "      <td>26030</td>\n",
       "      <td>35750</td>\n",
       "      <td>37662</td>\n",
       "      <td>33809</td>\n",
       "      <td>0</td>\n",
       "    </tr>\n",
       "  </tbody>\n",
       "</table>\n",
       "<p>5 rows × 32 columns</p>\n",
       "</div>"
      ],
      "text/plain": [
       "      ID  LIMIT_BAL  SEX  EDUCATION  MARRIAGE  AGE  PAY_0  PAY_2  PAY_3  \\\n",
       "120  121      50000    1          3         2   37      2      2      2   \n",
       "189  190      20000    2          2         2   31      1      5      4   \n",
       "388  389     150000    1          2         1   43      0      0      0   \n",
       "668  669     100000    2          3         1   35      1      2      2   \n",
       "670  671      30000    2          2         2   34      2      0      2   \n",
       "\n",
       "     PAY_4  ...  PAY_AMT5  PAY_AMT6  default payment next month  OUT_PAY_AMT1  \\\n",
       "120      3  ...      2800         0                           1         45004   \n",
       "189      4  ...       760         0                           0         21703   \n",
       "388      0  ...      5700      5334                           0        145349   \n",
       "668      2  ...      8600         0                           0         88802   \n",
       "670      2  ...         0      3095                           0         66568   \n",
       "\n",
       "     OUT_PAY_AMT2  OUT_PAY_AMT3  OUT_PAY_AMT4  OUT_PAY_AMT5  OUT_PAY_AMT6  \\\n",
       "120         41941         47953         47451         46518         51143   \n",
       "189         20087         21461         20835         19459         20487   \n",
       "388        147549        150823        153953        157166        152425   \n",
       "668        102698         89997        103384         88666        101492   \n",
       "670          -674         26030         35750         37662         33809   \n",
       "\n",
       "     LIM_PAY_AMT6  \n",
       "120             0  \n",
       "189             0  \n",
       "388             0  \n",
       "668             0  \n",
       "670             0  \n",
       "\n",
       "[5 rows x 32 columns]"
      ]
     },
     "execution_count": 269,
     "metadata": {},
     "output_type": "execute_result"
    }
   ],
   "source": [
    "df6.head()"
   ]
  },
  {
   "cell_type": "markdown",
   "id": "0ca7f487",
   "metadata": {},
   "source": [
    "## Analysis based on MARRIAGE"
   ]
  },
  {
   "cell_type": "code",
   "execution_count": 270,
   "id": "708cd3d5",
   "metadata": {},
   "outputs": [
    {
     "data": {
      "text/plain": [
       "array([2, 1, 3, 0], dtype=int64)"
      ]
     },
     "execution_count": 270,
     "metadata": {},
     "output_type": "execute_result"
    }
   ],
   "source": [
    "df6['MARRIAGE'].unique()"
   ]
  },
  {
   "cell_type": "code",
   "execution_count": 271,
   "id": "c26da56c",
   "metadata": {},
   "outputs": [
    {
     "data": {
      "text/plain": [
       "2    212\n",
       "1    161\n",
       "3      4\n",
       "0      1\n",
       "Name: MARRIAGE, dtype: int64"
      ]
     },
     "execution_count": 271,
     "metadata": {},
     "output_type": "execute_result"
    }
   ],
   "source": [
    "df6['MARRIAGE'].value_counts()"
   ]
  },
  {
   "cell_type": "code",
   "execution_count": null,
   "id": "629fcbd3",
   "metadata": {},
   "outputs": [],
   "source": [
    "sns.displot(df6['MARRIAGE'],kde=False,bins=3)"
   ]
  },
  {
   "cell_type": "markdown",
   "id": "38334bfa",
   "metadata": {},
   "source": [
    "## Observation for April, 2005 (Analysis based on MARRIAGE)"
   ]
  },
  {
   "cell_type": "markdown",
   "id": "052f11a9",
   "metadata": {},
   "source": [
    "Among the 378 customers,\n",
    "1. 212 customers with marriage status as single exceeded the limit balance.\n",
    "2. 161 customers with marriage status as married exceeded the limit balance.\n",
    "3. 4 customers with marriage status as others exceeded the limit balance.\n",
    "\n",
    "The single customers have over used the credit card and exceeded the credit limit when compared to married people."
   ]
  },
  {
   "cell_type": "markdown",
   "id": "d2c0abb2",
   "metadata": {},
   "source": [
    "## Analysis based on SEX"
   ]
  },
  {
   "cell_type": "code",
   "execution_count": 272,
   "id": "a6be44e9",
   "metadata": {},
   "outputs": [
    {
     "data": {
      "text/plain": [
       "array([1, 2], dtype=int64)"
      ]
     },
     "execution_count": 272,
     "metadata": {},
     "output_type": "execute_result"
    }
   ],
   "source": [
    "df6['SEX'].unique()"
   ]
  },
  {
   "cell_type": "code",
   "execution_count": 273,
   "id": "6de03a30",
   "metadata": {},
   "outputs": [
    {
     "data": {
      "text/plain": [
       "2    201\n",
       "1    177\n",
       "Name: SEX, dtype: int64"
      ]
     },
     "execution_count": 273,
     "metadata": {},
     "output_type": "execute_result"
    }
   ],
   "source": [
    "df6['SEX'].value_counts()"
   ]
  },
  {
   "cell_type": "code",
   "execution_count": 275,
   "id": "ab0a2962",
   "metadata": {},
   "outputs": [
    {
     "data": {
      "text/plain": [
       "<seaborn.axisgrid.FacetGrid at 0x1ff876d1f40>"
      ]
     },
     "execution_count": 275,
     "metadata": {},
     "output_type": "execute_result"
    },
    {
     "data": {
      "image/png": "[encoded data removed]",
      "text/plain": [
       "<Figure size 500x500 with 1 Axes>"
      ]
     },
     "metadata": {},
     "output_type": "display_data"
    }
   ],
   "source": [
    "sns.displot(df6['SEX'],kde=False,bins=2)"
   ]
  },
  {
   "cell_type": "markdown",
   "id": "6e57c206",
   "metadata": {},
   "source": [
    "## Observation for April, 2005 (Analysis based on SEX)"
   ]
  },
  {
   "cell_type": "markdown",
   "id": "a3e088e9",
   "metadata": {},
   "source": [
    "Among the 404 customers,\n",
    "1. 201 female customers exceeded the limit balance.\n",
    "2. 177 male customers exceeded the limit balance.\n",
    "\n",
    "More number of female customers overused the credit card than male customers and exceeded the credit limit."
   ]
  },
  {
   "cell_type": "code",
   "execution_count": 299,
   "id": "25c6829f",
   "metadata": {},
   "outputs": [],
   "source": [
    "df_default=df[['LIM_PAY_AMT1','LIM_PAY_AMT2','LIM_PAY_AMT3','LIM_PAY_AMT4','LIM_PAY_AMT5','LIM_PAY_AMT6']].copy()"
   ]
  },
  {
   "cell_type": "code",
   "execution_count": 300,
   "id": "6cce2982",
   "metadata": {},
   "outputs": [
    {
     "data": {
      "text/plain": [
       "(30000, 6)"
      ]
     },
     "execution_count": 300,
     "metadata": {},
     "output_type": "execute_result"
    }
   ],
   "source": [
    "df_default.shape"
   ]
  },
  {
   "cell_type": "code",
   "execution_count": 289,
   "id": "a64871d9",
   "metadata": {},
   "outputs": [
    {
     "data": {
      "text/html": [
       "<div>\n",
       "<style scoped>\n",
       "    .dataframe tbody tr th:only-of-type {\n",
       "        vertical-align: middle;\n",
       "    }\n",
       "\n",
       "    .dataframe tbody tr th {\n",
       "        vertical-align: top;\n",
       "    }\n",
       "\n",
       "    .dataframe thead th {\n",
       "        text-align: right;\n",
       "    }\n",
       "</style>\n",
       "<table border=\"1\" class=\"dataframe\">\n",
       "  <thead>\n",
       "    <tr style=\"text-align: right;\">\n",
       "      <th></th>\n",
       "      <th>LIM_PAY_AMT1</th>\n",
       "      <th>LIM_PAY_AMT2</th>\n",
       "      <th>LIM_PAY_AMT3</th>\n",
       "      <th>LIM_PAY_AMT4</th>\n",
       "      <th>LIM_PAY_AMT5</th>\n",
       "      <th>LIM_PAY_AMT6</th>\n",
       "    </tr>\n",
       "  </thead>\n",
       "  <tbody>\n",
       "    <tr>\n",
       "      <th>0</th>\n",
       "      <td>1</td>\n",
       "      <td>1</td>\n",
       "      <td>1</td>\n",
       "      <td>1</td>\n",
       "      <td>1</td>\n",
       "      <td>1</td>\n",
       "    </tr>\n",
       "    <tr>\n",
       "      <th>1</th>\n",
       "      <td>1</td>\n",
       "      <td>1</td>\n",
       "      <td>1</td>\n",
       "      <td>1</td>\n",
       "      <td>1</td>\n",
       "      <td>1</td>\n",
       "    </tr>\n",
       "    <tr>\n",
       "      <th>2</th>\n",
       "      <td>1</td>\n",
       "      <td>1</td>\n",
       "      <td>1</td>\n",
       "      <td>1</td>\n",
       "      <td>1</td>\n",
       "      <td>1</td>\n",
       "    </tr>\n",
       "    <tr>\n",
       "      <th>3</th>\n",
       "      <td>1</td>\n",
       "      <td>1</td>\n",
       "      <td>1</td>\n",
       "      <td>1</td>\n",
       "      <td>1</td>\n",
       "      <td>1</td>\n",
       "    </tr>\n",
       "    <tr>\n",
       "      <th>4</th>\n",
       "      <td>1</td>\n",
       "      <td>1</td>\n",
       "      <td>1</td>\n",
       "      <td>1</td>\n",
       "      <td>1</td>\n",
       "      <td>1</td>\n",
       "    </tr>\n",
       "  </tbody>\n",
       "</table>\n",
       "</div>"
      ],
      "text/plain": [
       "   LIM_PAY_AMT1  LIM_PAY_AMT2  LIM_PAY_AMT3  LIM_PAY_AMT4  LIM_PAY_AMT5  \\\n",
       "0             1             1             1             1             1   \n",
       "1             1             1             1             1             1   \n",
       "2             1             1             1             1             1   \n",
       "3             1             1             1             1             1   \n",
       "4             1             1             1             1             1   \n",
       "\n",
       "   LIM_PAY_AMT6  \n",
       "0             1  \n",
       "1             1  \n",
       "2             1  \n",
       "3             1  \n",
       "4             1  "
      ]
     },
     "execution_count": 289,
     "metadata": {},
     "output_type": "execute_result"
    }
   ],
   "source": [
    "df_default.head()"
   ]
  },
  {
   "cell_type": "code",
   "execution_count": 302,
   "id": "bc4d0edd",
   "metadata": {},
   "outputs": [],
   "source": [
    "df_def=df[(df['LIM_PAY_AMT1']==0) & (df['LIM_PAY_AMT2']==0) & (df['LIM_PAY_AMT3']==0) & (df['LIM_PAY_AMT4']==0) & (df['LIM_PAY_AMT5']==0) & (df['LIM_PAY_AMT6']==0)]"
   ]
  },
  {
   "cell_type": "code",
   "execution_count": 303,
   "id": "13da87a5",
   "metadata": {},
   "outputs": [
    {
     "data": {
      "text/plain": [
       "(55, 37)"
      ]
     },
     "execution_count": 303,
     "metadata": {},
     "output_type": "execute_result"
    }
   ],
   "source": [
    "df_def.shape"
   ]
  },
  {
   "cell_type": "code",
   "execution_count": 304,
   "id": "91fd7e2a",
   "metadata": {},
   "outputs": [
    {
     "data": {
      "text/html": [
       "<div>\n",
       "<style scoped>\n",
       "    .dataframe tbody tr th:only-of-type {\n",
       "        vertical-align: middle;\n",
       "    }\n",
       "\n",
       "    .dataframe tbody tr th {\n",
       "        vertical-align: top;\n",
       "    }\n",
       "\n",
       "    .dataframe thead th {\n",
       "        text-align: right;\n",
       "    }\n",
       "</style>\n",
       "<table border=\"1\" class=\"dataframe\">\n",
       "  <thead>\n",
       "    <tr style=\"text-align: right;\">\n",
       "      <th></th>\n",
       "      <th>ID</th>\n",
       "      <th>LIMIT_BAL</th>\n",
       "      <th>SEX</th>\n",
       "      <th>EDUCATION</th>\n",
       "      <th>MARRIAGE</th>\n",
       "      <th>AGE</th>\n",
       "      <th>PAY_0</th>\n",
       "      <th>PAY_2</th>\n",
       "      <th>PAY_3</th>\n",
       "      <th>PAY_4</th>\n",
       "      <th>...</th>\n",
       "      <th>OUT_PAY_AMT3</th>\n",
       "      <th>OUT_PAY_AMT4</th>\n",
       "      <th>OUT_PAY_AMT5</th>\n",
       "      <th>OUT_PAY_AMT6</th>\n",
       "      <th>LIM_PAY_AMT1</th>\n",
       "      <th>LIM_PAY_AMT2</th>\n",
       "      <th>LIM_PAY_AMT3</th>\n",
       "      <th>LIM_PAY_AMT4</th>\n",
       "      <th>LIM_PAY_AMT5</th>\n",
       "      <th>LIM_PAY_AMT6</th>\n",
       "    </tr>\n",
       "  </thead>\n",
       "  <tbody>\n",
       "    <tr>\n",
       "      <th>831</th>\n",
       "      <td>832</td>\n",
       "      <td>20000</td>\n",
       "      <td>2</td>\n",
       "      <td>3</td>\n",
       "      <td>1</td>\n",
       "      <td>24</td>\n",
       "      <td>8</td>\n",
       "      <td>7</td>\n",
       "      <td>6</td>\n",
       "      <td>5</td>\n",
       "      <td>...</td>\n",
       "      <td>23353</td>\n",
       "      <td>22719</td>\n",
       "      <td>21796</td>\n",
       "      <td>21162</td>\n",
       "      <td>0</td>\n",
       "      <td>0</td>\n",
       "      <td>0</td>\n",
       "      <td>0</td>\n",
       "      <td>0</td>\n",
       "      <td>0</td>\n",
       "    </tr>\n",
       "    <tr>\n",
       "      <th>869</th>\n",
       "      <td>870</td>\n",
       "      <td>290000</td>\n",
       "      <td>2</td>\n",
       "      <td>2</td>\n",
       "      <td>2</td>\n",
       "      <td>34</td>\n",
       "      <td>0</td>\n",
       "      <td>0</td>\n",
       "      <td>0</td>\n",
       "      <td>0</td>\n",
       "      <td>...</td>\n",
       "      <td>303069</td>\n",
       "      <td>306543</td>\n",
       "      <td>303789</td>\n",
       "      <td>293467</td>\n",
       "      <td>0</td>\n",
       "      <td>0</td>\n",
       "      <td>0</td>\n",
       "      <td>0</td>\n",
       "      <td>0</td>\n",
       "      <td>0</td>\n",
       "    </tr>\n",
       "    <tr>\n",
       "      <th>918</th>\n",
       "      <td>919</td>\n",
       "      <td>240000</td>\n",
       "      <td>1</td>\n",
       "      <td>1</td>\n",
       "      <td>2</td>\n",
       "      <td>46</td>\n",
       "      <td>0</td>\n",
       "      <td>0</td>\n",
       "      <td>0</td>\n",
       "      <td>0</td>\n",
       "      <td>...</td>\n",
       "      <td>383612</td>\n",
       "      <td>371295</td>\n",
       "      <td>344206</td>\n",
       "      <td>340257</td>\n",
       "      <td>0</td>\n",
       "      <td>0</td>\n",
       "      <td>0</td>\n",
       "      <td>0</td>\n",
       "      <td>0</td>\n",
       "      <td>0</td>\n",
       "    </tr>\n",
       "    <tr>\n",
       "      <th>981</th>\n",
       "      <td>982</td>\n",
       "      <td>30000</td>\n",
       "      <td>1</td>\n",
       "      <td>2</td>\n",
       "      <td>2</td>\n",
       "      <td>29</td>\n",
       "      <td>8</td>\n",
       "      <td>7</td>\n",
       "      <td>6</td>\n",
       "      <td>5</td>\n",
       "      <td>...</td>\n",
       "      <td>33165</td>\n",
       "      <td>32391</td>\n",
       "      <td>31332</td>\n",
       "      <td>30558</td>\n",
       "      <td>0</td>\n",
       "      <td>0</td>\n",
       "      <td>0</td>\n",
       "      <td>0</td>\n",
       "      <td>0</td>\n",
       "      <td>0</td>\n",
       "    </tr>\n",
       "    <tr>\n",
       "      <th>1454</th>\n",
       "      <td>1455</td>\n",
       "      <td>30000</td>\n",
       "      <td>1</td>\n",
       "      <td>2</td>\n",
       "      <td>2</td>\n",
       "      <td>26</td>\n",
       "      <td>0</td>\n",
       "      <td>0</td>\n",
       "      <td>0</td>\n",
       "      <td>0</td>\n",
       "      <td>...</td>\n",
       "      <td>30906</td>\n",
       "      <td>30867</td>\n",
       "      <td>30467</td>\n",
       "      <td>30058</td>\n",
       "      <td>0</td>\n",
       "      <td>0</td>\n",
       "      <td>0</td>\n",
       "      <td>0</td>\n",
       "      <td>0</td>\n",
       "      <td>0</td>\n",
       "    </tr>\n",
       "  </tbody>\n",
       "</table>\n",
       "<p>5 rows × 37 columns</p>\n",
       "</div>"
      ],
      "text/plain": [
       "        ID  LIMIT_BAL  SEX  EDUCATION  MARRIAGE  AGE  PAY_0  PAY_2  PAY_3  \\\n",
       "831    832      20000    2          3         1   24      8      7      6   \n",
       "869    870     290000    2          2         2   34      0      0      0   \n",
       "918    919     240000    1          1         2   46      0      0      0   \n",
       "981    982      30000    1          2         2   29      8      7      6   \n",
       "1454  1455      30000    1          2         2   26      0      0      0   \n",
       "\n",
       "      PAY_4  ...  OUT_PAY_AMT3  OUT_PAY_AMT4  OUT_PAY_AMT5  OUT_PAY_AMT6  \\\n",
       "831       5  ...         23353         22719         21796         21162   \n",
       "869       0  ...        303069        306543        303789        293467   \n",
       "918       0  ...        383612        371295        344206        340257   \n",
       "981       5  ...         33165         32391         31332         30558   \n",
       "1454      0  ...         30906         30867         30467         30058   \n",
       "\n",
       "      LIM_PAY_AMT1  LIM_PAY_AMT2  LIM_PAY_AMT3  LIM_PAY_AMT4  LIM_PAY_AMT5  \\\n",
       "831              0             0             0             0             0   \n",
       "869              0             0             0             0             0   \n",
       "918              0             0             0             0             0   \n",
       "981              0             0             0             0             0   \n",
       "1454             0             0             0             0             0   \n",
       "\n",
       "      LIM_PAY_AMT6  \n",
       "831              0  \n",
       "869              0  \n",
       "918              0  \n",
       "981              0  \n",
       "1454             0  \n",
       "\n",
       "[5 rows x 37 columns]"
      ]
     },
     "execution_count": 304,
     "metadata": {},
     "output_type": "execute_result"
    }
   ],
   "source": [
    "df_def.head()"
   ]
  },
  {
   "cell_type": "code",
   "execution_count": 305,
   "id": "6f48dbc6",
   "metadata": {},
   "outputs": [
    {
     "data": {
      "text/plain": [
       "array([0])"
      ]
     },
     "execution_count": 305,
     "metadata": {},
     "output_type": "execute_result"
    }
   ],
   "source": [
    "df_def['LIM_PAY_AMT1'].unique()"
   ]
  },
  {
   "cell_type": "code",
   "execution_count": 306,
   "id": "4a731b1d",
   "metadata": {},
   "outputs": [
    {
     "data": {
      "text/plain": [
       "array([0])"
      ]
     },
     "execution_count": 306,
     "metadata": {},
     "output_type": "execute_result"
    }
   ],
   "source": [
    "df_def['LIM_PAY_AMT2'].unique()"
   ]
  },
  {
   "cell_type": "code",
   "execution_count": 307,
   "id": "69a857cc",
   "metadata": {},
   "outputs": [
    {
     "data": {
      "text/plain": [
       "array([0])"
      ]
     },
     "execution_count": 307,
     "metadata": {},
     "output_type": "execute_result"
    }
   ],
   "source": [
    "df_def['LIM_PAY_AMT3'].unique()"
   ]
  },
  {
   "cell_type": "code",
   "execution_count": 308,
   "id": "499731f8",
   "metadata": {},
   "outputs": [
    {
     "data": {
      "text/plain": [
       "array([0])"
      ]
     },
     "execution_count": 308,
     "metadata": {},
     "output_type": "execute_result"
    }
   ],
   "source": [
    "df_def['LIM_PAY_AMT4'].unique()"
   ]
  },
  {
   "cell_type": "code",
   "execution_count": 309,
   "id": "5d973dda",
   "metadata": {},
   "outputs": [
    {
     "data": {
      "text/plain": [
       "array([0])"
      ]
     },
     "execution_count": 309,
     "metadata": {},
     "output_type": "execute_result"
    }
   ],
   "source": [
    "df_def['LIM_PAY_AMT5'].unique()"
   ]
  },
  {
   "cell_type": "code",
   "execution_count": 310,
   "id": "41afbeac",
   "metadata": {},
   "outputs": [
    {
     "data": {
      "text/plain": [
       "array([0])"
      ]
     },
     "execution_count": 310,
     "metadata": {},
     "output_type": "execute_result"
    }
   ],
   "source": [
    "df_def['LIM_PAY_AMT6'].unique()"
   ]
  },
  {
   "cell_type": "markdown",
   "id": "782b981c",
   "metadata": {},
   "source": [
    "## Observation for customers who fall under credit card default"
   ]
  },
  {
   "cell_type": "markdown",
   "id": "2139ac7b",
   "metadata": {},
   "source": [
    "The customer listed in dataframe, df_def falls under credit card default category because for the all 6 months taken for consideration they crossed the limit balance of credit card and over used it."
   ]
  },
  {
   "cell_type": "code",
   "execution_count": null,
   "id": "f868d317",
   "metadata": {},
   "outputs": [],
   "source": []
  }
 ],
 "metadata": {
  "kernelspec": {
   "display_name": "Python 3 (ipykernel)",
   "language": "python",
   "name": "python3"
  },
  "language_info": {
   "codemirror_mode": {
    "name": "ipython",
    "version": 3
   },
   "file_extension": ".py",
   "mimetype": "text/x-python",
   "name": "python",
   "nbconvert_exporter": "python",
   "pygments_lexer": "ipython3",
   "version": "3.9.13"
  }
 },
 "nbformat": 4,
 "nbformat_minor": 5
}
